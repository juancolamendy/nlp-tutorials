{
 "cells": [
  {
   "cell_type": "code",
   "execution_count": 1,
   "id": "3b784b69-2765-4cc2-91f3-fb9a768bdb0d",
   "metadata": {},
   "outputs": [],
   "source": [
    "# import load_dotenv\n",
    "from dotenv import load_dotenv"
   ]
  },
  {
   "cell_type": "code",
   "execution_count": 2,
   "id": "39dee87a-920d-4b9d-8d01-98853fcdac51",
   "metadata": {},
   "outputs": [
    {
     "data": {
      "text/plain": [
       "True"
      ]
     },
     "execution_count": 2,
     "metadata": {},
     "output_type": "execute_result"
    }
   ],
   "source": [
    "# load env\n",
    "load_dotenv()"
   ]
  },
  {
   "cell_type": "code",
   "execution_count": 3,
   "id": "2f17bf89-05e0-48a9-8093-d01937cdb053",
   "metadata": {},
   "outputs": [
    {
     "name": "stderr",
     "output_type": "stream",
     "text": [
      "/Users/jcolamendy/python/tutorials/nlp-tutorials/venv/lib/python3.9/site-packages/urllib3/__init__.py:35: NotOpenSSLWarning: urllib3 v2 only supports OpenSSL 1.1.1+, currently the 'ssl' module is compiled with 'LibreSSL 2.8.3'. See: https://github.com/urllib3/urllib3/issues/3020\n",
      "  warnings.warn(\n"
     ]
    },
    {
     "name": "stdout",
     "output_type": "stream",
     "text": [
      "search\n",
      "search(query: str) -> str - Look up things online.\n",
      "{'query': {'title': 'Query', 'type': 'string'}}\n"
     ]
    }
   ],
   "source": [
    "from langchain_core.tools import tool\n",
    "\n",
    "@tool\n",
    "def search(query: str) -> str:\n",
    "    \"\"\"Look up things online.\"\"\"\n",
    "    return \"LangChain\"\n",
    "\n",
    "# print out\n",
    "print(search.name)\n",
    "print(search.description)\n",
    "print(search.args)"
   ]
  },
  {
   "cell_type": "code",
   "execution_count": 4,
   "id": "ee4b9fb7-3906-4e80-b4b2-4615c9802890",
   "metadata": {},
   "outputs": [
    {
     "name": "stdout",
     "output_type": "stream",
     "text": [
      "multiply\n",
      "multiply(first_int: int, second_int: int) -> int - Multiply two integers together.\n",
      "{'first_int': {'title': 'First Int', 'type': 'integer'}, 'second_int': {'title': 'Second Int', 'type': 'integer'}}\n"
     ]
    }
   ],
   "source": [
    "from langchain_core.tools import tool\n",
    "\n",
    "@tool\n",
    "def multiply(first_int: int, second_int: int) -> int:\n",
    "    \"\"\"Multiply two integers together.\"\"\"\n",
    "    return first_int * second_int\n",
    "\n",
    "print(multiply.name)\n",
    "print(multiply.description)\n",
    "print(multiply.args)"
   ]
  },
  {
   "cell_type": "code",
   "execution_count": 5,
   "id": "215a9003-ddb4-49e6-90f1-321af1c2b626",
   "metadata": {},
   "outputs": [
    {
     "data": {
      "text/plain": [
       "20"
      ]
     },
     "execution_count": 5,
     "metadata": {},
     "output_type": "execute_result"
    }
   ],
   "source": [
    "multiply.invoke({\"first_int\": 4, \"second_int\": 5})"
   ]
  },
  {
   "cell_type": "code",
   "execution_count": 7,
   "id": "66e464b3-5c57-4a7a-9384-cf6329c2397a",
   "metadata": {},
   "outputs": [],
   "source": [
    "# OpenAI\n",
    "from langchain_openai import ChatOpenAI\n",
    "\n",
    "llm = ChatOpenAI(model=\"gpt-3.5-turbo-0125\")\n",
    "\n",
    "# use bind_tools to pass the definition of our tool in as part of each call to the model\n",
    "# so that the model can invoke the tool when appropriate\n",
    "llm_with_tools = llm.bind_tools([multiply])"
   ]
  },
  {
   "cell_type": "code",
   "execution_count": 8,
   "id": "446d9c9d-9c94-45bb-8c0b-db8017f4f4b7",
   "metadata": {},
   "outputs": [
    {
     "name": "stdout",
     "output_type": "stream",
     "text": [
      "<class 'langchain_core.messages.ai.AIMessage'>\n",
      "content='' additional_kwargs={'tool_calls': [{'id': 'call_LIUocLanJ4DHoyMGJiZqSGss', 'function': {'arguments': '{\"first_int\":5,\"second_int\":42}', 'name': 'multiply'}, 'type': 'function'}]} response_metadata={'token_usage': {'completion_tokens': 19, 'prompt_tokens': 69, 'total_tokens': 88}, 'model_name': 'gpt-3.5-turbo-0125', 'system_fingerprint': 'fp_3b956da36b', 'finish_reason': 'tool_calls', 'logprobs': None} id='run-aedc3261-58ab-402d-b3a8-6434134b16a0-0' tool_calls=[{'name': 'multiply', 'args': {'first_int': 5, 'second_int': 42}, 'id': 'call_LIUocLanJ4DHoyMGJiZqSGss'}]\n",
      "[{'name': 'multiply', 'args': {'first_int': 5, 'second_int': 42}, 'id': 'call_LIUocLanJ4DHoyMGJiZqSGss'}]\n"
     ]
    }
   ],
   "source": [
    "# When the model invokes the tool, this will show up in the AIMessage.tool_calls attribute of the output\n",
    "msg = llm_with_tools.invoke(\"whats 5 times forty two\")\n",
    "print(type(msg))\n",
    "print(msg)\n",
    "print(msg.tool_calls)"
   ]
  },
  {
   "cell_type": "code",
   "execution_count": 9,
   "id": "66feb5b0-a2b9-4b7d-8392-542752e950c3",
   "metadata": {},
   "outputs": [
    {
     "data": {
      "text/plain": [
       "92"
      ]
     },
     "execution_count": 9,
     "metadata": {},
     "output_type": "execute_result"
    }
   ],
   "source": [
    "from operator import itemgetter\n",
    "\n",
    "chain = llm_with_tools | (lambda x: x.tool_calls[0][\"args\"]) | multiply\n",
    "chain.invoke(\"What's four times 23\")"
   ]
  },
  {
   "cell_type": "code",
   "execution_count": 10,
   "id": "806b03d5-ab44-4801-9191-499c5bd16856",
   "metadata": {},
   "outputs": [
    {
     "name": "stdout",
     "output_type": "stream",
     "text": [
      "<class 'langchain_core.messages.ai.AIMessage'>\n",
      "content='A neural network is a computational model inspired by the structure and function of the human brain. It consists of interconnected nodes, called neurons, that work together to process information and make decisions. Neural networks are commonly used in machine learning and artificial intelligence applications for tasks such as pattern recognition, classification, and prediction. Each neuron in a neural network receives input, processes it using an activation function, and produces an output that is passed on to other neurons. By adjusting the connections between neurons and the weights associated with those connections, neural networks can learn from data and improve their performance over time.' response_metadata={'token_usage': {'completion_tokens': 117, 'prompt_tokens': 68, 'total_tokens': 185}, 'model_name': 'gpt-3.5-turbo-0125', 'system_fingerprint': 'fp_3b956da36b', 'finish_reason': 'stop', 'logprobs': None} id='run-71ca34df-9839-442f-8e15-5262a57b4bef-0'\n",
      "[]\n"
     ]
    }
   ],
   "source": [
    "msg = llm_with_tools.invoke(\"what is a neural network?\")\n",
    "print(type(msg))\n",
    "print(msg)\n",
    "print(msg.tool_calls)"
   ]
  }
 ],
 "metadata": {
  "kernelspec": {
   "display_name": "Python 3 (ipykernel)",
   "language": "python",
   "name": "python3"
  },
  "language_info": {
   "codemirror_mode": {
    "name": "ipython",
    "version": 3
   },
   "file_extension": ".py",
   "mimetype": "text/x-python",
   "name": "python",
   "nbconvert_exporter": "python",
   "pygments_lexer": "ipython3",
   "version": "3.9.6"
  }
 },
 "nbformat": 4,
 "nbformat_minor": 5
}
