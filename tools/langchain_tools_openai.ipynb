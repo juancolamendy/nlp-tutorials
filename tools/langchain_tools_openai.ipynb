{
 "cells": [
  {
   "cell_type": "code",
   "execution_count": 1,
   "id": "3b784b69-2765-4cc2-91f3-fb9a768bdb0d",
   "metadata": {},
   "outputs": [],
   "source": [
    "# import load_dotenv\n",
    "from dotenv import load_dotenv"
   ]
  },
  {
   "cell_type": "code",
   "execution_count": 2,
   "id": "39dee87a-920d-4b9d-8d01-98853fcdac51",
   "metadata": {},
   "outputs": [
    {
     "data": {
      "text/plain": [
       "True"
      ]
     },
     "execution_count": 2,
     "metadata": {},
     "output_type": "execute_result"
    }
   ],
   "source": [
    "# load env\n",
    "load_dotenv()"
   ]
  },
  {
   "cell_type": "code",
   "execution_count": 4,
   "id": "2f17bf89-05e0-48a9-8093-d01937cdb053",
   "metadata": {},
   "outputs": [
    {
     "name": "stdout",
     "output_type": "stream",
     "text": [
      "search\n",
      "search(query: str) -> str - Look up things online.\n",
      "{'query': {'title': 'Query', 'type': 'string'}}\n"
     ]
    }
   ],
   "source": [
    "from langchain_core.tools import tool\n",
    "\n",
    "@tool\n",
    "def search(query: str) -> str:\n",
    "    \"\"\"Look up things online.\"\"\"\n",
    "    return \"LangChain\"\n",
    "\n",
    "# print out\n",
    "print(search.name)\n",
    "print(search.description)\n",
    "print(search.args)"
   ]
  },
  {
   "cell_type": "code",
   "execution_count": 19,
   "id": "ee4b9fb7-3906-4e80-b4b2-4615c9802890",
   "metadata": {},
   "outputs": [
    {
     "name": "stdout",
     "output_type": "stream",
     "text": [
      "multiply\n",
      "multiply(first_int: int, second_int: int) -> int - Multiply two integers together.\n",
      "{'first_int': {'title': 'First Int', 'type': 'integer'}, 'second_int': {'title': 'Second Int', 'type': 'integer'}}\n"
     ]
    }
   ],
   "source": [
    "from langchain_core.tools import tool\n",
    "\n",
    "@tool\n",
    "def multiply(first_int: int, second_int: int) -> int:\n",
    "    \"\"\"Multiply two integers together.\"\"\"\n",
    "    return first_int * second_int\n",
    "\n",
    "@tool\n",
    "def add(first_int: int, second_int: int) -> int:\n",
    "    \"Add two integers.\"\n",
    "    return first_int + second_int\n",
    "\n",
    "@tool\n",
    "def exponentiate(base: int, exponent: int) -> int:\n",
    "    \"Exponentiate the base to the exponent power.\"\n",
    "    return base**exponent\n",
    "\n",
    "print(multiply.name)\n",
    "print(multiply.description)\n",
    "print(multiply.args)"
   ]
  },
  {
   "cell_type": "code",
   "execution_count": 20,
   "id": "215a9003-ddb4-49e6-90f1-321af1c2b626",
   "metadata": {},
   "outputs": [
    {
     "data": {
      "text/plain": [
       "20"
      ]
     },
     "execution_count": 20,
     "metadata": {},
     "output_type": "execute_result"
    }
   ],
   "source": [
    "multiply.invoke({\"first_int\": 4, \"second_int\": 5})"
   ]
  },
  {
   "cell_type": "code",
   "execution_count": 21,
   "id": "66e464b3-5c57-4a7a-9384-cf6329c2397a",
   "metadata": {},
   "outputs": [],
   "source": [
    "# OpenAI\n",
    "from langchain_openai import ChatOpenAI\n",
    "\n",
    "llm = ChatOpenAI(model=\"gpt-3.5-turbo-0125\")"
   ]
  },
  {
   "cell_type": "code",
   "execution_count": 22,
   "id": "5a29a387-6e65-42fb-99b3-ce372640fb85",
   "metadata": {},
   "outputs": [],
   "source": [
    "# use bind_tools to pass the definition of our tool in as part of each call to the model\n",
    "# so that the model can invoke the tool when appropriate\n",
    "tools = [multiply, exponentiate, add]\n",
    "llm_with_tools = llm.bind_tools(tools)"
   ]
  },
  {
   "cell_type": "code",
   "execution_count": 23,
   "id": "446d9c9d-9c94-45bb-8c0b-db8017f4f4b7",
   "metadata": {},
   "outputs": [
    {
     "name": "stdout",
     "output_type": "stream",
     "text": [
      "<class 'langchain_core.messages.ai.AIMessage'>\n",
      "content='' additional_kwargs={'tool_calls': [{'id': 'call_pjgAbGlkJFQWL5TyL5kXDSs8', 'function': {'arguments': '{\"first_int\":5,\"second_int\":42}', 'name': 'multiply'}, 'type': 'function'}]} response_metadata={'token_usage': {'completion_tokens': 19, 'prompt_tokens': 149, 'total_tokens': 168}, 'model_name': 'gpt-3.5-turbo-0125', 'system_fingerprint': 'fp_3b956da36b', 'finish_reason': 'tool_calls', 'logprobs': None} id='run-1c662293-8a91-466d-a2ab-21d87118acef-0' tool_calls=[{'name': 'multiply', 'args': {'first_int': 5, 'second_int': 42}, 'id': 'call_pjgAbGlkJFQWL5TyL5kXDSs8'}]\n",
      "[{'name': 'multiply', 'args': {'first_int': 5, 'second_int': 42}, 'id': 'call_pjgAbGlkJFQWL5TyL5kXDSs8'}]\n"
     ]
    }
   ],
   "source": [
    "# When the model invokes the tool, this will show up in the AIMessage.tool_calls attribute of the output\n",
    "msg = llm_with_tools.invoke(\"whats 5 times forty two\")\n",
    "print(type(msg))\n",
    "print(msg)\n",
    "print(msg.tool_calls)"
   ]
  },
  {
   "cell_type": "code",
   "execution_count": 9,
   "id": "66feb5b0-a2b9-4b7d-8392-542752e950c3",
   "metadata": {},
   "outputs": [
    {
     "data": {
      "text/plain": [
       "92"
      ]
     },
     "execution_count": 9,
     "metadata": {},
     "output_type": "execute_result"
    }
   ],
   "source": []
  },
  {
   "cell_type": "code",
   "execution_count": 24,
   "id": "806b03d5-ab44-4801-9191-499c5bd16856",
   "metadata": {},
   "outputs": [
    {
     "name": "stdout",
     "output_type": "stream",
     "text": [
      "<class 'langchain_core.messages.ai.AIMessage'>\n",
      "content=\"A neural network is a type of artificial intelligence (AI) algorithm modeled after the human brain's neural network structure. It consists of interconnected nodes, called neurons, that work together to process and analyze complex data. Neural networks are capable of learning from data, identifying patterns, and making decisions without being explicitly programmed.\\n\\nNeural networks are commonly used in various applications, such as image recognition, natural language processing, speech recognition, and many other fields where complex pattern recognition and decision-making are required. The structure of a neural network typically includes input nodes, hidden layers, and output nodes, with each layer performing specific computations to transform the input data into meaningful output.\\n\\nOverall, neural networks are a powerful tool in machine learning and AI, enabling machines to perform tasks that mimic human cognitive functions.\" response_metadata={'token_usage': {'completion_tokens': 157, 'prompt_tokens': 148, 'total_tokens': 305}, 'model_name': 'gpt-3.5-turbo-0125', 'system_fingerprint': 'fp_3b956da36b', 'finish_reason': 'stop', 'logprobs': None} id='run-26612c90-400d-4ede-ad26-d81d78135de0-0'\n",
      "[]\n"
     ]
    }
   ],
   "source": [
    "msg = llm_with_tools.invoke(\"what is a neural network?\")\n",
    "print(type(msg))\n",
    "print(msg)\n",
    "print(msg.tool_calls)"
   ]
  },
  {
   "cell_type": "code",
   "execution_count": 26,
   "id": "9dd81a0c-331e-4540-8cb8-f12e57f1c44a",
   "metadata": {},
   "outputs": [
    {
     "name": "stdout",
     "output_type": "stream",
     "text": [
      "<class 'langchain_core.messages.ai.AIMessage'>\n",
      "content='' additional_kwargs={'tool_calls': [{'id': 'call_GRHcyNYKaSIV7VQUX0z7AHfG', 'function': {'arguments': '{\"first_int\": 23, \"second_int\": 7}', 'name': 'multiply'}, 'type': 'function'}, {'id': 'call_r55Xw6sASz7pRYruSS3ImTko', 'function': {'arguments': '{\"first_int\": 5, \"second_int\": 18}', 'name': 'multiply'}, 'type': 'function'}, {'id': 'call_eDqGG4oHEyk7eAYr481BMpGq', 'function': {'arguments': '{\"first_int\": 1000000, \"second_int\": 1000000000}', 'name': 'add'}, 'type': 'function'}, {'id': 'call_j1XVlK6AtLrrT58V5tN4ry0R', 'function': {'arguments': '{\"base\": 37, \"exponent\": 3}', 'name': 'exponentiate'}, 'type': 'function'}]} response_metadata={'token_usage': {'completion_tokens': 97, 'prompt_tokens': 168, 'total_tokens': 265}, 'model_name': 'gpt-3.5-turbo-0125', 'system_fingerprint': 'fp_3b956da36b', 'finish_reason': 'tool_calls', 'logprobs': None} id='run-97714222-5923-4aca-a1d7-81f1c2822161-0' tool_calls=[{'name': 'multiply', 'args': {'first_int': 23, 'second_int': 7}, 'id': 'call_GRHcyNYKaSIV7VQUX0z7AHfG'}, {'name': 'multiply', 'args': {'first_int': 5, 'second_int': 18}, 'id': 'call_r55Xw6sASz7pRYruSS3ImTko'}, {'name': 'add', 'args': {'first_int': 1000000, 'second_int': 1000000000}, 'id': 'call_eDqGG4oHEyk7eAYr481BMpGq'}, {'name': 'exponentiate', 'args': {'base': 37, 'exponent': 3}, 'id': 'call_j1XVlK6AtLrrT58V5tN4ry0R'}]\n",
      "[{'name': 'multiply', 'args': {'first_int': 23, 'second_int': 7}, 'id': 'call_GRHcyNYKaSIV7VQUX0z7AHfG'}, {'name': 'multiply', 'args': {'first_int': 5, 'second_int': 18}, 'id': 'call_r55Xw6sASz7pRYruSS3ImTko'}, {'name': 'add', 'args': {'first_int': 1000000, 'second_int': 1000000000}, 'id': 'call_eDqGG4oHEyk7eAYr481BMpGq'}, {'name': 'exponentiate', 'args': {'base': 37, 'exponent': 3}, 'id': 'call_j1XVlK6AtLrrT58V5tN4ry0R'}]\n"
     ]
    }
   ],
   "source": [
    "msg = llm_with_tools.invoke(\"What's 23 times 7, and what's five times 18 and add a million plus a billion and cube thirty-seven\")\n",
    "print(type(msg))\n",
    "print(msg)\n",
    "print(msg.tool_calls)"
   ]
  },
  {
   "cell_type": "code",
   "execution_count": 25,
   "id": "6b1ea960-574e-48bc-9470-c0a7483ff1de",
   "metadata": {},
   "outputs": [
    {
     "data": {
      "text/plain": [
       "161"
      ]
     },
     "execution_count": 25,
     "metadata": {},
     "output_type": "execute_result"
    }
   ],
   "source": [
    "tools_chain = llm_with_tools | (lambda x: x.tool_calls[0][\"args\"]) | multiply\n",
    "tools_chain.invoke(\"What's 23 times 7, and what's five times 18 and add a million plus a billion and cube thirty-seven\")"
   ]
  },
  {
   "cell_type": "code",
   "execution_count": 33,
   "id": "74f034e2-7254-45ef-821a-c743b03f425e",
   "metadata": {},
   "outputs": [],
   "source": [
    "from langchain_core.messages import AIMessage\n",
    "from langchain_core.runnables import Runnable\n",
    "\n",
    "tool_map = {tool.name: tool for tool in tools}\n",
    "\n",
    "def call_tools(msg: AIMessage) -> Runnable:\n",
    "    \"\"\"Simple sequential tool calling helper.\"\"\"\n",
    "    result = {}\n",
    "    if len(msg.content) > 0:\n",
    "        result['content'] = msg.content\n",
    "        return result\n",
    "        \n",
    "    tool_calls = msg.tool_calls.copy()\n",
    "    for tool_call in tool_calls:\n",
    "        tool_call[\"output\"] = tool_map[tool_call[\"name\"]].invoke(tool_call[\"args\"])\n",
    "    result['tools'] = tool_calls\n",
    "    return result"
   ]
  },
  {
   "cell_type": "code",
   "execution_count": 34,
   "id": "f64eb03a-1bbd-43e5-b823-98e4c41fda2a",
   "metadata": {},
   "outputs": [],
   "source": [
    "tools_chain = llm_with_tools | call_tools"
   ]
  },
  {
   "cell_type": "code",
   "execution_count": 35,
   "id": "df3c555b-ae44-479d-980e-ba5911142ca9",
   "metadata": {},
   "outputs": [],
   "source": [
    "result = tools_chain.invoke(\n",
    "    \"What's 23 times 7, and what's five times 18 and add a million plus a billion and cube thirty-seven\"\n",
    ")"
   ]
  },
  {
   "cell_type": "code",
   "execution_count": 36,
   "id": "1591fba2-1030-4a7c-b3b3-4e33b1d8a1c9",
   "metadata": {},
   "outputs": [
    {
     "data": {
      "text/plain": [
       "{'tools': [{'name': 'multiply',\n",
       "   'args': {'first_int': 23, 'second_int': 7},\n",
       "   'id': 'call_jXu58lZvatgMlOceXPTBH5mm',\n",
       "   'output': 161},\n",
       "  {'name': 'multiply',\n",
       "   'args': {'first_int': 5, 'second_int': 18},\n",
       "   'id': 'call_efbnVtcRvCGA75OmHK1wAItW',\n",
       "   'output': 90},\n",
       "  {'name': 'add',\n",
       "   'args': {'first_int': 1000000, 'second_int': 1000000000},\n",
       "   'id': 'call_hQdKygNh1MO7OnUdAHD8xHWr',\n",
       "   'output': 1001000000},\n",
       "  {'name': 'exponentiate',\n",
       "   'args': {'base': 37, 'exponent': 3},\n",
       "   'id': 'call_e8MSG7ydnF9pf4rBv6VqjGVf',\n",
       "   'output': 50653}]}"
      ]
     },
     "execution_count": 36,
     "metadata": {},
     "output_type": "execute_result"
    }
   ],
   "source": [
    "result"
   ]
  },
  {
   "cell_type": "code",
   "execution_count": 37,
   "id": "bfdd4cdf-7777-4deb-a979-4344f93478b3",
   "metadata": {},
   "outputs": [
    {
     "name": "stdout",
     "output_type": "stream",
     "text": [
      "{'content': 'Deep learning is a subset of machine learning that uses artificial neural networks to model and solve complex problems. It is called \"deep\" learning because it involves multiple layers of interconnected neurons that process and learn from data. These neural networks are capable of automatically learning representations of data through a process of hierarchical feature learning.\\n\\nDeep learning has been particularly successful in tasks such as image recognition, speech recognition, natural language processing, and more. It has revolutionized many fields and enabled advancements in areas like autonomous driving, healthcare, and robotics.'}\n"
     ]
    }
   ],
   "source": [
    "result = tools_chain.invoke(\n",
    "    \"What's deep learning\"\n",
    ")\n",
    "print(result)"
   ]
  },
  {
   "cell_type": "code",
   "execution_count": 38,
   "id": "f6bc7517-2902-46ae-9595-6c65f481811e",
   "metadata": {},
   "outputs": [
    {
     "name": "stdout",
     "output_type": "stream",
     "text": [
      "{'tools': [{'name': 'multiply', 'args': {'first_int': 5, 'second_int': 42}, 'id': 'call_rhyNOUCviDSYEYoffPVEaXdJ', 'output': 210}]}\n"
     ]
    }
   ],
   "source": [
    "result = tools_chain.invoke(\"whats 5 times forty two\")\n",
    "print(result)"
   ]
  }
 ],
 "metadata": {
  "kernelspec": {
   "display_name": "Python 3 (ipykernel)",
   "language": "python",
   "name": "python3"
  },
  "language_info": {
   "codemirror_mode": {
    "name": "ipython",
    "version": 3
   },
   "file_extension": ".py",
   "mimetype": "text/x-python",
   "name": "python",
   "nbconvert_exporter": "python",
   "pygments_lexer": "ipython3",
   "version": "3.9.6"
  }
 },
 "nbformat": 4,
 "nbformat_minor": 5
}
