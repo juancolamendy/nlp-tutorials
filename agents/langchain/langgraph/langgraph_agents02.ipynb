{
 "cells": [
  {
   "cell_type": "code",
   "execution_count": 1,
   "id": "6b6f66e4-82be-45f5-a66b-4aee0ee9dba8",
   "metadata": {},
   "outputs": [
    {
     "data": {
      "text/plain": [
       "True"
      ]
     },
     "execution_count": 1,
     "metadata": {},
     "output_type": "execute_result"
    }
   ],
   "source": [
    "# import load_dotenv\n",
    "from dotenv import load_dotenv\n",
    "\n",
    "# load env\n",
    "load_dotenv()"
   ]
  },
  {
   "cell_type": "code",
   "execution_count": 2,
   "id": "5727e65d-2c8d-4569-9a1e-373469fe7f92",
   "metadata": {},
   "outputs": [],
   "source": [
    "import nest_asyncio\n",
    "nest_asyncio.apply()"
   ]
  },
  {
   "cell_type": "code",
   "execution_count": 3,
   "id": "306310a6-6dbd-452b-ab2f-72d1430457ad",
   "metadata": {},
   "outputs": [
    {
     "name": "stdin",
     "output_type": "stream",
     "text": [
      "Enter:  My name is Juan. I'd like to have a summary of the England History\n"
     ]
    },
    {
     "name": "stdout",
     "output_type": "stream",
     "text": [
      "\n",
      "AI: Certainly, Juan! Here's a brief summary of England's history:\n",
      "\n",
      "1. **Prehistoric and Roman Britain**: Before the arrival of the Romans, Britain was home to various Celtic tribes. The Romans invaded in AD 43 and established the province of Britannia, leaving a legacy of roads, baths, and Hadrian's Wall to defend against northern tribes.\n",
      "\n",
      "2. **Anglo-Saxon and Viking Age**: After the Roman withdrawal around AD 410, the Anglo-Saxons from present-day Germany, Denmark, and the Netherlands settled in England. This period saw the establishment of several kingdoms. Viking raids began in the late 8th century, leading to parts of England coming under Danish control.\n",
      "\n",
      "3. **Norman Conquest and the Middle Ages**: In 1066, William the Conqueror from Normandy defeated Harold II at the Battle of Hastings, marking the start of Norman rule. This era saw the establishment of feudalism, the construction of castles, and the Domesday Book. The subsequent centuries were marked by conflicts such as the Hundred Years' War with France and internal strife like the Wars of the Roses, which ended with the rise of the Tudor dynasty.\n",
      "\n",
      "4. **Tudor and Stuart Periods**: The Tudor period in the 16th century included the reign of Henry VIII, who famously broke away from the Catholic Church, establishing the Church of England. His daughter, Elizabeth I, defeated the Spanish Armada in 1588, solidifying England as a major European power. The Stuart era saw the English Civil War (1642–1651) between royalists and parliamentarians, leading to the temporary establishment of the Commonwealth under Oliver Cromwell.\n",
      "\n",
      "5. **Georgian and Victorian Eras**: The Act of Union in 1707 unified England and Scotland into Great Britain. The Industrial Revolution from the late 18th century onwards transformed England into the world's leading industrial and colonial power. The 19th century was marked by Queen Victoria's reign, a time of great technological and cultural change.\n",
      "\n",
      "6. **20th Century to Present**: England played significant roles in both World Wars, which contributed to the decline of the British Empire. The post-war period saw the establishment of the welfare state. The latter half of the century experienced social, economic, and cultural changes, and the United Kingdom's relationship with the European Union was a significant political issue, culminating in Brexit, where the UK voted to leave the EU in 2016.\n",
      "\n",
      "England's history is rich and complex, marked by periods of conflict, discovery, and significant cultural contributions to the world.\n",
      "[HumanMessage(content=\"My name is Juan. I'd like to have a summary of the England History\", additional_kwargs={}, response_metadata={}), AIMessage(content=\"Certainly, Juan! Here's a brief summary of England's history:\\n\\n1. **Prehistoric and Roman Britain**: Before the arrival of the Romans, Britain was home to various Celtic tribes. The Romans invaded in AD 43 and established the province of Britannia, leaving a legacy of roads, baths, and Hadrian's Wall to defend against northern tribes.\\n\\n2. **Anglo-Saxon and Viking Age**: After the Roman withdrawal around AD 410, the Anglo-Saxons from present-day Germany, Denmark, and the Netherlands settled in England. This period saw the establishment of several kingdoms. Viking raids began in the late 8th century, leading to parts of England coming under Danish control.\\n\\n3. **Norman Conquest and the Middle Ages**: In 1066, William the Conqueror from Normandy defeated Harold II at the Battle of Hastings, marking the start of Norman rule. This era saw the establishment of feudalism, the construction of castles, and the Domesday Book. The subsequent centuries were marked by conflicts such as the Hundred Years' War with France and internal strife like the Wars of the Roses, which ended with the rise of the Tudor dynasty.\\n\\n4. **Tudor and Stuart Periods**: The Tudor period in the 16th century included the reign of Henry VIII, who famously broke away from the Catholic Church, establishing the Church of England. His daughter, Elizabeth I, defeated the Spanish Armada in 1588, solidifying England as a major European power. The Stuart era saw the English Civil War (1642–1651) between royalists and parliamentarians, leading to the temporary establishment of the Commonwealth under Oliver Cromwell.\\n\\n5. **Georgian and Victorian Eras**: The Act of Union in 1707 unified England and Scotland into Great Britain. The Industrial Revolution from the late 18th century onwards transformed England into the world's leading industrial and colonial power. The 19th century was marked by Queen Victoria's reign, a time of great technological and cultural change.\\n\\n6. **20th Century to Present**: England played significant roles in both World Wars, which contributed to the decline of the British Empire. The post-war period saw the establishment of the welfare state. The latter half of the century experienced social, economic, and cultural changes, and the United Kingdom's relationship with the European Union was a significant political issue, culminating in Brexit, where the UK voted to leave the EU in 2016.\\n\\nEngland's history is rich and complex, marked by periods of conflict, discovery, and significant cultural contributions to the world.\", additional_kwargs={}, response_metadata={})]\n"
     ]
    },
    {
     "name": "stdin",
     "output_type": "stream",
     "text": [
      "Enter:  Who was the first king?\n"
     ]
    },
    {
     "name": "stdout",
     "output_type": "stream",
     "text": [
      "\n",
      "AI: The first king to rule a united England was King Æthelstan. He reigned from 924 to 939 AD and is often considered the first true king of England as he successfully consolidated several smaller kingdoms under his rule. Æthelstan was the grandson of Alfred the Great, the famous King of Wessex. Before Æthelstan, what we now know as England was divided into several smaller Anglo-Saxon kingdoms, such as Wessex, Mercia, and Northumbria. His victory at the Battle of Brunanburh in 937 AD was a significant moment in his reign, as it helped to secure his authority over the entirety of England and fend off threats from other regional rulers and Viking invaders.\n",
      "[HumanMessage(content=\"My name is Juan. I'd like to have a summary of the England History\", additional_kwargs={}, response_metadata={}), AIMessage(content=\"Certainly, Juan! Here's a brief summary of England's history:\\n\\n1. **Prehistoric and Roman Britain**: Before the arrival of the Romans, Britain was home to various Celtic tribes. The Romans invaded in AD 43 and established the province of Britannia, leaving a legacy of roads, baths, and Hadrian's Wall to defend against northern tribes.\\n\\n2. **Anglo-Saxon and Viking Age**: After the Roman withdrawal around AD 410, the Anglo-Saxons from present-day Germany, Denmark, and the Netherlands settled in England. This period saw the establishment of several kingdoms. Viking raids began in the late 8th century, leading to parts of England coming under Danish control.\\n\\n3. **Norman Conquest and the Middle Ages**: In 1066, William the Conqueror from Normandy defeated Harold II at the Battle of Hastings, marking the start of Norman rule. This era saw the establishment of feudalism, the construction of castles, and the Domesday Book. The subsequent centuries were marked by conflicts such as the Hundred Years' War with France and internal strife like the Wars of the Roses, which ended with the rise of the Tudor dynasty.\\n\\n4. **Tudor and Stuart Periods**: The Tudor period in the 16th century included the reign of Henry VIII, who famously broke away from the Catholic Church, establishing the Church of England. His daughter, Elizabeth I, defeated the Spanish Armada in 1588, solidifying England as a major European power. The Stuart era saw the English Civil War (1642–1651) between royalists and parliamentarians, leading to the temporary establishment of the Commonwealth under Oliver Cromwell.\\n\\n5. **Georgian and Victorian Eras**: The Act of Union in 1707 unified England and Scotland into Great Britain. The Industrial Revolution from the late 18th century onwards transformed England into the world's leading industrial and colonial power. The 19th century was marked by Queen Victoria's reign, a time of great technological and cultural change.\\n\\n6. **20th Century to Present**: England played significant roles in both World Wars, which contributed to the decline of the British Empire. The post-war period saw the establishment of the welfare state. The latter half of the century experienced social, economic, and cultural changes, and the United Kingdom's relationship with the European Union was a significant political issue, culminating in Brexit, where the UK voted to leave the EU in 2016.\\n\\nEngland's history is rich and complex, marked by periods of conflict, discovery, and significant cultural contributions to the world.\", additional_kwargs={}, response_metadata={}), HumanMessage(content='Who was the first king?', additional_kwargs={}, response_metadata={}), AIMessage(content='The first king to rule a united England was King Æthelstan. He reigned from 924 to 939 AD and is often considered the first true king of England as he successfully consolidated several smaller kingdoms under his rule. Æthelstan was the grandson of Alfred the Great, the famous King of Wessex. Before Æthelstan, what we now know as England was divided into several smaller Anglo-Saxon kingdoms, such as Wessex, Mercia, and Northumbria. His victory at the Battle of Brunanburh in 937 AD was a significant moment in his reign, as it helped to secure his authority over the entirety of England and fend off threats from other regional rulers and Viking invaders.', additional_kwargs={}, response_metadata={})]\n"
     ]
    },
    {
     "name": "stdin",
     "output_type": "stream",
     "text": [
      "Enter:  exit\n"
     ]
    }
   ],
   "source": [
    "from typing import TypedDict, List, Union\n",
    "\n",
    "from langchain_core.messages import HumanMessage, AIMessage\n",
    "from langchain_openai import ChatOpenAI\n",
    "from langgraph.graph import StateGraph, START, END\n",
    "\n",
    "from dotenv import load_dotenv\n",
    "\n",
    "load_dotenv()\n",
    "\n",
    "class AgentState(TypedDict):\n",
    "    messages: List[Union[HumanMessage, AIMessage]]\n",
    "\n",
    "llm = ChatOpenAI(model=\"gpt-4o\")\n",
    "\n",
    "def process(state: AgentState) -> AgentState:\n",
    "    \"\"\"This node will solve the request you input\"\"\"\n",
    "    response = llm.invoke(state[\"messages\"])\n",
    "    \n",
    "    state[\"messages\"].append(AIMessage(content=response.content))\n",
    "    print(f\"\\nAI: {response.content}\")\n",
    "    \n",
    "    return state\n",
    "\n",
    "\n",
    "graph = StateGraph(AgentState)\n",
    "graph.add_node(\"process\", process)\n",
    "graph.add_edge(START, \"process\")\n",
    "graph.add_edge(\"process\", END)\n",
    "agent = graph.compile()\n",
    "\n",
    "conversation_history = []\n",
    "\n",
    "user_input = input(\"Enter: \")\n",
    "while user_input != \"exit\":\n",
    "    conversation_history.append(HumanMessage(content=user_input))\n",
    "    result = agent.invoke({\"messages\": conversation_history})\n",
    "    conversation_history = result[\"messages\"]\n",
    "    print(conversation_history)\n",
    "    user_input = input(\"Enter: \")"
   ]
  },
  {
   "cell_type": "code",
   "execution_count": 4,
   "id": "35bb5d48-40eb-4ab5-a202-36e129d97dee",
   "metadata": {},
   "outputs": [],
   "source": [
    "from typing import Annotated, Sequence, TypedDict\n",
    "from dotenv import load_dotenv\n",
    "from langchain_core.messages import BaseMessage, SystemMessage, ToolMessage\n",
    "from langchain_openai import ChatOpenAI\n",
    "from langchain_core.tools import tool\n",
    "from langgraph.graph.message import add_messages\n",
    "from langgraph.graph import StateGraph, END\n",
    "from langgraph.prebuilt import ToolNode\n",
    "\n",
    "# Load environment variables\n",
    "load_dotenv()\n",
    "\n",
    "# Define the agent state with Annotated messages field\n",
    "class AgentState(TypedDict):\n",
    "    messages: Annotated[Sequence[BaseMessage], add_messages]\n",
    "\n",
    "# Define tools that the agent can use\n",
    "@tool\n",
    "def add(a: int, b: int):\n",
    "    \"\"\"This is an addition function that adds 2 numbers together\"\"\"\n",
    "    return a + b\n",
    "\n",
    "@tool\n",
    "def subtract(a: int, b: int):\n",
    "    \"\"\"Subtraction function\"\"\"\n",
    "    return a - b\n",
    "\n",
    "@tool\n",
    "def multiply(a: int, b: int):\n",
    "    \"\"\"Multiplication function\"\"\"\n",
    "    return a * b\n",
    "\n",
    "# Create tools list\n",
    "tools = [add, subtract, multiply]\n",
    "\n",
    "# Create the model with tools bound\n",
    "model = ChatOpenAI(model=\"gpt-4o\").bind_tools(tools)\n",
    "\n",
    "# Define the main agent node\n",
    "def model_call(state: AgentState) -> AgentState:\n",
    "    system_prompt = SystemMessage(content=\n",
    "        \"You are my AI assistant, please answer my query to the best of your ability.\"\n",
    "    )\n",
    "    response = model.invoke([system_prompt] + state[\"messages\"])\n",
    "    return {\"messages\": [response]}\n",
    "\n",
    "# Define conditional logic for continuing or ending\n",
    "def should_continue(state: AgentState):\n",
    "    messages = state[\"messages\"]\n",
    "    last_message = messages[-1]\n",
    "    if not last_message.tool_calls:\n",
    "        return \"end\"\n",
    "    else:\n",
    "        return \"continue\"\n",
    "\n",
    "# Create the graph\n",
    "graph = StateGraph(AgentState)\n",
    "graph.add_node(\"our_agent\", model_call)\n",
    "\n",
    "# Create tool node for handling tool calls\n",
    "tool_node = ToolNode(tools=tools)\n",
    "graph.add_node(\"tools\", tool_node)\n",
    "\n",
    "# Set entry point\n",
    "graph.set_entry_point(\"our_agent\")\n",
    "\n",
    "# Add conditional edges\n",
    "graph.add_conditional_edges(\n",
    "    \"our_agent\",\n",
    "    should_continue,\n",
    "    {\n",
    "        \"continue\": \"tools\",\n",
    "        \"end\": END,\n",
    "    },\n",
    ")\n",
    "\n",
    "# Add edge from tools back to agent\n",
    "graph.add_edge(\"tools\", \"our_agent\")\n",
    "\n",
    "# Compile the graph\n",
    "app = graph.compile()\n",
    "\n",
    "# Utility function for printing stream output\n",
    "def print_stream(stream):\n",
    "    for s in stream:\n",
    "        message = s[\"messages\"][-1]\n",
    "        if isinstance(message, tuple):\n",
    "            print(message)\n",
    "        else:\n",
    "            message.pretty_print()"
   ]
  },
  {
   "cell_type": "code",
   "execution_count": 5,
   "id": "61253589-bd8f-4549-a880-f64211baaed7",
   "metadata": {},
   "outputs": [
    {
     "name": "stdout",
     "output_type": "stream",
     "text": [
      "=== Simple Math Example ===\n",
      "================================\u001b[1m Human Message \u001b[0m=================================\n",
      "\n",
      "Add 3 + 4.\n",
      "==================================\u001b[1m Ai Message \u001b[0m==================================\n",
      "Tool Calls:\n",
      "  add (call_NNpAQXvZEG14HfAKHLYTz2W7)\n",
      " Call ID: call_NNpAQXvZEG14HfAKHLYTz2W7\n",
      "  Args:\n",
      "    a: 3\n",
      "    b: 4\n",
      "=================================\u001b[1m Tool Message \u001b[0m=================================\n",
      "Name: add\n",
      "\n",
      "7\n",
      "==================================\u001b[1m Ai Message \u001b[0m==================================\n",
      "\n",
      "The result of adding 3 + 4 is 7.\n"
     ]
    }
   ],
   "source": [
    "# Example usage with simple math\n",
    "print(\"=== Simple Math Example ===\")\n",
    "inputs = {\"messages\": [(\"user\", \"Add 3 + 4.\")]}\n",
    "print_stream(app.stream(inputs, stream_mode=\"values\"))"
   ]
  },
  {
   "cell_type": "code",
   "execution_count": 6,
   "id": "68e2de22-b6fc-43d4-8967-a81055c52998",
   "metadata": {},
   "outputs": [
    {
     "name": "stdout",
     "output_type": "stream",
     "text": [
      "\n",
      "=== Complex Math Example ===\n",
      "================================\u001b[1m Human Message \u001b[0m=================================\n",
      "\n",
      "Add 34 + 21. Add 3 + 4. Add 12 + 12\n",
      "==================================\u001b[1m Ai Message \u001b[0m==================================\n",
      "Tool Calls:\n",
      "  add (call_7KSkFLK8UtCmGKSsxbqvy4OU)\n",
      " Call ID: call_7KSkFLK8UtCmGKSsxbqvy4OU\n",
      "  Args:\n",
      "    a: 34\n",
      "    b: 21\n",
      "  add (call_dbIzZKp9KZ69QBtSnd5SpsYc)\n",
      " Call ID: call_dbIzZKp9KZ69QBtSnd5SpsYc\n",
      "  Args:\n",
      "    a: 3\n",
      "    b: 4\n",
      "  add (call_o1dP35wx7WKluGFUHpbnMQwy)\n",
      " Call ID: call_o1dP35wx7WKluGFUHpbnMQwy\n",
      "  Args:\n",
      "    a: 12\n",
      "    b: 12\n",
      "=================================\u001b[1m Tool Message \u001b[0m=================================\n",
      "Name: add\n",
      "\n",
      "24\n",
      "==================================\u001b[1m Ai Message \u001b[0m==================================\n",
      "\n",
      "The results of the additions are as follows:\n",
      "- 34 + 21 = 55\n",
      "- 3 + 4 = 7\n",
      "- 12 + 12 = 24\n"
     ]
    }
   ],
   "source": [
    "print(\"\\n=== Complex Math Example ===\")\n",
    "inputs = {\"messages\": [(\"user\", \"Add 34 + 21. Add 3 + 4. Add 12 + 12\")]}\n",
    "print_stream(app.stream(inputs, stream_mode=\"values\"))"
   ]
  }
 ],
 "metadata": {
  "kernelspec": {
   "display_name": "Python 3 (ipykernel)",
   "language": "python",
   "name": "python3"
  },
  "language_info": {
   "codemirror_mode": {
    "name": "ipython",
    "version": 3
   },
   "file_extension": ".py",
   "mimetype": "text/x-python",
   "name": "python",
   "nbconvert_exporter": "python",
   "pygments_lexer": "ipython3",
   "version": "3.9.6"
  }
 },
 "nbformat": 4,
 "nbformat_minor": 5
}
