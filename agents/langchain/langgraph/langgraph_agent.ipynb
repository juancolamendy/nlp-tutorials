{
 "cells": [
  {
   "cell_type": "code",
   "execution_count": 1,
   "id": "b96f6c4d-107a-4633-8328-c47ea29c3688",
   "metadata": {},
   "outputs": [
    {
     "data": {
      "text/plain": [
       "True"
      ]
     },
     "execution_count": 1,
     "metadata": {},
     "output_type": "execute_result"
    }
   ],
   "source": [
    "# import load_dotenv\n",
    "from dotenv import load_dotenv\n",
    "\n",
    "# load env\n",
    "load_dotenv()"
   ]
  },
  {
   "cell_type": "code",
   "execution_count": 2,
   "id": "729b8cc0-bddf-4400-bc2e-d301ea35cf48",
   "metadata": {},
   "outputs": [],
   "source": [
    "import nest_asyncio\n",
    "nest_asyncio.apply()"
   ]
  },
  {
   "cell_type": "code",
   "execution_count": 3,
   "id": "0b6651c3-07fa-420f-ae22-39b8f0938017",
   "metadata": {},
   "outputs": [
    {
     "data": {
      "text/plain": [
       "{'messages': [HumanMessage(content='what is the weather in sf', additional_kwargs={}, response_metadata={}, id='c7cfde00-d1a6-4435-89fa-cdee62810891'),\n",
       "  AIMessage(content=[{'text': 'I can help you check the weather in San Francisco. Let me get that information for you.', 'type': 'text'}, {'id': 'toolu_01GFnwDt5n3Wic2ZDkvHZX2Q', 'input': {'city': 'San Francisco'}, 'name': 'get_weather', 'type': 'tool_use'}], additional_kwargs={}, response_metadata={'id': 'msg_01QV7SadAG8gqxQ2tJvoLb7b', 'model': 'claude-3-7-sonnet-latest', 'stop_reason': 'tool_use', 'stop_sequence': None, 'usage': {'cache_creation_input_tokens': 0, 'cache_read_input_tokens': 0, 'input_tokens': 386, 'output_tokens': 74, 'server_tool_use': None}, 'model_name': 'claude-3-7-sonnet-latest'}, id='run--f750a6ba-6135-4411-ad21-99fb8519580f-0', tool_calls=[{'name': 'get_weather', 'args': {'city': 'San Francisco'}, 'id': 'toolu_01GFnwDt5n3Wic2ZDkvHZX2Q', 'type': 'tool_call'}], usage_metadata={'input_tokens': 386, 'output_tokens': 74, 'total_tokens': 460, 'input_token_details': {'cache_read': 0, 'cache_creation': 0}}),\n",
       "  ToolMessage(content=\"It's always sunny in San Francisco!\", name='get_weather', id='b0bb3b01-5a39-4fe1-b05d-035f028c7315', tool_call_id='toolu_01GFnwDt5n3Wic2ZDkvHZX2Q'),\n",
       "  AIMessage(content=\"According to the current weather information, it's always sunny in San Francisco!\", additional_kwargs={}, response_metadata={'id': 'msg_01W251kCoSbzzpkinsKWotrR', 'model': 'claude-3-7-sonnet-latest', 'stop_reason': 'end_turn', 'stop_sequence': None, 'usage': {'cache_creation_input_tokens': 0, 'cache_read_input_tokens': 0, 'input_tokens': 478, 'output_tokens': 19, 'server_tool_use': None}, 'model_name': 'claude-3-7-sonnet-latest'}, id='run--4fa7730e-e3a6-4e12-8ceb-67789577e5d5-0', usage_metadata={'input_tokens': 478, 'output_tokens': 19, 'total_tokens': 497, 'input_token_details': {'cache_read': 0, 'cache_creation': 0}})]}"
      ]
     },
     "execution_count": 3,
     "metadata": {},
     "output_type": "execute_result"
    }
   ],
   "source": [
    "from langgraph.prebuilt import create_react_agent\n",
    "\n",
    "def get_weather(city: str) -> str:  \n",
    "    \"\"\"Get weather for a given city.\"\"\"\n",
    "    return f\"It's always sunny in {city}!\"\n",
    "\n",
    "agent = create_react_agent(\n",
    "    model=\"anthropic:claude-3-7-sonnet-latest\",  \n",
    "    tools=[get_weather],  \n",
    "    prompt=\"You are a helpful assistant\"  \n",
    ")\n",
    "\n",
    "# Run the agent\n",
    "agent.invoke(\n",
    "    {\"messages\": [{\"role\": \"user\", \"content\": \"what is the weather in sf\"}]}\n",
    ")"
   ]
  },
  {
   "cell_type": "code",
   "execution_count": 13,
   "id": "c821ffdd-9872-4bcc-b59f-6878c973c769",
   "metadata": {},
   "outputs": [
    {
     "name": "stdin",
     "output_type": "stream",
     "text": [
      "You:  My name is Juan. What's the time right now?\n"
     ]
    },
    {
     "name": "stdout",
     "output_type": "stream",
     "text": [
      "Agent respose: Hello Juan, the current time is 05:35 PM.\n",
      "Result data: {'messages': [HumanMessage(content=\"My name is Juan. What's the time right now?\", additional_kwargs={}, response_metadata={}, id='07f53316-746c-49cc-9818-78b1798b391b'), AIMessage(content=[{'id': 'toolu_013EfXSrL986E1X34XbQPtSC', 'input': {}, 'name': 'get_current_time', 'type': 'tool_use'}], additional_kwargs={}, response_metadata={'id': 'msg_01LYXjXAR3b8nVwop5JUSzsM', 'model': 'claude-3-7-sonnet-latest', 'stop_reason': 'tool_use', 'stop_sequence': None, 'usage': {'cache_creation_input_tokens': 0, 'cache_read_input_tokens': 0, 'input_tokens': 419, 'output_tokens': 38, 'server_tool_use': None}, 'model_name': 'claude-3-7-sonnet-latest'}, id='run--4d69c9b3-cccd-4214-8a0c-764046b62e5b-0', tool_calls=[{'name': 'get_current_time', 'args': {}, 'id': 'toolu_013EfXSrL986E1X34XbQPtSC', 'type': 'tool_call'}], usage_metadata={'input_tokens': 419, 'output_tokens': 38, 'total_tokens': 457, 'input_token_details': {'cache_read': 0, 'cache_creation': 0}}), ToolMessage(content='05:35 PM', name='get_current_time', id='6c0751e3-7dde-48a6-8c78-ca0bbe93467e', tool_call_id='toolu_013EfXSrL986E1X34XbQPtSC'), AIMessage(content='Hello Juan, the current time is 05:35 PM.', additional_kwargs={}, response_metadata={'id': 'msg_01VkVmKqe1WD2NH454Rmf2kn', 'model': 'claude-3-7-sonnet-latest', 'stop_reason': 'end_turn', 'stop_sequence': None, 'usage': {'cache_creation_input_tokens': 0, 'cache_read_input_tokens': 0, 'input_tokens': 474, 'output_tokens': 18, 'server_tool_use': None}, 'model_name': 'claude-3-7-sonnet-latest'}, id='run--5f03c6de-2b0e-4ba8-b87a-8221fcdb77bd-0', usage_metadata={'input_tokens': 474, 'output_tokens': 18, 'total_tokens': 492, 'input_token_details': {'cache_read': 0, 'cache_creation': 0}})]}\n"
     ]
    },
    {
     "name": "stdin",
     "output_type": "stream",
     "text": [
      "You:  quit\n"
     ]
    }
   ],
   "source": [
    "from langgraph.prebuilt import create_react_agent\n",
    "from langgraph.checkpoint.memory import InMemorySaver\n",
    "from langchain_anthropic import ChatAnthropic\n",
    "from datetime import datetime\n",
    "\n",
    "# Define the tool\n",
    "def get_current_time() -> str:\n",
    "    \"\"\"Returns the current time in 12-hour format with AM/PM indicator.\n",
    "    \n",
    "    Returns:\n",
    "        str: The current time formatted as HH:MM AM/PM\n",
    "    \"\"\"\n",
    "    return datetime.now().strftime(\"%I:%M %p\")\n",
    "\n",
    "# Initialize the model\n",
    "model = ChatAnthropic(model=\"claude-3-7-sonnet-latest\")\n",
    "\n",
    "# Create the agent with the tool and system prompt\n",
    "agent = create_react_agent(\n",
    "    model=model,\n",
    "    tools=[get_current_time],\n",
    "    prompt=\"Be as concise as possible, reply with one sentence.\"\n",
    ")\n",
    "\n",
    "# Set up in-memory checkpointer for conversation history\n",
    "checkpointer = InMemorySaver()\n",
    "\n",
    "# Add checkpointer to the agent\n",
    "agent_with_memory = create_react_agent(\n",
    "    model=model,\n",
    "    tools=[get_current_time],\n",
    "    prompt=\"Be as concise as possible, reply with one sentence.\",\n",
    "    checkpointer=checkpointer\n",
    ")\n",
    "\n",
    "# Main interaction loop\n",
    "config = {\"configurable\": {\"thread_id\": \"conversation-1\"}}\n",
    "\n",
    "while True:\n",
    "    current_message = input('You: ')\n",
    "    if current_message == 'quit':\n",
    "        break\n",
    "    \n",
    "    # Invoke the agent with the current message\n",
    "    result = agent_with_memory.invoke(\n",
    "        {\"messages\": [{\"role\": \"user\", \"content\": current_message}]},\n",
    "        config\n",
    "    )\n",
    "    \n",
    "    # Extract and print the assistant's response\n",
    "    assistant_message = result[\"messages\"][-1]\n",
    "    print(f'Agent respose: {assistant_message.content}')\n",
    "    \n",
    "    # Print message history and result data for debugging\n",
    "    print(f\"Result data: {result}\")"
   ]
  }
 ],
 "metadata": {
  "kernelspec": {
   "display_name": "Python 3 (ipykernel)",
   "language": "python",
   "name": "python3"
  },
  "language_info": {
   "codemirror_mode": {
    "name": "ipython",
    "version": 3
   },
   "file_extension": ".py",
   "mimetype": "text/x-python",
   "name": "python",
   "nbconvert_exporter": "python",
   "pygments_lexer": "ipython3",
   "version": "3.9.6"
  }
 },
 "nbformat": 4,
 "nbformat_minor": 5
}
