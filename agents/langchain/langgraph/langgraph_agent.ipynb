{
 "cells": [
  {
   "cell_type": "code",
   "execution_count": 1,
   "id": "b96f6c4d-107a-4633-8328-c47ea29c3688",
   "metadata": {},
   "outputs": [
    {
     "data": {
      "text/plain": [
       "True"
      ]
     },
     "execution_count": 1,
     "metadata": {},
     "output_type": "execute_result"
    }
   ],
   "source": [
    "# import load_dotenv\n",
    "from dotenv import load_dotenv\n",
    "\n",
    "# load env\n",
    "load_dotenv()"
   ]
  },
  {
   "cell_type": "code",
   "execution_count": 2,
   "id": "729b8cc0-bddf-4400-bc2e-d301ea35cf48",
   "metadata": {},
   "outputs": [],
   "source": [
    "import nest_asyncio\n",
    "nest_asyncio.apply()"
   ]
  },
  {
   "cell_type": "code",
   "execution_count": 3,
   "id": "0b6651c3-07fa-420f-ae22-39b8f0938017",
   "metadata": {},
   "outputs": [
    {
     "data": {
      "text/plain": [
       "{'messages': [HumanMessage(content='what is the weather in sf', additional_kwargs={}, response_metadata={}, id='c7cfde00-d1a6-4435-89fa-cdee62810891'),\n",
       "  AIMessage(content=[{'text': 'I can help you check the weather in San Francisco. Let me get that information for you.', 'type': 'text'}, {'id': 'toolu_01GFnwDt5n3Wic2ZDkvHZX2Q', 'input': {'city': 'San Francisco'}, 'name': 'get_weather', 'type': 'tool_use'}], additional_kwargs={}, response_metadata={'id': 'msg_01QV7SadAG8gqxQ2tJvoLb7b', 'model': 'claude-3-7-sonnet-latest', 'stop_reason': 'tool_use', 'stop_sequence': None, 'usage': {'cache_creation_input_tokens': 0, 'cache_read_input_tokens': 0, 'input_tokens': 386, 'output_tokens': 74, 'server_tool_use': None}, 'model_name': 'claude-3-7-sonnet-latest'}, id='run--f750a6ba-6135-4411-ad21-99fb8519580f-0', tool_calls=[{'name': 'get_weather', 'args': {'city': 'San Francisco'}, 'id': 'toolu_01GFnwDt5n3Wic2ZDkvHZX2Q', 'type': 'tool_call'}], usage_metadata={'input_tokens': 386, 'output_tokens': 74, 'total_tokens': 460, 'input_token_details': {'cache_read': 0, 'cache_creation': 0}}),\n",
       "  ToolMessage(content=\"It's always sunny in San Francisco!\", name='get_weather', id='b0bb3b01-5a39-4fe1-b05d-035f028c7315', tool_call_id='toolu_01GFnwDt5n3Wic2ZDkvHZX2Q'),\n",
       "  AIMessage(content=\"According to the current weather information, it's always sunny in San Francisco!\", additional_kwargs={}, response_metadata={'id': 'msg_01W251kCoSbzzpkinsKWotrR', 'model': 'claude-3-7-sonnet-latest', 'stop_reason': 'end_turn', 'stop_sequence': None, 'usage': {'cache_creation_input_tokens': 0, 'cache_read_input_tokens': 0, 'input_tokens': 478, 'output_tokens': 19, 'server_tool_use': None}, 'model_name': 'claude-3-7-sonnet-latest'}, id='run--4fa7730e-e3a6-4e12-8ceb-67789577e5d5-0', usage_metadata={'input_tokens': 478, 'output_tokens': 19, 'total_tokens': 497, 'input_token_details': {'cache_read': 0, 'cache_creation': 0}})]}"
      ]
     },
     "execution_count": 3,
     "metadata": {},
     "output_type": "execute_result"
    }
   ],
   "source": [
    "from langgraph.prebuilt import create_react_agent\n",
    "\n",
    "def get_weather(city: str) -> str:  \n",
    "    \"\"\"Get weather for a given city.\"\"\"\n",
    "    return f\"It's always sunny in {city}!\"\n",
    "\n",
    "agent = create_react_agent(\n",
    "    model=\"anthropic:claude-3-7-sonnet-latest\",  \n",
    "    tools=[get_weather],  \n",
    "    prompt=\"You are a helpful assistant\"  \n",
    ")\n",
    "\n",
    "# Run the agent\n",
    "agent.invoke(\n",
    "    {\"messages\": [{\"role\": \"user\", \"content\": \"what is the weather in sf\"}]}\n",
    ")"
   ]
  },
  {
   "cell_type": "code",
   "execution_count": 3,
   "id": "c821ffdd-9872-4bcc-b59f-6878c973c769",
   "metadata": {},
   "outputs": [
    {
     "name": "stdin",
     "output_type": "stream",
     "text": [
      "You:  My name is Juan\n"
     ]
    },
    {
     "name": "stdout",
     "output_type": "stream",
     "text": [
      "<class 'langgraph.pregel.io.AddableValuesDict'>\n",
      "<class 'langchain_core.messages.ai.AIMessage'>\n",
      "Result data: {'messages': [HumanMessage(content='My name is Juan', additional_kwargs={}, response_metadata={}, id='4c09bf1c-447c-448d-80be-bbc9c9b9f4d8'), AIMessage(content='Hello Juan, nice to meet you! How can I help you today?', additional_kwargs={}, response_metadata={'id': 'msg_01WVrf3ntviqFyzeduGsFKSb', 'model': 'claude-3-7-sonnet-latest', 'stop_reason': 'end_turn', 'stop_sequence': None, 'usage': {'cache_creation_input_tokens': 0, 'cache_read_input_tokens': 0, 'input_tokens': 411, 'output_tokens': 18, 'server_tool_use': None}, 'model_name': 'claude-3-7-sonnet-latest'}, id='run--b099a67a-fb4b-46f3-bcbb-5b041980aa8c-0', usage_metadata={'input_tokens': 411, 'output_tokens': 18, 'total_tokens': 429, 'input_token_details': {'cache_read': 0, 'cache_creation': 0}})]}\n",
      "Agent respose: Hello Juan, nice to meet you! How can I help you today?\n",
      "Messages history: [HumanMessage(content='My name is Juan', additional_kwargs={}, response_metadata={}, id='4c09bf1c-447c-448d-80be-bbc9c9b9f4d8'), AIMessage(content='Hello Juan, nice to meet you! How can I help you today?', additional_kwargs={}, response_metadata={'id': 'msg_01WVrf3ntviqFyzeduGsFKSb', 'model': 'claude-3-7-sonnet-latest', 'stop_reason': 'end_turn', 'stop_sequence': None, 'usage': {'cache_creation_input_tokens': 0, 'cache_read_input_tokens': 0, 'input_tokens': 411, 'output_tokens': 18, 'server_tool_use': None}, 'model_name': 'claude-3-7-sonnet-latest'}, id='run--b099a67a-fb4b-46f3-bcbb-5b041980aa8c-0', usage_metadata={'input_tokens': 411, 'output_tokens': 18, 'total_tokens': 429, 'input_token_details': {'cache_read': 0, 'cache_creation': 0}})]\n"
     ]
    },
    {
     "name": "stdin",
     "output_type": "stream",
     "text": [
      "You:  Tell me the current time. \n"
     ]
    },
    {
     "name": "stdout",
     "output_type": "stream",
     "text": [
      "<class 'langgraph.pregel.io.AddableValuesDict'>\n",
      "<class 'langchain_core.messages.ai.AIMessage'>\n",
      "Result data: {'messages': [HumanMessage(content='My name is Juan', additional_kwargs={}, response_metadata={}, id='4c09bf1c-447c-448d-80be-bbc9c9b9f4d8'), AIMessage(content='Hello Juan, nice to meet you! How can I help you today?', additional_kwargs={}, response_metadata={'id': 'msg_01WVrf3ntviqFyzeduGsFKSb', 'model': 'claude-3-7-sonnet-latest', 'stop_reason': 'end_turn', 'stop_sequence': None, 'usage': {'cache_creation_input_tokens': 0, 'cache_read_input_tokens': 0, 'input_tokens': 411, 'output_tokens': 18, 'server_tool_use': None}, 'model_name': 'claude-3-7-sonnet-latest'}, id='run--b099a67a-fb4b-46f3-bcbb-5b041980aa8c-0', usage_metadata={'input_tokens': 411, 'output_tokens': 18, 'total_tokens': 429, 'input_token_details': {'cache_creation': 0, 'cache_read': 0}}), HumanMessage(content='Tell me the current time. ', additional_kwargs={}, response_metadata={}, id='8ac9fe70-9bbd-4bdf-ba8d-bef774e62146'), AIMessage(content=[{'id': 'toolu_01YKLWWB7tY3kUYX1SuTJ2T2', 'input': {}, 'name': 'get_current_time', 'type': 'tool_use'}], additional_kwargs={}, response_metadata={'id': 'msg_01TCgacqBHm2p1TGX3W525tJ', 'model': 'claude-3-7-sonnet-latest', 'stop_reason': 'tool_use', 'stop_sequence': None, 'usage': {'cache_creation_input_tokens': 0, 'cache_read_input_tokens': 0, 'input_tokens': 439, 'output_tokens': 38, 'server_tool_use': None}, 'model_name': 'claude-3-7-sonnet-latest'}, id='run--e568c328-5e5c-4042-80a6-436a1357cf92-0', tool_calls=[{'name': 'get_current_time', 'args': {}, 'id': 'toolu_01YKLWWB7tY3kUYX1SuTJ2T2', 'type': 'tool_call'}], usage_metadata={'input_tokens': 439, 'output_tokens': 38, 'total_tokens': 477, 'input_token_details': {'cache_read': 0, 'cache_creation': 0}}), ToolMessage(content='10:08 PM', name='get_current_time', id='4a877a6d-a090-4a09-a9c5-f35ae388594d', tool_call_id='toolu_01YKLWWB7tY3kUYX1SuTJ2T2'), AIMessage(content='The current time is 10:08 PM.', additional_kwargs={}, response_metadata={'id': 'msg_01QjWDtQwX7AdoHwiayM8UYk', 'model': 'claude-3-7-sonnet-latest', 'stop_reason': 'end_turn', 'stop_sequence': None, 'usage': {'cache_creation_input_tokens': 0, 'cache_read_input_tokens': 0, 'input_tokens': 494, 'output_tokens': 15, 'server_tool_use': None}, 'model_name': 'claude-3-7-sonnet-latest'}, id='run--30bf4182-032c-4a8f-9462-50f6297750ff-0', usage_metadata={'input_tokens': 494, 'output_tokens': 15, 'total_tokens': 509, 'input_token_details': {'cache_read': 0, 'cache_creation': 0}})]}\n",
      "Agent respose: The current time is 10:08 PM.\n",
      "Messages history: [HumanMessage(content='My name is Juan', additional_kwargs={}, response_metadata={}, id='4c09bf1c-447c-448d-80be-bbc9c9b9f4d8'), AIMessage(content='Hello Juan, nice to meet you! How can I help you today?', additional_kwargs={}, response_metadata={'id': 'msg_01WVrf3ntviqFyzeduGsFKSb', 'model': 'claude-3-7-sonnet-latest', 'stop_reason': 'end_turn', 'stop_sequence': None, 'usage': {'cache_creation_input_tokens': 0, 'cache_read_input_tokens': 0, 'input_tokens': 411, 'output_tokens': 18, 'server_tool_use': None}, 'model_name': 'claude-3-7-sonnet-latest'}, id='run--b099a67a-fb4b-46f3-bcbb-5b041980aa8c-0', usage_metadata={'input_tokens': 411, 'output_tokens': 18, 'total_tokens': 429, 'input_token_details': {'cache_creation': 0, 'cache_read': 0}}), HumanMessage(content='Tell me the current time. ', additional_kwargs={}, response_metadata={}, id='8ac9fe70-9bbd-4bdf-ba8d-bef774e62146'), AIMessage(content=[{'id': 'toolu_01YKLWWB7tY3kUYX1SuTJ2T2', 'input': {}, 'name': 'get_current_time', 'type': 'tool_use'}], additional_kwargs={}, response_metadata={'id': 'msg_01TCgacqBHm2p1TGX3W525tJ', 'model': 'claude-3-7-sonnet-latest', 'stop_reason': 'tool_use', 'stop_sequence': None, 'usage': {'cache_creation_input_tokens': 0, 'cache_read_input_tokens': 0, 'input_tokens': 439, 'output_tokens': 38, 'server_tool_use': None}, 'model_name': 'claude-3-7-sonnet-latest'}, id='run--e568c328-5e5c-4042-80a6-436a1357cf92-0', tool_calls=[{'name': 'get_current_time', 'args': {}, 'id': 'toolu_01YKLWWB7tY3kUYX1SuTJ2T2', 'type': 'tool_call'}], usage_metadata={'input_tokens': 439, 'output_tokens': 38, 'total_tokens': 477, 'input_token_details': {'cache_read': 0, 'cache_creation': 0}}), ToolMessage(content='10:08 PM', name='get_current_time', id='4a877a6d-a090-4a09-a9c5-f35ae388594d', tool_call_id='toolu_01YKLWWB7tY3kUYX1SuTJ2T2'), AIMessage(content='The current time is 10:08 PM.', additional_kwargs={}, response_metadata={'id': 'msg_01QjWDtQwX7AdoHwiayM8UYk', 'model': 'claude-3-7-sonnet-latest', 'stop_reason': 'end_turn', 'stop_sequence': None, 'usage': {'cache_creation_input_tokens': 0, 'cache_read_input_tokens': 0, 'input_tokens': 494, 'output_tokens': 15, 'server_tool_use': None}, 'model_name': 'claude-3-7-sonnet-latest'}, id='run--30bf4182-032c-4a8f-9462-50f6297750ff-0', usage_metadata={'input_tokens': 494, 'output_tokens': 15, 'total_tokens': 509, 'input_token_details': {'cache_read': 0, 'cache_creation': 0}})]\n"
     ]
    },
    {
     "name": "stdin",
     "output_type": "stream",
     "text": [
      "You:  What's my name\n"
     ]
    },
    {
     "name": "stdout",
     "output_type": "stream",
     "text": [
      "<class 'langgraph.pregel.io.AddableValuesDict'>\n",
      "<class 'langchain_core.messages.ai.AIMessage'>\n",
      "Result data: {'messages': [HumanMessage(content='My name is Juan', additional_kwargs={}, response_metadata={}, id='4c09bf1c-447c-448d-80be-bbc9c9b9f4d8'), AIMessage(content='Hello Juan, nice to meet you! How can I help you today?', additional_kwargs={}, response_metadata={'id': 'msg_01WVrf3ntviqFyzeduGsFKSb', 'model': 'claude-3-7-sonnet-latest', 'stop_reason': 'end_turn', 'stop_sequence': None, 'usage': {'cache_creation_input_tokens': 0, 'cache_read_input_tokens': 0, 'input_tokens': 411, 'output_tokens': 18, 'server_tool_use': None}, 'model_name': 'claude-3-7-sonnet-latest'}, id='run--b099a67a-fb4b-46f3-bcbb-5b041980aa8c-0', usage_metadata={'input_tokens': 411, 'output_tokens': 18, 'total_tokens': 429, 'input_token_details': {'cache_creation': 0, 'cache_read': 0}}), HumanMessage(content='Tell me the current time. ', additional_kwargs={}, response_metadata={}, id='8ac9fe70-9bbd-4bdf-ba8d-bef774e62146'), AIMessage(content=[{'id': 'toolu_01YKLWWB7tY3kUYX1SuTJ2T2', 'input': {}, 'name': 'get_current_time', 'type': 'tool_use'}], additional_kwargs={}, response_metadata={'id': 'msg_01TCgacqBHm2p1TGX3W525tJ', 'model': 'claude-3-7-sonnet-latest', 'stop_reason': 'tool_use', 'stop_sequence': None, 'usage': {'cache_creation_input_tokens': 0, 'cache_read_input_tokens': 0, 'input_tokens': 439, 'output_tokens': 38, 'server_tool_use': None}, 'model_name': 'claude-3-7-sonnet-latest'}, id='run--e568c328-5e5c-4042-80a6-436a1357cf92-0', tool_calls=[{'name': 'get_current_time', 'args': {}, 'id': 'toolu_01YKLWWB7tY3kUYX1SuTJ2T2', 'type': 'tool_call'}], usage_metadata={'input_tokens': 439, 'output_tokens': 38, 'total_tokens': 477, 'input_token_details': {'cache_creation': 0, 'cache_read': 0}}), ToolMessage(content='10:08 PM', name='get_current_time', id='4a877a6d-a090-4a09-a9c5-f35ae388594d', tool_call_id='toolu_01YKLWWB7tY3kUYX1SuTJ2T2'), AIMessage(content='The current time is 10:08 PM.', additional_kwargs={}, response_metadata={'id': 'msg_01QjWDtQwX7AdoHwiayM8UYk', 'model': 'claude-3-7-sonnet-latest', 'stop_reason': 'end_turn', 'stop_sequence': None, 'usage': {'cache_creation_input_tokens': 0, 'cache_read_input_tokens': 0, 'input_tokens': 494, 'output_tokens': 15, 'server_tool_use': None}, 'model_name': 'claude-3-7-sonnet-latest'}, id='run--30bf4182-032c-4a8f-9462-50f6297750ff-0', usage_metadata={'input_tokens': 494, 'output_tokens': 15, 'total_tokens': 509, 'input_token_details': {'cache_creation': 0, 'cache_read': 0}}), HumanMessage(content=\"What's my name\", additional_kwargs={}, response_metadata={}, id='ea4d96a5-5a6e-45d5-89b1-246fcc21335e'), AIMessage(content='Your name is Juan, as you mentioned earlier.', additional_kwargs={}, response_metadata={'id': 'msg_01Co3WiVkkt5hpW2yhmHyL46', 'model': 'claude-3-7-sonnet-latest', 'stop_reason': 'end_turn', 'stop_sequence': None, 'usage': {'cache_creation_input_tokens': 0, 'cache_read_input_tokens': 0, 'input_tokens': 516, 'output_tokens': 13, 'server_tool_use': None}, 'model_name': 'claude-3-7-sonnet-latest'}, id='run--401b5d97-e86e-43dd-92ac-2d26a4f61025-0', usage_metadata={'input_tokens': 516, 'output_tokens': 13, 'total_tokens': 529, 'input_token_details': {'cache_read': 0, 'cache_creation': 0}})]}\n",
      "Agent respose: Your name is Juan, as you mentioned earlier.\n",
      "Messages history: [HumanMessage(content='My name is Juan', additional_kwargs={}, response_metadata={}, id='4c09bf1c-447c-448d-80be-bbc9c9b9f4d8'), AIMessage(content='Hello Juan, nice to meet you! How can I help you today?', additional_kwargs={}, response_metadata={'id': 'msg_01WVrf3ntviqFyzeduGsFKSb', 'model': 'claude-3-7-sonnet-latest', 'stop_reason': 'end_turn', 'stop_sequence': None, 'usage': {'cache_creation_input_tokens': 0, 'cache_read_input_tokens': 0, 'input_tokens': 411, 'output_tokens': 18, 'server_tool_use': None}, 'model_name': 'claude-3-7-sonnet-latest'}, id='run--b099a67a-fb4b-46f3-bcbb-5b041980aa8c-0', usage_metadata={'input_tokens': 411, 'output_tokens': 18, 'total_tokens': 429, 'input_token_details': {'cache_creation': 0, 'cache_read': 0}}), HumanMessage(content='Tell me the current time. ', additional_kwargs={}, response_metadata={}, id='8ac9fe70-9bbd-4bdf-ba8d-bef774e62146'), AIMessage(content=[{'id': 'toolu_01YKLWWB7tY3kUYX1SuTJ2T2', 'input': {}, 'name': 'get_current_time', 'type': 'tool_use'}], additional_kwargs={}, response_metadata={'id': 'msg_01TCgacqBHm2p1TGX3W525tJ', 'model': 'claude-3-7-sonnet-latest', 'stop_reason': 'tool_use', 'stop_sequence': None, 'usage': {'cache_creation_input_tokens': 0, 'cache_read_input_tokens': 0, 'input_tokens': 439, 'output_tokens': 38, 'server_tool_use': None}, 'model_name': 'claude-3-7-sonnet-latest'}, id='run--e568c328-5e5c-4042-80a6-436a1357cf92-0', tool_calls=[{'name': 'get_current_time', 'args': {}, 'id': 'toolu_01YKLWWB7tY3kUYX1SuTJ2T2', 'type': 'tool_call'}], usage_metadata={'input_tokens': 439, 'output_tokens': 38, 'total_tokens': 477, 'input_token_details': {'cache_creation': 0, 'cache_read': 0}}), ToolMessage(content='10:08 PM', name='get_current_time', id='4a877a6d-a090-4a09-a9c5-f35ae388594d', tool_call_id='toolu_01YKLWWB7tY3kUYX1SuTJ2T2'), AIMessage(content='The current time is 10:08 PM.', additional_kwargs={}, response_metadata={'id': 'msg_01QjWDtQwX7AdoHwiayM8UYk', 'model': 'claude-3-7-sonnet-latest', 'stop_reason': 'end_turn', 'stop_sequence': None, 'usage': {'cache_creation_input_tokens': 0, 'cache_read_input_tokens': 0, 'input_tokens': 494, 'output_tokens': 15, 'server_tool_use': None}, 'model_name': 'claude-3-7-sonnet-latest'}, id='run--30bf4182-032c-4a8f-9462-50f6297750ff-0', usage_metadata={'input_tokens': 494, 'output_tokens': 15, 'total_tokens': 509, 'input_token_details': {'cache_creation': 0, 'cache_read': 0}}), HumanMessage(content=\"What's my name\", additional_kwargs={}, response_metadata={}, id='ea4d96a5-5a6e-45d5-89b1-246fcc21335e'), AIMessage(content='Your name is Juan, as you mentioned earlier.', additional_kwargs={}, response_metadata={'id': 'msg_01Co3WiVkkt5hpW2yhmHyL46', 'model': 'claude-3-7-sonnet-latest', 'stop_reason': 'end_turn', 'stop_sequence': None, 'usage': {'cache_creation_input_tokens': 0, 'cache_read_input_tokens': 0, 'input_tokens': 516, 'output_tokens': 13, 'server_tool_use': None}, 'model_name': 'claude-3-7-sonnet-latest'}, id='run--401b5d97-e86e-43dd-92ac-2d26a4f61025-0', usage_metadata={'input_tokens': 516, 'output_tokens': 13, 'total_tokens': 529, 'input_token_details': {'cache_read': 0, 'cache_creation': 0}})]\n"
     ]
    },
    {
     "name": "stdin",
     "output_type": "stream",
     "text": [
      "You:  quit\n"
     ]
    }
   ],
   "source": [
    "from langgraph.prebuilt import create_react_agent\n",
    "from langgraph.checkpoint.memory import InMemorySaver\n",
    "from langchain_anthropic import ChatAnthropic\n",
    "from datetime import datetime\n",
    "\n",
    "# Define the tool\n",
    "def get_current_time() -> str:\n",
    "    \"\"\"Returns the current time in 12-hour format with AM/PM indicator.\n",
    "    \n",
    "    Returns:\n",
    "        str: The current time formatted as HH:MM AM/PM\n",
    "    \"\"\"\n",
    "    return datetime.now().strftime(\"%I:%M %p\")\n",
    "\n",
    "# Initialize the model\n",
    "model = ChatAnthropic(model=\"claude-3-7-sonnet-latest\")\n",
    "\n",
    "# Create the agent with the tool and system prompt\n",
    "agent = create_react_agent(\n",
    "    model=model,\n",
    "    tools=[get_current_time],\n",
    "    prompt=\"Be as concise as possible, reply with one sentence.\"\n",
    ")\n",
    "\n",
    "# Set up in-memory checkpointer for conversation history\n",
    "checkpointer = InMemorySaver()\n",
    "\n",
    "# Add checkpointer to the agent\n",
    "agent_with_memory = create_react_agent(\n",
    "    model=model,\n",
    "    tools=[get_current_time],\n",
    "    prompt=\"Be as concise as possible, reply with one sentence.\",\n",
    "    checkpointer=checkpointer\n",
    ")\n",
    "\n",
    "# Main interaction loop\n",
    "config = {\"configurable\": {\"thread_id\": \"conversation-1\"}}\n",
    "\n",
    "while True:\n",
    "    current_message = input('You: ')\n",
    "    if current_message == 'quit':\n",
    "        break\n",
    "    \n",
    "    # Invoke the agent with the current message\n",
    "    result = agent_with_memory.invoke(\n",
    "        {\"messages\": [{\"role\": \"user\", \"content\": current_message}]},\n",
    "        config\n",
    "    )\n",
    "    \n",
    "    # Extract and print the assistant's response\n",
    "    assistant_message = result[\"messages\"][-1]\n",
    "    # print out\n",
    "    # print out\n",
    "    print(type(result))\n",
    "    print(type(assistant_message))\n",
    "    print(f\"Result data: {result}\")\n",
    "    print(f'Agent respose: {assistant_message.content}')\n",
    "    # Print message history and result data for debugging\n",
    "    print(f\"Messages history: {result['messages']}\")    "
   ]
  }
 ],
 "metadata": {
  "kernelspec": {
   "display_name": "Python 3 (ipykernel)",
   "language": "python",
   "name": "python3"
  },
  "language_info": {
   "codemirror_mode": {
    "name": "ipython",
    "version": 3
   },
   "file_extension": ".py",
   "mimetype": "text/x-python",
   "name": "python",
   "nbconvert_exporter": "python",
   "pygments_lexer": "ipython3",
   "version": "3.9.6"
  }
 },
 "nbformat": 4,
 "nbformat_minor": 5
}
