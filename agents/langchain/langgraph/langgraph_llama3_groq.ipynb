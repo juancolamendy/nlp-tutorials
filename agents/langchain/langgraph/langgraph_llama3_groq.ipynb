{
 "cells": [
  {
   "cell_type": "code",
   "execution_count": 2,
   "id": "c8240ab4-a201-4fe3-b91c-a492ad389bf9",
   "metadata": {},
   "outputs": [],
   "source": [
    "!pip -q install langchain-groq duckduckgo-search\n",
    "!pip -q install -U langchain_community tiktoken langchainhub\n",
    "!pip -q install -U langchain langgraph tavily-python"
   ]
  },
  {
   "cell_type": "code",
   "execution_count": 3,
   "id": "97f78364-486d-4b7c-96ee-333e8489640d",
   "metadata": {},
   "outputs": [
    {
     "name": "stdout",
     "output_type": "stream",
     "text": [
      "Name: langgraph\n",
      "Version: 0.0.55\n",
      "Summary: langgraph\n",
      "Home-page: https://www.github.com/langchain-ai/langgraph\n",
      "Author: \n",
      "Author-email: \n",
      "License: MIT\n",
      "Location: /Users/jcolamendy/python/tutorials/nlp-tutorials/venv/lib/python3.9/site-packages\n",
      "Requires: langchain-core, uuid6\n",
      "Required-by: \n"
     ]
    }
   ],
   "source": [
    "!pip show langgraph"
   ]
  }
 ],
 "metadata": {
  "kernelspec": {
   "display_name": "Python 3 (ipykernel)",
   "language": "python",
   "name": "python3"
  },
  "language_info": {
   "codemirror_mode": {
    "name": "ipython",
    "version": 3
   },
   "file_extension": ".py",
   "mimetype": "text/x-python",
   "name": "python",
   "nbconvert_exporter": "python",
   "pygments_lexer": "ipython3",
   "version": "3.9.6"
  }
 },
 "nbformat": 4,
 "nbformat_minor": 5
}
