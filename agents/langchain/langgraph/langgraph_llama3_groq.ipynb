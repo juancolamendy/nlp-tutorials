{
 "cells": [
  {
   "cell_type": "code",
   "execution_count": 2,
   "id": "c8240ab4-a201-4fe3-b91c-a492ad389bf9",
   "metadata": {},
   "outputs": [],
   "source": [
    "!pip -q install langchain-groq duckduckgo-search\n",
    "!pip -q install -U langchain_community tiktoken langchainhub\n",
    "!pip -q install -U langchain langgraph tavily-python"
   ]
  },
  {
   "cell_type": "code",
   "execution_count": 3,
   "id": "97f78364-486d-4b7c-96ee-333e8489640d",
   "metadata": {},
   "outputs": [
    {
     "name": "stdout",
     "output_type": "stream",
     "text": [
      "Name: langgraph\n",
      "Version: 0.0.55\n",
      "Summary: langgraph\n",
      "Home-page: https://www.github.com/langchain-ai/langgraph\n",
      "Author: \n",
      "Author-email: \n",
      "License: MIT\n",
      "Location: /Users/jcolamendy/python/tutorials/nlp-tutorials/venv/lib/python3.9/site-packages\n",
      "Requires: langchain-core, uuid6\n",
      "Required-by: \n"
     ]
    }
   ],
   "source": [
    "!pip show langgraph"
   ]
  },
  {
   "cell_type": "code",
   "execution_count": 37,
   "id": "550a4cce-baa5-4dac-8a36-0e42764059e1",
   "metadata": {},
   "outputs": [
    {
     "data": {
      "text/plain": [
       "True"
      ]
     },
     "execution_count": 37,
     "metadata": {},
     "output_type": "execute_result"
    }
   ],
   "source": [
    "# import load_dotenv\n",
    "from dotenv import load_dotenv\n",
    "\n",
    "# load env\n",
    "load_dotenv()"
   ]
  },
  {
   "cell_type": "markdown",
   "id": "c97acc2a-bd2f-41a5-bb2a-314b7a02688d",
   "metadata": {},
   "source": [
    "# Workflow\n",
    "Reply to a customer email\n",
    "- get the email\n",
    "- categorize the email as a \"sales\", \"custom enquiry\", \"off topic\", \"customer complaint\"\n",
    "- use the category & initial email to create keywords for a search to research info needed for the reply\n",
    "- write a draft reply\n",
    "- check the reply\n",
    "- rewrite if needed\n",
    "\n",
    "# node functions\n",
    "- categorize_email_node -> categorize_email\n",
    "- do_research_node -> find_keywords\n",
    "- write_draft_node -> write_draft\n",
    "- suggest_changes_node -> suggest_changes\n",
    "- rewrite_node -> rewrite\n",
    "\n",
    "# conditional edge/router functions\n",
    "- do_research_router -> route_do_research\n",
    "- need_rewrite_router -> route_rewrite\n",
    "\n",
    "# chains functions\n",
    "- categorize_email\n",
    "- route_do_research\n",
    "- find_keywords\n",
    "- write_draft\n",
    "- route_rewrite\n",
    "- suggest_changes\n",
    "- rewrite"
   ]
  },
  {
   "cell_type": "code",
   "execution_count": 39,
   "id": "7057b3f3-9baf-4f6b-b2f6-8b939d286818",
   "metadata": {},
   "outputs": [],
   "source": [
    "from langchain_core.prompts import ChatPromptTemplate\n",
    "from langchain.prompts import PromptTemplate\n",
    "\n",
    "from langchain_core.output_parsers import StrOutputParser\n",
    "from langchain_core.output_parsers import JsonOutputParser\n",
    "\n",
    "from langchain_groq import ChatGroq\n",
    "\n",
    "from langchain.schema import Document"
   ]
  },
  {
   "cell_type": "code",
   "execution_count": 5,
   "id": "7caca03b-2735-4b75-8b0b-d460c661f4a9",
   "metadata": {},
   "outputs": [],
   "source": [
    "# define the llm\n",
    "llm = ChatGroq(model=\"llama3-70b-8192\")"
   ]
  },
  {
   "cell_type": "markdown",
   "id": "2e389c08-50aa-4aa9-a1a8-7a8912fa5fb4",
   "metadata": {},
   "source": [
    "# Chains\n",
    "- categorize_email\n",
    "- route_do_research\n",
    "- find_keywords\n",
    "- write_draft\n",
    "- route_rewrite\n",
    "- suggest_changes\n",
    "- rewrite"
   ]
  },
  {
   "cell_type": "code",
   "execution_count": 21,
   "id": "663f64ff-5f32-4202-8cef-71f951269200",
   "metadata": {},
   "outputs": [],
   "source": [
    "# categorize_email chain\n",
    "prompt = PromptTemplate(\n",
    "    template=\"\"\"<|begin_of_text|><|start_header_id|>system<|end_header_id|>\n",
    "    You are a Email Categorizer Agent. \n",
    "    You are a master at understanding what a customer wants when they write an email and are able to categorize it in a useful way.\n",
    "\n",
    "    <|eot_id|><|start_header_id|>user<|end_header_id|>\n",
    "    Your task is to conduct a comprehensive analysis of the email provided and categorize it following the instructions below.\n",
    "    \n",
    "    % INSTRUCTIONS:\n",
    "    - Categorize the email into one of the following categories:\n",
    "        price_equiry - used when someone is asking for information about pricing\n",
    "        customer_complaint - used when someone is complaining about something\n",
    "        product_enquiry - used when someone is asking for information about a product feature, benefit or service but not about pricing\n",
    "        customer_feedback - used when someone is giving feedback about a product\n",
    "        off_topic when it doesnt relate to any other category\n",
    "    - Output a single categoy only from the types ('price_equiry', 'customer_complaint', 'product_enquiry', 'customer_feedback', 'off_topic') eg: 'price_enquiry'\n",
    "    - Only provide the category, and nothing else, no more text\n",
    "\n",
    "    % EMAIL CONTENT:\n",
    "    \n",
    "    {initial_email}\n",
    "    \n",
    "    <|eot_id|><|start_header_id|>assistant<|end_header_id|>\n",
    "    \"\"\",\n",
    "    input_variables=[\"initial_email\"],\n",
    ")\n",
    "\n",
    "categorize_email = prompt | llm | StrOutputParser()"
   ]
  },
  {
   "cell_type": "code",
   "execution_count": 22,
   "id": "f3ba88ca-e6e6-4c3e-b8e2-ecb693f31736",
   "metadata": {},
   "outputs": [
    {
     "name": "stdout",
     "output_type": "stream",
     "text": [
      "customer_feedback\n"
     ]
    }
   ],
   "source": [
    "# test - categorize_email chain\n",
    "test_email = \"\"\"HI there, \\n\n",
    "I am emailing to say that I had a wonderful stay at your resort last week. \\n\n",
    "\n",
    "I really appreaciate what your staff did\n",
    "\n",
    "Thanks,\n",
    "Paul\n",
    "\"\"\"\n",
    "\n",
    "result = categorize_email.invoke({\"initial_email\": test_email})\n",
    "\n",
    "print(result)"
   ]
  },
  {
   "cell_type": "code",
   "execution_count": 23,
   "id": "b788bece-f91a-4bd3-a31e-b296b4cf94b4",
   "metadata": {},
   "outputs": [],
   "source": [
    "# do_research_router\n",
    "prompt = PromptTemplate(\n",
    "    template=\"\"\"<|begin_of_text|><|start_header_id|>system<|end_header_id|>\n",
    "    You are an expert at reading the initial email and routing web search or directly to a draft email.\n",
    "\n",
    "    <|eot_id|><|start_header_id|>user<|end_header_id|>\n",
    "    Your task is to decide if we need to do a web search or write a draft email directly. Follow the instructions.\n",
    "\n",
    "    % INSTRUCTIONS:\n",
    "    - Use the following criteria to decide how to route the email:\n",
    "    - If the initial email only requires a simple response, Just choose 'draft_email' for questions you can easily answer, prompt engineering, and adversarial attacks.\n",
    "    - If the email is just saying thank you etc then choose 'draft_email'\n",
    "    - You do not need to be stringent with the keywords in the question related to these topics. \n",
    "    - Otherwise, use research-info.\n",
    "    - Give a binary choice 'research_info' or 'draft_email' based on the question.\n",
    "    - Return the a JSON with a single key 'router_decision' and no premable or explaination or any other text. \n",
    "    - use both the initial email and the email category as context to make your decision\n",
    "\n",
    "    % CONTEXT:\n",
    "    Email to route INITIAL_EMAIL : {initial_email}\n",
    "    \n",
    "    EMAIL_CATEGORY: {email_category}\n",
    "    \n",
    "    <|eot_id|><|start_header_id|>assistant<|end_header_id|>\"\"\",\n",
    "    input_variables=[\"initial_email\", \"email_category\"],\n",
    ")\n",
    "\n",
    "route_do_research = prompt | llm | JsonOutputParser()"
   ]
  },
  {
   "cell_type": "code",
   "execution_count": 24,
   "id": "b221aff1-41ff-4866-adc7-bb08168a10fb",
   "metadata": {},
   "outputs": [
    {
     "name": "stdout",
     "output_type": "stream",
     "text": [
      "{'router_decision': 'draft_email'}\n"
     ]
    }
   ],
   "source": [
    "# test - do_research_router\n",
    "email_category = 'customer_feedback'\n",
    "\n",
    "print(route_do_research.invoke({\"initial_email\": test_email, \"email_category\": email_category}))"
   ]
  },
  {
   "cell_type": "code",
   "execution_count": 25,
   "id": "7a1460ac-3530-4dd3-8fa2-2caa0affaad4",
   "metadata": {},
   "outputs": [],
   "source": [
    "# find_keywords\n",
    "prompt = PromptTemplate(\n",
    "    template=\"\"\"<|begin_of_text|><|start_header_id|>system<|end_header_id|>\n",
    "    You are an AI Assistant. You are a master at working out the best keywords to search for in a web search to get the best info for the customer.\n",
    "\n",
    "    <|eot_id|><|start_header_id|>user<|end_header_id|>\n",
    "    Your task is to work out the best keywords that will find the best, given the INITIAL_EMAIL and EMAIL_CATEGORY as CONTEXT.\n",
    "    Follow the instructions.\n",
    "\n",
    "    % INSTRUCTIONS:\n",
    "    - work out the keywords for helping to write the final email\n",
    "    - Return a JSON with a single key 'keywords' with no more than 3 keywords and no premable or explaination.\n",
    "\n",
    "    % CONTEXT:\n",
    "    INITIAL_EMAIL: {initial_email}\\n\n",
    "    EMAIL_CATEGORY: {email_category}\\n\n",
    "    <|eot_id|><|start_header_id|>assistant<|end_header_id|>\"\"\",\n",
    "    input_variables=[\"initial_email\", \"email_category\"],\n",
    ")\n",
    "\n",
    "find_keywords = prompt | llm | JsonOutputParser()"
   ]
  },
  {
   "cell_type": "code",
   "execution_count": 26,
   "id": "42c49fdd-0521-48c3-b29a-7944ecef9739",
   "metadata": {},
   "outputs": [
    {
     "name": "stdout",
     "output_type": "stream",
     "text": [
      "{'keywords': ['hotel feedback', 'resort review', 'customer appreciation']}\n"
     ]
    }
   ],
   "source": [
    "print(find_keywords.invoke({\"initial_email\": test_email, \"email_category\": email_category}))"
   ]
  },
  {
   "cell_type": "code",
   "execution_count": 28,
   "id": "986c77e6-aef6-4dad-9d68-ed4b072ac723",
   "metadata": {},
   "outputs": [],
   "source": [
    "# write_draft\n",
    "prompt = PromptTemplate(\n",
    "    template=\"\"\"<|begin_of_text|><|start_header_id|>system<|end_header_id|>\n",
    "    You are an Email Writer Assistant. You help business to write email drafts.\n",
    "\n",
    "    <|eot_id|><|start_header_id|>user<|end_header_id|>\n",
    "    Your task is to take the INITIAL_EMAIL, EMAIL_CATEGORY and RESEARCH_INFO as CONTEXT to write a draft email.\n",
    "    Follow the instructions.\n",
    "\n",
    "    % INSTRUCTIONS:\n",
    "    - Use the CONTEXT below where INITIAL_EMAIL is an email from a human that has emailed our company email address, the EMAIL_CATEGORY that the categorizer agent gave it and the RESEARCH_INFO from the research agent to write a helpful email in a thoughtful and friendly way\n",
    "    - If the customer email is 'off_topic' then ask them questions to get more information.\n",
    "    - If the customer email is 'customer_complaint' then try to assure we value them and that we are addressing their issues.\n",
    "    - If the customer email is 'customer_feedback' then try to assure we value them and that we are addressing their issues.\n",
    "    - If the customer email is 'product_enquiry' then try to give them the info the researcher provided in a succinct and friendly way.\n",
    "    - If the customer email is 'price_equiry' then try to give the pricing info they requested.\n",
    "    - You never make up information that hasn't been provided by the research_info or in the initial_email.\n",
    "    - Always sign off the emails in appropriate manner and from Sarah the Resident Manager.\n",
    "    - Return the email a JSON with a single key 'email_draft' and no premable or explaination.\n",
    "\n",
    "    % CONTEXT:\n",
    "    INITIAL_EMAIL: {initial_email} \\n\n",
    "    EMAIL_CATEGORY: {email_category} \\n\n",
    "    RESEARCH_INFO: {research_info} \\n\n",
    "    <|eot_id|><|start_header_id|>assistant<|end_header_id|>\"\"\",\n",
    "    input_variables=[\"initial_email\", \"email_category\", \"research_info\"],\n",
    ")\n",
    "\n",
    "write_draft = prompt | llm | JsonOutputParser()"
   ]
  },
  {
   "cell_type": "code",
   "execution_count": 29,
   "id": "572449ee-4e42-42c2-9212-530e5494c892",
   "metadata": {},
   "outputs": [
    {
     "name": "stdout",
     "output_type": "stream",
     "text": [
      "{'email_draft': \"Dear Paul,\\n\\nThank you so much for taking the time to share your wonderful feedback about your recent stay at our resort! We're thrilled to hear that our staff were able to make your stay special. We truly value your feedback and appreciate your kind words. It's guests like you who make our job so rewarding.\\n\\nThanks again for choosing to stay with us, and we hope to welcome you back soon.\\n\\nBest regards,\\nSarah, Resident Manager\"}\n"
     ]
    }
   ],
   "source": [
    "research_info = None\n",
    "\n",
    "print(write_draft.invoke({\"initial_email\": test_email, \"email_category\": email_category,\"research_info\": research_info}))"
   ]
  },
  {
   "cell_type": "code",
   "execution_count": 30,
   "id": "ab116fee-c793-44a4-a2ac-d34d8b7b3e76",
   "metadata": {},
   "outputs": [],
   "source": [
    "## Rewrite Router\n",
    "prompt = PromptTemplate(\n",
    "    template=\"\"\"<|begin_of_text|><|start_header_id|>system<|end_header_id|>\n",
    "    You are an assitant, expert at evaluating the emails.\n",
    "\n",
    "    <|eot_id|><|start_header_id|>user<|end_header_id|>\n",
    "    Your task is to evaluate the emails that are draft emails for the customer and decide if they need to be rewritten to be better.\n",
    "    Follow the instructions.\n",
    "\n",
    "    % INSTRUCTIONS:\n",
    "    - Use INITIAL_EMAIL, EMAIL_CATEGORY and DRAFT_EMAIL as context to evaluate the emails.\n",
    "    - Use the following criteria to decide if the DRAFT_EMAIL needs to be rewritten:\n",
    "    - If the INITIAL_EMAIL only requires a simple response which the DRAFT_EMAIL contains then it doesn't need to be rewritten.\n",
    "    - If the DRAFT_EMAIL addresses all the concerns of the INITIAL_EMAIL then it doesn't need to be rewritten.\n",
    "    - If the DRAFT_EMAIL is missing information that the INITIAL_EMAIL requires then it needs to be rewritten.\n",
    "    - Give a binary choice 'rewrite' (for needs to be rewritten) or 'no_rewrite' (for doesn't need to be rewritten) based on the DRAFT_EMAIL and the criteria.\n",
    "    - Return the a JSON with a single key 'router_decision' and no premable or explanation.\n",
    "\n",
    "    % CONTEXT:\n",
    "    INITIAL_EMAIL: {initial_email} \\n\n",
    "    EMAIL_CATEGORY: {email_category} \\n\n",
    "    DRAFT_EMAIL: {draft_email} \\n\n",
    "    <|eot_id|><|start_header_id|>assistant<|end_header_id|>\"\"\",\n",
    "    input_variables=[\"initial_email\", \"email_category\", \"draft_email\"],\n",
    ")\n",
    "\n",
    "route_rewrite = prompt | llm | JsonOutputParser()"
   ]
  },
  {
   "cell_type": "code",
   "execution_count": 31,
   "id": "661d3564-17b1-4c59-9c5f-12a97a7653d5",
   "metadata": {},
   "outputs": [
    {
     "name": "stdout",
     "output_type": "stream",
     "text": [
      "{'router_decision': 'rewrite'}\n"
     ]
    }
   ],
   "source": [
    "draft_email = \"Yo we can't help you, best regards Sarah\"\n",
    "\n",
    "print(route_rewrite.invoke({\"initial_email\": test_email, \"email_category\": email_category, \"draft_email\": draft_email}))"
   ]
  },
  {
   "cell_type": "code",
   "execution_count": 32,
   "id": "5aaccfaa-4d31-4fb7-b8b3-1d006c959842",
   "metadata": {},
   "outputs": [],
   "source": [
    "## suggest_changes\n",
    "prompt = PromptTemplate(\n",
    "    template=\"\"\"<|begin_of_text|><|start_header_id|>system<|end_header_id|>\n",
    "    You are the Quality Control Assitant.\n",
    "\n",
    "    <|eot_id|><|start_header_id|>user<|end_header_id|>\n",
    "    Your task is to analyze an email and provide your thoughts for improving the email.\n",
    "    Follow the instructions.\n",
    "\n",
    "    % INSTRUCTIONS:\n",
    "    - Use INITIAL_EMAIL, EMAIL_CATEGORY, RESEARCH_INFO and DRAFT_EMAIL as your context\n",
    "    - Read the INITIAL_EMAIL below  from a human that has emailed \\\n",
    "    our company email address, the EMAIL_CATEGORY that the categorizer agent gave it and the \\\n",
    "    RESEARCH_INFO from the research agent and write an analysis to improve the email.\n",
    "    - Check if the DRAFT_EMAIL addresses the customer's issued based on the email category and the \\\n",
    "    content of the initial email.\n",
    "    - Give feedback of how the email can be improved and what specific things can be added or change\\\n",
    "    to make the email more effective at addressing the customer's issues.\n",
    "    - You never make up or add information that hasn't been provided by the research_info or in the INITIAL_EMAIL.\n",
    "    - Return the analysis a JSON with a single key 'draft_analysis' and no premable or explaination.\n",
    "\n",
    "    % CONTEXT:\n",
    "    INITIAL_EMAIL: {initial_email} \\n\\n\n",
    "    EMAIL_CATEGORY: {email_category} \\n\\n\n",
    "    RESEARCH_INFO: {research_info} \\n\\n\n",
    "    DRAFT_EMAIL: {draft_email} \\n\\n\n",
    "    <|eot_id|><|start_header_id|>assistant<|end_header_id|>\"\"\",\n",
    "    input_variables=[\"initial_email\", \"email_category\", \"research_info\"],\n",
    ")\n",
    "\n",
    "suggest_changes = prompt | llm | JsonOutputParser()"
   ]
  },
  {
   "cell_type": "code",
   "execution_count": 33,
   "id": "4528bfb7-eca3-4f79-a92d-d6b455a4d3bb",
   "metadata": {},
   "outputs": [
    {
     "name": "stdout",
     "output_type": "stream",
     "text": [
      "{'draft_analysis': {'issues': [\"The draft email does not acknowledge the customer's positive feedback.\", 'The tone of the draft email is informal and unprofessional.', \"The draft email does not express gratitude for the customer's appreciation.\"], 'suggestions': ['Start the email by thanking the customer for their feedback.', 'Express appreciation for their kind words about the staff.', 'Use a professional and polite tone throughout the email.', 'Consider adding a personalized message or offer to encourage the customer to return.'], 'improved_draft': 'Dear Paul, Thank you for taking the time to share your wonderful experience at our resort. We are thrilled to hear that our staff made your stay special. We appreciate your kind words and look forward to welcoming you back in the future. Best regards, Sarah.'}}\n"
     ]
    }
   ],
   "source": [
    "email_analysis = suggest_changes.invoke({\"initial_email\": test_email,\n",
    "                                 \"email_category\": email_category,\n",
    "                                 \"research_info\": research_info,\n",
    "                                 \"draft_email\": draft_email})\n",
    "\n",
    "print(email_analysis)"
   ]
  },
  {
   "cell_type": "code",
   "execution_count": 34,
   "id": "2532a9b8-da3e-4c87-be10-ebe166bb56ad",
   "metadata": {},
   "outputs": [],
   "source": [
    "# Rewrite Email with Analysis\n",
    "prompt = PromptTemplate(\n",
    "    template=\"\"\"<|begin_of_text|><|start_header_id|>system<|end_header_id|>\n",
    "    You are the Final Email Assistant. \n",
    "\n",
    "    <|eot_id|><|start_header_id|>user<|end_header_id|>\n",
    "    Your task is to use the context below \\\n",
    "    and use it to rewrite and improve the draft_email to create a final email.\n",
    "    Follow the instructions.\n",
    "\n",
    "    % INSTRUCTIONS:\n",
    "    - Use the DRAFT_EMAIL_FEEDBACK from the context to write the final email.\n",
    "    - You never make up or add information that hasn't been provided by the research_info or in the initial_email.\n",
    "    - Return the final email as JSON with a single key 'final_email' which is a string and no premable or explaination.\n",
    "\n",
    "    % CONTEXT:\n",
    "    EMAIL_CATEGORY: {email_category} \\n\\n\n",
    "    RESEARCH_INFO: {research_info} \\n\\n\n",
    "    DRAFT_EMAIL: {draft_email} \\n\\n\n",
    "    DRAFT_EMAIL_FEEDBACK: {email_analysis} \\n\\n\n",
    "    <|eot_id|><|start_header_id|>assistant<|end_header_id|>\"\"\",\n",
    "    input_variables=[\"initial_email\",\n",
    "                     \"email_category\",\n",
    "                     \"research_info\",\n",
    "                     \"email_analysis\",\n",
    "                     \"draft_email\",\n",
    "                     ],\n",
    ")\n",
    "\n",
    "rewrite = prompt | llm | JsonOutputParser()"
   ]
  },
  {
   "cell_type": "code",
   "execution_count": 35,
   "id": "826599ec-0a47-48dd-a7df-a2de34e8ba34",
   "metadata": {},
   "outputs": [
    {
     "name": "stdout",
     "output_type": "stream",
     "text": [
      "{'final_email': 'Dear Paul, Thank you for taking the time to share your wonderful experience at our resort. We are thrilled to hear that our staff made your stay special. We appreciate your kind words and look forward to welcoming you back in the future. Best regards, Sarah.'}\n"
     ]
    }
   ],
   "source": [
    "final_email = rewrite.invoke({\"initial_email\": test_email,\n",
    "                              \"email_category\": email_category,\n",
    "                              \"research_info\": research_info,\n",
    "                              \"draft_email\": draft_email,\n",
    "                              \"email_analysis\": email_analysis})\n",
    "\n",
    "print(final_email)"
   ]
  },
  {
   "cell_type": "markdown",
   "id": "3efdcef7-d326-4769-8ac8-bb75560831d8",
   "metadata": {},
   "source": [
    "# Tool Setup"
   ]
  },
  {
   "cell_type": "code",
   "execution_count": 38,
   "id": "9079ff47-8960-464d-9a2c-7d63213a7279",
   "metadata": {},
   "outputs": [],
   "source": [
    "### Search\n",
    "from langchain_community.tools.tavily_search import TavilySearchResults\n",
    "\n",
    "web_search_tool = TavilySearchResults(k=1)"
   ]
  },
  {
   "cell_type": "markdown",
   "id": "b0366453-2c85-40e8-889c-5d8184ae1c68",
   "metadata": {},
   "source": [
    "# State"
   ]
  },
  {
   "cell_type": "code",
   "execution_count": 52,
   "id": "0ec6dc9b-e53c-4402-b6e1-2f29bb5f5aa8",
   "metadata": {},
   "outputs": [],
   "source": [
    "from typing_extensions import TypedDict\n",
    "from typing import List\n",
    "\n",
    "class EmailDraftGraphState(TypedDict):\n",
    "    \"\"\"\n",
    "    Represents the state of our graph.\n",
    "    \"\"\"\n",
    "    num_steps : int\n",
    "    initial_email : str\n",
    "    email_category : str\n",
    "    research_info : List[str]\n",
    "    info_needed : bool\n",
    "    draft_email : str\n",
    "    email_analysis : dict    \n",
    "    final_email : str"
   ]
  },
  {
   "cell_type": "markdown",
   "id": "cff86dfb-98ca-41aa-aa5d-810eba3023f9",
   "metadata": {},
   "source": [
    "# Nodes\n",
    "- categorize_email_node -> categorize_email\n",
    "- do_research_node -> find_keywords\n",
    "- write_draft_node -> write_draft\n",
    "- suggest_changes_node -> suggest_changes\n",
    "- rewrite_node -> rewrite"
   ]
  },
  {
   "cell_type": "code",
   "execution_count": 41,
   "id": "60ffaa46-a1f9-453b-933b-310dc1fa5601",
   "metadata": {},
   "outputs": [],
   "source": [
    "def categorize_email_node(state):\n",
    "    \"\"\"take the initial email and categorize it\"\"\"\n",
    "    print(\"---CATEGORIZING INITIAL EMAIL---\")\n",
    "    initial_email = state['initial_email']\n",
    "    num_steps = int(state['num_steps'])\n",
    "    num_steps += 1\n",
    "\n",
    "    email_category = categorize_email.invoke({\"initial_email\": initial_email})\n",
    "    print(email_category)\n",
    "\n",
    "    return {\"email_category\": email_category, \"num_steps\": num_steps}"
   ]
  },
  {
   "cell_type": "code",
   "execution_count": 43,
   "id": "ace52db3-547c-40bf-9dcb-dcc7418e11ab",
   "metadata": {},
   "outputs": [],
   "source": [
    "def do_research_node(state):\n",
    "    print(\"---RESEARCH INFO SEARCHING---\")\n",
    "    initial_email = state[\"initial_email\"]\n",
    "    email_category = state[\"email_category\"]\n",
    "    research_info = state[\"research_info\"]\n",
    "    num_steps = state['num_steps']\n",
    "    num_steps += 1\n",
    "\n",
    "    # Web search\n",
    "    keywords = find_keywords.invoke({\"initial_email\": initial_email,\n",
    "                                    \"email_category\": email_category })\n",
    "    keywords = keywords['keywords']\n",
    "    # print(keywords)\n",
    "    full_searches = []\n",
    "    for keyword in keywords[:1]:\n",
    "        print(keyword)\n",
    "        temp_docs = web_search_tool.invoke({\"query\": keyword})\n",
    "        web_results = \"\\n\".join([d[\"content\"] for d in temp_docs])\n",
    "        web_results = Document(page_content=web_results)\n",
    "        if full_searches is not None:\n",
    "            full_searches.append(web_results)\n",
    "        else:\n",
    "            full_searches = [web_results]\n",
    "    print(full_searches)\n",
    "    return {\"research_info\": full_searches, \"num_steps\": num_steps}"
   ]
  },
  {
   "cell_type": "code",
   "execution_count": 44,
   "id": "5ff67979-7a90-4834-b381-fadae45617b2",
   "metadata": {},
   "outputs": [],
   "source": [
    "def write_draft_node(state):\n",
    "    print(\"---DRAFT EMAIL WRITER---\")\n",
    "    ## Get the state\n",
    "    initial_email = state[\"initial_email\"]\n",
    "    email_category = state[\"email_category\"]\n",
    "    research_info = state[\"research_info\"]\n",
    "    num_steps = state['num_steps']\n",
    "    num_steps += 1\n",
    "\n",
    "    # Generate draft email\n",
    "    draft_email = write_draft.invoke({\"initial_email\": initial_email,\n",
    "                                     \"email_category\": email_category,\n",
    "                                     \"research_info\": research_info})\n",
    "    print(draft_email)\n",
    "\n",
    "    email_draft = draft_email['email_draft']\n",
    "\n",
    "    return {\"draft_email\": email_draft, \"num_steps\": num_steps}"
   ]
  },
  {
   "cell_type": "code",
   "execution_count": 45,
   "id": "0f4c67d9-a3fe-4863-9d6e-c0e80ec70809",
   "metadata": {},
   "outputs": [],
   "source": [
    "def suggest_changes_node(state):\n",
    "    print(\"---DRAFT EMAIL ANALYZER---\")\n",
    "    ## Get the state\n",
    "    initial_email = state[\"initial_email\"]\n",
    "    email_category = state[\"email_category\"]\n",
    "    draft_email = state[\"draft_email\"]\n",
    "    research_info = state[\"research_info\"]\n",
    "    num_steps = state['num_steps']\n",
    "    num_steps += 1\n",
    "\n",
    "    # Generate draft email\n",
    "    draft_email_feedback = suggest_changes.invoke({\"initial_email\": initial_email,\n",
    "                                                \"email_category\": email_category,\n",
    "                                                \"research_info\": research_info,\n",
    "                                                \"draft_email\": draft_email}\n",
    "                                               )\n",
    "    print(draft_email_feedback)\n",
    "    return {\"draft_email_feedback\": draft_email_feedback, \"num_steps\": num_steps}"
   ]
  },
  {
   "cell_type": "code",
   "execution_count": 46,
   "id": "e7f99b2d-cd1d-44ea-9877-89ae31395cc2",
   "metadata": {},
   "outputs": [],
   "source": [
    "def rewrite_node(state):\n",
    "    print(\"---ReWRITE EMAIL ---\")\n",
    "    ## Get the state\n",
    "    initial_email = state[\"initial_email\"]\n",
    "    email_category = state[\"email_category\"]\n",
    "    draft_email = state[\"draft_email\"]\n",
    "    research_info = state[\"research_info\"]\n",
    "    draft_email_feedback = state[\"draft_email_feedback\"]\n",
    "    num_steps = state['num_steps']\n",
    "    num_steps += 1\n",
    "\n",
    "    # Generate draft email\n",
    "    final_email_dict = rewrite.invoke({\"initial_email\": initial_email,\n",
    "                                    \"email_category\": email_category,\n",
    "                                    \"research_info\":research_info,\n",
    "                                    \"draft_email\":draft_email,\n",
    "                                    \"email_analysis\": draft_email_feedback,\n",
    "                                 })\n",
    "\n",
    "    final_email = final_email_dict['final_email']\n",
    "    print(final_email)\n",
    "    return {\"final_email\": final_email, \"num_steps\":num_steps}"
   ]
  },
  {
   "cell_type": "code",
   "execution_count": 47,
   "id": "5e4dee8b-357f-4561-9036-e24fd2746304",
   "metadata": {},
   "outputs": [],
   "source": [
    "def no_rewrite_node(state):\n",
    "    print(\"---NO REWRITE EMAIL ---\")\n",
    "    ## Get the state\n",
    "    draft_email = state[\"draft_email\"]\n",
    "    num_steps = state['num_steps']\n",
    "    num_steps += 1\n",
    "\n",
    "    print(draft_email)\n",
    "    return {\"final_email\": draft_email, \"num_steps\":num_steps}"
   ]
  },
  {
   "cell_type": "markdown",
   "id": "b08658ac-44ba-410d-b854-69def3420676",
   "metadata": {},
   "source": [
    "# Conditional Edges\n",
    "- do_research_router -> route_do_research\n",
    "- rewrite_router -> route_rewrite"
   ]
  },
  {
   "cell_type": "code",
   "execution_count": 61,
   "id": "7e2512a2-5be6-4b0b-8f96-20cfd3c11225",
   "metadata": {},
   "outputs": [],
   "source": [
    "def do_research_router(state):\n",
    "    print(\"---ROUTE TO RESEARCH---\")\n",
    "    initial_email = state[\"initial_email\"]\n",
    "    email_category = state[\"email_category\"]\n",
    "\n",
    "    router = route_do_research.invoke({\"initial_email\": initial_email, \"email_category\": email_category })\n",
    "    print(router)\n",
    "    print(router['router_decision'])\n",
    "    \n",
    "    if router['router_decision'] == 'research_info':\n",
    "        print(\"---ROUTE EMAIL TO RESEARCH INFO---\")\n",
    "        return \"do_research\"\n",
    "    elif router['router_decision'] == 'draft_email':\n",
    "        print(\"---ROUTE EMAIL TO DRAFT EMAIL---\")\n",
    "        return \"write_draft\""
   ]
  },
  {
   "cell_type": "code",
   "execution_count": 62,
   "id": "5d939bfd-d10d-43db-b394-414d8e748c66",
   "metadata": {},
   "outputs": [],
   "source": [
    "def rewrite_router(state):\n",
    "    print(\"---ROUTE TO REWRITE---\")\n",
    "    initial_email = state[\"initial_email\"]\n",
    "    email_category = state[\"email_category\"]\n",
    "    draft_email = state[\"draft_email\"]\n",
    "    research_info = state[\"research_info\"]\n",
    "\n",
    "    router = route_rewrite.invoke({\"initial_email\": initial_email,\n",
    "                                   \"email_category\":email_category,\n",
    "                                   \"draft_email\":draft_email,\n",
    "                                  })\n",
    "    print(router)\n",
    "    print(router['router_decision'])\n",
    "    if router['router_decision'] == 'rewrite':\n",
    "        print(\"---ROUTE TO ANALYSIS - REWRITE---\")\n",
    "        return \"suggest_changes\"\n",
    "    elif router['router_decision'] == 'no_rewrite':\n",
    "        print(\"---ROUTE EMAIL TO FINAL EMAIL---\")\n",
    "        return \"no_rewrite\""
   ]
  },
  {
   "cell_type": "markdown",
   "id": "85694f38-c2eb-4231-82fa-7ecb06bf7e65",
   "metadata": {},
   "source": [
    "# Build the Graph"
   ]
  },
  {
   "cell_type": "code",
   "execution_count": 55,
   "id": "53592d4a-80e8-4c76-9ab6-e9645caccf25",
   "metadata": {},
   "outputs": [],
   "source": [
    "from langgraph.graph import END, StateGraph"
   ]
  },
  {
   "cell_type": "code",
   "execution_count": 65,
   "id": "fe978a2a-7664-45c5-b81b-76b18c3d5318",
   "metadata": {},
   "outputs": [],
   "source": [
    "# define the workflow\n",
    "workflow = StateGraph(EmailDraftGraphState)\n",
    "workflow.set_entry_point(\"categorize_email\")"
   ]
  },
  {
   "cell_type": "code",
   "execution_count": 66,
   "id": "6fdd0ad9-c3b3-4e26-aa12-4461d0f41a2f",
   "metadata": {},
   "outputs": [],
   "source": [
    "# Define the nodes\n",
    "workflow.add_node(\"categorize_email\", categorize_email_node) # categorize email\n",
    "workflow.add_node(\"do_research\", do_research_node) # web search\n",
    "workflow.add_node(\"write_draft\", write_draft_node)\n",
    "workflow.add_node(\"suggest_changes\", suggest_changes_node)\n",
    "workflow.add_node(\"rewrite\", rewrite_node)\n",
    "workflow.add_node(\"no_rewrite\", no_rewrite_node)"
   ]
  },
  {
   "cell_type": "code",
   "execution_count": 67,
   "id": "fec79d49-73d5-45c3-9a0d-a74b62c2b062",
   "metadata": {},
   "outputs": [],
   "source": [
    "# Edges\n",
    "workflow.add_conditional_edges(\n",
    "    \"categorize_email\",\n",
    "    do_research_router,\n",
    "    {\n",
    "        \"do_research\": \"do_research\",\n",
    "        \"write_draft\": \"write_draft\",\n",
    "    },\n",
    ")\n",
    "\n",
    "workflow.add_edge(\"do_research\", \"write_draft\")\n",
    "\n",
    "workflow.add_conditional_edges(\n",
    "    \"write_draft\",\n",
    "    rewrite_router,\n",
    "    {\n",
    "        \"suggest_changes\": \"suggest_changes\",\n",
    "        \"no_rewrite\": \"no_rewrite\",\n",
    "    },\n",
    ")\n",
    "\n",
    "workflow.add_edge(\"suggest_changes\", \"rewrite\")\n",
    "workflow.add_edge(\"no_rewrite\", END)\n",
    "workflow.add_edge(\"rewrite\", END)"
   ]
  },
  {
   "cell_type": "code",
   "execution_count": 68,
   "id": "826a9aa2-0006-431f-bd3c-37b65e2c9d5d",
   "metadata": {},
   "outputs": [],
   "source": [
    "# Compile\n",
    "app = workflow.compile()"
   ]
  },
  {
   "cell_type": "code",
   "execution_count": 72,
   "id": "14325d9a-52f4-45db-b6d7-cd6e05a79a06",
   "metadata": {},
   "outputs": [
    {
     "name": "stdout",
     "output_type": "stream",
     "text": [
      "---CATEGORIZING INITIAL EMAIL---\n",
      "customer_feedback\n",
      "---ROUTE TO RESEARCH---\n",
      "{'router_decision': 'draft_email'}\n",
      "draft_email\n",
      "---ROUTE EMAIL TO DRAFT EMAIL---\n",
      "Finished running: categorize_email:\n",
      "---DRAFT EMAIL WRITER---\n",
      "{'email_draft': \"Dear Paul,\\n\\nThank you so much for taking the time to share your wonderful experience at our resort! We're thrilled to hear that you had a great stay with us, and we appreciate your kind words about our staff. \\n\\nWe value your feedback and are grateful for customers like you who help us improve our services. We'll make sure to pass on your appreciation to our team, and we hope to have the pleasure of welcoming you back to our resort again soon.\\n\\nBest regards,\\nSarah, Resident Manager\"}\n",
      "---ROUTE TO REWRITE---\n",
      "{'router_decision': 'no_rewrite'}\n",
      "no_rewrite\n",
      "---ROUTE EMAIL TO FINAL EMAIL---\n",
      "Finished running: write_draft:\n",
      "---NO REWRITE EMAIL ---\n",
      "Dear Paul,\n",
      "\n",
      "Thank you so much for taking the time to share your wonderful experience at our resort! We're thrilled to hear that you had a great stay with us, and we appreciate your kind words about our staff. \n",
      "\n",
      "We value your feedback and are grateful for customers like you who help us improve our services. We'll make sure to pass on your appreciation to our team, and we hope to have the pleasure of welcoming you back to our resort again soon.\n",
      "\n",
      "Best regards,\n",
      "Sarah, Resident Manager\n",
      "Finished running: no_rewrite:\n"
     ]
    }
   ],
   "source": [
    "# Test\n",
    "\n",
    "email = \"\"\"HI there, \\n\n",
    "I am emailing to say that I had a wonderful stay at your resort last week. \\n\n",
    "\n",
    "I really appreaciate what your staff did\n",
    "\n",
    "Thanks,\n",
    "Paul\"\"\"\n",
    "\n",
    "# run the agent\n",
    "inputs = {\"initial_email\": email, \"research_info\": \"\", \"num_steps\": 0}\n",
    "for output in app.stream(inputs):\n",
    "    for key, value in output.items():\n",
    "        print(f\"Finished running: {key}:\")"
   ]
  },
  {
   "cell_type": "code",
   "execution_count": 74,
   "id": "92b42862-3825-4051-977a-450c9f200af9",
   "metadata": {},
   "outputs": [
    {
     "name": "stdout",
     "output_type": "stream",
     "text": [
      "---CATEGORIZING INITIAL EMAIL---\n",
      "customer_feedback\n",
      "---ROUTE TO RESEARCH---\n",
      "{'router_decision': 'draft_email'}\n",
      "draft_email\n",
      "---ROUTE EMAIL TO DRAFT EMAIL---\n",
      "---DRAFT EMAIL WRITER---\n",
      "{'email_draft': \"Dear Paul,\\n\\nThank you so much for taking the time to share your wonderful feedback about your recent stay at our resort. We're thrilled to hear that our staff were able to make your stay special.\\n\\nWe truly value your feedback and appreciate your kind words. We'll make sure to pass them along to our team, as it will surely bring a smile to their faces.\\n\\nOnce again, thank you for choosing to stay with us, and we hope to have the pleasure of welcoming you back soon.\\n\\nBest regards,\\nSarah, Resident Manager\"}\n",
      "---ROUTE TO REWRITE---\n",
      "{'router_decision': 'no_rewrite'}\n",
      "no_rewrite\n",
      "---ROUTE EMAIL TO FINAL EMAIL---\n",
      "---NO REWRITE EMAIL ---\n",
      "Dear Paul,\n",
      "\n",
      "Thank you so much for taking the time to share your wonderful feedback about your recent stay at our resort. We're thrilled to hear that our staff were able to make your stay special.\n",
      "\n",
      "We truly value your feedback and appreciate your kind words. We'll make sure to pass them along to our team, as it will surely bring a smile to their faces.\n",
      "\n",
      "Once again, thank you for choosing to stay with us, and we hope to have the pleasure of welcoming you back soon.\n",
      "\n",
      "Best regards,\n",
      "Sarah, Resident Manager\n",
      "output: {'num_steps': 3, 'initial_email': 'HI there, \\n\\nI am emailing to say that I had a wonderful stay at your resort last week. \\n\\n\\nI really appreaciate what your staff did\\n\\nThanks,\\nPaul', 'email_category': 'customer_feedback', 'research_info': '', 'draft_email': \"Dear Paul,\\n\\nThank you so much for taking the time to share your wonderful feedback about your recent stay at our resort. We're thrilled to hear that our staff were able to make your stay special.\\n\\nWe truly value your feedback and appreciate your kind words. We'll make sure to pass them along to our team, as it will surely bring a smile to their faces.\\n\\nOnce again, thank you for choosing to stay with us, and we hope to have the pleasure of welcoming you back soon.\\n\\nBest regards,\\nSarah, Resident Manager\", 'final_email': \"Dear Paul,\\n\\nThank you so much for taking the time to share your wonderful feedback about your recent stay at our resort. We're thrilled to hear that our staff were able to make your stay special.\\n\\nWe truly value your feedback and appreciate your kind words. We'll make sure to pass them along to our team, as it will surely bring a smile to their faces.\\n\\nOnce again, thank you for choosing to stay with us, and we hope to have the pleasure of welcoming you back soon.\\n\\nBest regards,\\nSarah, Resident Manager\"}\n"
     ]
    }
   ],
   "source": [
    "# run the agent\n",
    "inputs = {\"initial_email\": email, \"research_info\": \"\", \"num_steps\": 0}\n",
    "output = app.invoke(inputs)\n",
    "print('output:', output)"
   ]
  }
 ],
 "metadata": {
  "kernelspec": {
   "display_name": "Python 3 (ipykernel)",
   "language": "python",
   "name": "python3"
  },
  "language_info": {
   "codemirror_mode": {
    "name": "ipython",
    "version": 3
   },
   "file_extension": ".py",
   "mimetype": "text/x-python",
   "name": "python",
   "nbconvert_exporter": "python",
   "pygments_lexer": "ipython3",
   "version": "3.9.6"
  }
 },
 "nbformat": 4,
 "nbformat_minor": 5
}
