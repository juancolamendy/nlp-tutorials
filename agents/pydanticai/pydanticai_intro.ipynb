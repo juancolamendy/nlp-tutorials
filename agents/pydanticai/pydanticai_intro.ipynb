{
 "cells": [
  {
   "cell_type": "code",
   "execution_count": 1,
   "id": "58584bd0-6468-4256-90b0-acd2a47a53c8",
   "metadata": {},
   "outputs": [
    {
     "data": {
      "text/plain": [
       "True"
      ]
     },
     "execution_count": 1,
     "metadata": {},
     "output_type": "execute_result"
    }
   ],
   "source": [
    "# import load_dotenv\n",
    "from dotenv import load_dotenv\n",
    "\n",
    "# load env\n",
    "load_dotenv()"
   ]
  },
  {
   "cell_type": "code",
   "execution_count": 2,
   "id": "0c28064a-72d3-4b0b-8dfe-c995abc0bbc3",
   "metadata": {},
   "outputs": [],
   "source": [
    "import nest_asyncio\n",
    "nest_asyncio.apply()"
   ]
  },
  {
   "cell_type": "code",
   "execution_count": 5,
   "id": "19eef760-b09e-4ffc-a0ba-9f713b55d6c0",
   "metadata": {},
   "outputs": [],
   "source": [
    "from pydantic_ai import Agent, RunContext\n",
    "\n",
    "roulette_agent = Agent(  \n",
    "    'openai:gpt-4o',\n",
    "    deps_type=int,\n",
    "    result_type=bool,\n",
    "    system_prompt=(\n",
    "        'Use the `roulette_wheel` function to see if the '\n",
    "        'customer has won based on the number they provide.'\n",
    "    ),\n",
    ")\n",
    "\n",
    "\n",
    "@roulette_agent.tool\n",
    "async def roulette_wheel(ctx: RunContext[int], square: int) -> str:  \n",
    "    \"\"\"check if the square is a winner\"\"\"\n",
    "    return 'winner' if square == ctx.deps else 'loser'"
   ]
  },
  {
   "cell_type": "code",
   "execution_count": 6,
   "id": "cc571020-39e2-4802-8bde-6e0edfc2e79a",
   "metadata": {},
   "outputs": [
    {
     "name": "stdout",
     "output_type": "stream",
     "text": [
      "<class 'pydantic_ai.agent.AgentRunResult'>\n",
      "AgentRunResult(data=True)\n",
      "True\n",
      "Getting weather info for 26.3683, -80.1289\n",
      "Getting weather info for 25.7617, -80.1918\n",
      "<class '__main__.User'>\n",
      "User(name='Anne')\n",
      "Getting weather info for 26.3683, -80.1289\n"
     ]
    }
   ],
   "source": [
    "# Run the agent\n",
    "success_number = 18  \n",
    "result = roulette_agent.run_sync('Put my money on square eighteen', deps=success_number)\n",
    "print(type(result))\n",
    "print(result)\n",
    "print(result.data)\n",
    "#> True"
   ]
  },
  {
   "cell_type": "code",
   "execution_count": 7,
   "id": "09560f40-2047-4a1b-942c-bdb026e40a79",
   "metadata": {},
   "outputs": [
    {
     "name": "stdout",
     "output_type": "stream",
     "text": [
      "False\n"
     ]
    }
   ],
   "source": [
    "result = roulette_agent.run_sync('I bet five is the winner', deps=success_number)\n",
    "print(result.data)\n",
    "#> False"
   ]
  },
  {
   "cell_type": "code",
   "execution_count": 8,
   "id": "ef96a5c3-332a-4cb7-862e-2480a21af1a4",
   "metadata": {},
   "outputs": [
    {
     "name": "stdout",
     "output_type": "stream",
     "text": [
      "The capital of France is Paris.\n",
      "The capital of the United Kingdom is London.\n"
     ]
    }
   ],
   "source": [
    "from pydantic_ai import Agent\n",
    "\n",
    "agent = Agent('openai:gpt-4o')\n",
    "\n",
    "result = await agent.run('What is the capital of France?')\n",
    "print(result.data)\n",
    "#> Paris\n",
    "\n",
    "async with agent.run_stream('What is the capital of the UK?') as response:\n",
    "    print(await response.get_data())\n",
    "    #> London"
   ]
  },
  {
   "cell_type": "code",
   "execution_count": 10,
   "id": "e82fbdd0-969c-4189-9bba-1af363fe4146",
   "metadata": {},
   "outputs": [
    {
     "name": "stdout",
     "output_type": "stream",
     "text": [
      "Rome\n",
      "Usage(requests=1, request_tokens=20, response_tokens=4, total_tokens=24, details=None)\n"
     ]
    }
   ],
   "source": [
    "from pydantic_ai import Agent\n",
    "from pydantic_ai.exceptions import UsageLimitExceeded\n",
    "from pydantic_ai.usage import UsageLimits\n",
    "\n",
    "agent = Agent('anthropic:claude-3-7-sonnet-latest')\n",
    "\n",
    "result_sync = agent.run_sync(\n",
    "    'What is the capital of Italy? Answer with just the city.',\n",
    "    usage_limits=UsageLimits(response_tokens_limit=10),\n",
    ")\n",
    "print(result_sync.data)\n",
    "print(result_sync.usage())"
   ]
  },
  {
   "cell_type": "code",
   "execution_count": 12,
   "id": "057cbed3-2cf6-4942-b51e-2f344d574f31",
   "metadata": {},
   "outputs": [
    {
     "name": "stdin",
     "output_type": "stream",
     "text": [
      "You:  When was the US declaration of Independence?\n"
     ]
    },
    {
     "name": "stdout",
     "output_type": "stream",
     "text": [
      "<class 'list'>\n",
      "[ModelRequest(parts=[SystemPromptPart(content='Be as concise as possible, reply with one sentence.', timestamp=datetime.datetime(2025, 4, 10, 10, 38, 43, 180977, tzinfo=datetime.timezone.utc), dynamic_ref=None, part_kind='system-prompt'), UserPromptPart(content='When was the US declaration of Independence?', timestamp=datetime.datetime(2025, 4, 10, 10, 38, 43, 180981, tzinfo=datetime.timezone.utc), part_kind='user-prompt')], kind='request'), ModelResponse(parts=[TextPart(content='The US Declaration of Independence was signed on July 4, 1776.', part_kind='text')], model_name='claude-3-7-sonnet-20250219', timestamp=datetime.datetime(2025, 4, 10, 10, 38, 43, 821153, tzinfo=datetime.timezone.utc), kind='response')]\n",
      "The US Declaration of Independence was signed on July 4, 1776.\n"
     ]
    },
    {
     "name": "stdin",
     "output_type": "stream",
     "text": [
      "You:  quit\n"
     ]
    }
   ],
   "source": [
    "from pydantic_ai import Agent\n",
    "from dotenv import load_dotenv\n",
    "\n",
    "agent = Agent('anthropic:claude-3-7-sonnet-latest', system_prompt='Be as concise as possible, reply with one sentence.')\n",
    "\n",
    "message_history = []\n",
    "while True:\n",
    "    current_message = input('You: ')\n",
    "    if current_message == 'quit':\n",
    "        break\n",
    "    result = agent.run_sync(current_message, message_history=message_history)\n",
    "    message_history = result.new_messages()\n",
    "    print(type(message_history))\n",
    "    print(message_history)\n",
    "    print(result.data)"
   ]
  },
  {
   "cell_type": "code",
   "execution_count": 14,
   "id": "ea8f8f99-d714-473c-ab6d-eecad517ebbb",
   "metadata": {},
   "outputs": [
    {
     "name": "stdin",
     "output_type": "stream",
     "text": [
      "You:  What's the temperature in Boca Raton, US today\n"
     ]
    },
    {
     "name": "stdout",
     "output_type": "stream",
     "text": [
      "<class 'list'>\n",
      "[ModelRequest(parts=[SystemPromptPart(content='Be as concise as possible, reply with one sentence.', timestamp=datetime.datetime(2025, 4, 10, 10, 50, 4, 377082, tzinfo=datetime.timezone.utc), dynamic_ref=None, part_kind='system-prompt'), UserPromptPart(content=\"What's the temperature in Boca Raton, US today\", timestamp=datetime.datetime(2025, 4, 10, 10, 50, 4, 377100, tzinfo=datetime.timezone.utc), part_kind='user-prompt')], kind='request'), ModelResponse(parts=[TextPart(content='Let me check the current temperature in Boca Raton for you.', part_kind='text'), ToolCallPart(tool_name='get_weather_info', args={'latitude': 26.3683, 'longitude': -80.1289}, tool_call_id='toolu_01QosMPvoXugRFQRdpscLd6p', part_kind='tool-call')], model_name='claude-3-7-sonnet-20250219', timestamp=datetime.datetime(2025, 4, 10, 10, 50, 6, 767703, tzinfo=datetime.timezone.utc), kind='response'), ModelRequest(parts=[ToolReturnPart(tool_name='get_weather_info', content={'latitude': 26.37878, 'longitude': -80.12955, 'generationtime_ms': 0.39076805114746094, 'utc_offset_seconds': 0, 'timezone': 'GMT', 'timezone_abbreviation': 'GMT', 'elevation': 6.0, 'current_units': {'time': 'iso8601', 'interval': 'seconds', 'temperature_2m': '°C', 'weather_code': 'wmo code'}, 'current': {'time': '2025-04-10T10:45', 'interval': 900, 'temperature_2m': 19.6, 'weather_code': 1}}, tool_call_id='toolu_01QosMPvoXugRFQRdpscLd6p', timestamp=datetime.datetime(2025, 4, 10, 10, 50, 7, 808589, tzinfo=datetime.timezone.utc), part_kind='tool-return')], kind='request'), ModelResponse(parts=[TextPart(content='The current temperature in Boca Raton is 19.6°C (about 67°F).', part_kind='text')], model_name='claude-3-7-sonnet-20250219', timestamp=datetime.datetime(2025, 4, 10, 10, 50, 9, 191518, tzinfo=datetime.timezone.utc), kind='response')]\n",
      "<class 'pydantic_ai.agent.AgentRunResult'>\n",
      "The current temperature in Boca Raton is 19.6°C (about 67°F).\n"
     ]
    },
    {
     "name": "stdin",
     "output_type": "stream",
     "text": [
      "You:  And in Miami\n"
     ]
    },
    {
     "name": "stdout",
     "output_type": "stream",
     "text": [
      "<class 'list'>\n",
      "[ModelRequest(parts=[UserPromptPart(content='And in Miami', timestamp=datetime.datetime(2025, 4, 10, 10, 53, 12, 87667, tzinfo=datetime.timezone.utc), part_kind='user-prompt')], kind='request'), ModelResponse(parts=[TextPart(content='Let me check the current temperature in Miami for you.', part_kind='text'), ToolCallPart(tool_name='get_weather_info', args={'latitude': 25.7617, 'longitude': -80.1918}, tool_call_id='toolu_01GHKV1oppJn6WQtyJScG3m7', part_kind='tool-call')], model_name='claude-3-7-sonnet-20250219', timestamp=datetime.datetime(2025, 4, 10, 10, 53, 14, 230914, tzinfo=datetime.timezone.utc), kind='response'), ModelRequest(parts=[ToolReturnPart(tool_name='get_weather_info', content={'latitude': 25.772915, 'longitude': -80.198326, 'generationtime_ms': 0.04673004150390625, 'utc_offset_seconds': 0, 'timezone': 'GMT', 'timezone_abbreviation': 'GMT', 'elevation': 5.0, 'current_units': {'time': 'iso8601', 'interval': 'seconds', 'temperature_2m': '°C', 'weather_code': 'wmo code'}, 'current': {'time': '2025-04-10T10:45', 'interval': 900, 'temperature_2m': 17.1, 'weather_code': 0}}, tool_call_id='toolu_01GHKV1oppJn6WQtyJScG3m7', timestamp=datetime.datetime(2025, 4, 10, 10, 53, 14, 989188, tzinfo=datetime.timezone.utc), part_kind='tool-return')], kind='request'), ModelResponse(parts=[TextPart(content='The current temperature in Miami is 17.1°C (about 63°F).', part_kind='text')], model_name='claude-3-7-sonnet-20250219', timestamp=datetime.datetime(2025, 4, 10, 10, 53, 16, 484756, tzinfo=datetime.timezone.utc), kind='response')]\n",
      "<class 'pydantic_ai.agent.AgentRunResult'>\n",
      "The current temperature in Miami is 17.1°C (about 63°F).\n"
     ]
    },
    {
     "name": "stdin",
     "output_type": "stream",
     "text": [
      "You:  quit\n"
     ]
    }
   ],
   "source": [
    "import requests\n",
    "from pydantic_ai import Agent\n",
    "\n",
    "agent = Agent('anthropic:claude-3-7-sonnet-latest', system_prompt='Be as concise as possible, reply with one sentence.')\n",
    "\n",
    "@agent.tool_plain\n",
    "def get_weather_info(latitude: float, longitude: float) -> str:\n",
    "    print(f\"Getting weather info for {latitude}, {longitude}\")\n",
    "    url = f\"https://api.open-meteo.com/v1/forecast?latitude={latitude}&longitude={longitude}&current=temperature_2m,weather_code\"\n",
    "    response = requests.get(url)\n",
    "    return response.json()\n",
    "\n",
    "message_history = []\n",
    "while True:\n",
    "    current_message = input('You: ')\n",
    "    if current_message == 'quit':\n",
    "        break\n",
    "    result = agent.run_sync(current_message, message_history=message_history)\n",
    "    message_history = result.new_messages()\n",
    "    print(type(message_history))\n",
    "    print(message_history)\n",
    "    print(type(result))\n",
    "    print(result.data)"
   ]
  },
  {
   "cell_type": "code",
   "execution_count": 16,
   "id": "5eebdd17-1712-4541-b3e2-f0d375b3464d",
   "metadata": {},
   "outputs": [
    {
     "name": "stdout",
     "output_type": "stream",
     "text": [
      "result1: Albert Einstein was a German-born theoretical physicist, widely acknowledged as one of the greatest and most influential scientists of all time. He's best known for developing the theory of relativity (including the famous equation E=mc²) and for his contributions to quantum mechanics. \n",
      "\n",
      "Einstein was born in 1879, immigrated to the United States in 1933 to escape Nazi Germany, and died in 1955. His work fundamentally changed our understanding of physics and the universe. Beyond his scientific achievements, he was also known for his humanitarian efforts, pacifism, and advocacy for civil rights.\n",
      "result2: Albert Einstein's most famous equation is E=mc², which is part of his theory of special relativity. \n",
      "\n",
      "This elegant equation establishes that energy (E) equals mass (m) multiplied by the speed of light (c) squared. It demonstrates the fundamental equivalence between mass and energy, showing that a small amount of mass can be converted into an enormous amount of energy. This principle underlies nuclear reactions and helped explain how stars, including our sun, produce energy.\n",
      "\n",
      "This equation revolutionized physics and our understanding of the universe, and has become perhaps the most widely recognized mathematical formula in history.\n"
     ]
    }
   ],
   "source": [
    "from pydantic_ai import Agent\n",
    "\n",
    "agent = Agent('anthropic:claude-3-7-sonnet-latest')\n",
    "\n",
    "# First run\n",
    "result1 = agent.run_sync('Who was Albert Einstein?')\n",
    "print('result1:', result1.data)\n",
    "#> Albert Einstein was a German-born theoretical physicist.\n",
    "\n",
    "# Second run, passing previous messages\n",
    "result2 = agent.run_sync(\n",
    "    'What was his most famous equation?',\n",
    "    message_history=result1.new_messages(),  \n",
    ")\n",
    "print('result2:', result2.data)\n",
    "#> Albert Einstein's most famous equation is (E = mc^2)."
   ]
  },
  {
   "cell_type": "code",
   "execution_count": 19,
   "id": "e747b7a6-3434-49f5-a29e-999155a7da52",
   "metadata": {},
   "outputs": [
    {
     "name": "stdout",
     "output_type": "stream",
     "text": [
      "True\n"
     ]
    }
   ],
   "source": [
    "from dataclasses import dataclass\n",
    "\n",
    "from pydantic_ai import Agent, RunContext\n",
    "\n",
    "\n",
    "@dataclass\n",
    "class User:\n",
    "    name: str\n",
    "\n",
    "\n",
    "agent = Agent(\n",
    "    'anthropic:claude-3-7-sonnet-latest',\n",
    "    deps_type=User,  \n",
    "    result_type=bool,\n",
    ")\n",
    "\n",
    "\n",
    "@agent.system_prompt\n",
    "def add_user_name(ctx: RunContext) -> str:\n",
    "    print(type(ctx.deps))\n",
    "    print(ctx.deps)\n",
    "    return f\"The user's name is {ctx.deps}.\"\n",
    "\n",
    "\n",
    "result = agent.run_sync('Does their name start with \"A\"?', deps=User('Anne'))\n",
    "print(result.data)"
   ]
  },
  {
   "cell_type": "code",
   "execution_count": 20,
   "id": "884e71cb-e0d2-44dd-9c80-767b9ae8166b",
   "metadata": {},
   "outputs": [
    {
     "name": "stdin",
     "output_type": "stream",
     "text": [
      "You:  What's the temperature of Boca Raton, Florida\n"
     ]
    },
    {
     "name": "stdout",
     "output_type": "stream",
     "text": [
      "<class '__main__.ResultType'>\n",
      "temperature=19.8 fun_fact_about_the_location='Boca Raton means \"Rat\\'s Mouth\" in Spanish, but was named by mistake as early mapmakers intended to name it after the rocky inlets in the area.'\n"
     ]
    },
    {
     "name": "stdin",
     "output_type": "stream",
     "text": [
      "You:  quit\n"
     ]
    }
   ],
   "source": [
    "import requests\n",
    "from pydantic import BaseModel\n",
    "from pydantic_ai import Agent\n",
    "\n",
    "class ResultType(BaseModel):\n",
    "    temperature: float\n",
    "    fun_fact_about_the_location: str\n",
    "\n",
    "agent = Agent(\n",
    "    'anthropic:claude-3-7-sonnet-latest',\n",
    "    system_prompt='Be as concise as possible, reply with one sentence.',\n",
    "    result_type=ResultType\n",
    ")\n",
    "\n",
    "@agent.tool_plain\n",
    "def get_weather_info(latitude: float, longitude: float) -> str:\n",
    "    print(f\"Getting weather info for {latitude}, {longitude}\")\n",
    "    url = f\"https://api.open-meteo.com/v1/forecast?latitude={latitude}&longitude={longitude}&current=temperature_2m,weather_code\"\n",
    "    response = requests.get(url)\n",
    "    return response.json()\n",
    "\n",
    "message_history = []\n",
    "while True:\n",
    "    current_message = input('You: ')\n",
    "    if current_message == 'quit':\n",
    "        break\n",
    "    result = agent.run_sync(current_message, message_history=message_history)\n",
    "    message_history = result.new_messages()\n",
    "    print(type(result.data))\n",
    "    print(result.data)"
   ]
  },
  {
   "cell_type": "code",
   "execution_count": 21,
   "id": "845ab658-b6a3-4e25-9775-4baa6c70ce98",
   "metadata": {},
   "outputs": [
    {
     "name": "stdout",
     "output_type": "stream",
     "text": [
      "Hello Frank! Today's date is April 10, 2025. Is there anything else I can help you with today?\n"
     ]
    }
   ],
   "source": [
    "from datetime import date\n",
    "\n",
    "from pydantic_ai import Agent, RunContext\n",
    "\n",
    "agent = Agent(\n",
    "    'anthropic:claude-3-7-sonnet-latest',\n",
    "    deps_type=str,  \n",
    "    system_prompt=\"Use the customer's name while replying to them.\",  \n",
    ")\n",
    "\n",
    "\n",
    "@agent.system_prompt  \n",
    "def add_the_users_name(ctx: RunContext[str]) -> str:\n",
    "    return f\"The user's name is {ctx.deps}.\"\n",
    "\n",
    "\n",
    "@agent.system_prompt\n",
    "def add_the_date() -> str:  \n",
    "    return f'The date is {date.today()}.'\n",
    "\n",
    "\n",
    "result = agent.run_sync('What is the date?', deps='Frank')\n",
    "print(result.data)"
   ]
  },
  {
   "cell_type": "code",
   "execution_count": 24,
   "id": "070322d4-8dd7-4aaa-8327-c316be79bb39",
   "metadata": {},
   "outputs": [
    {
     "name": "stdout",
     "output_type": "stream",
     "text": [
      "city='London' country='United Kingdom'\n",
      "Usage(requests=1, request_tokens=176, response_tokens=24, total_tokens=200, details=None)\n"
     ]
    }
   ],
   "source": [
    "from pydantic import BaseModel\n",
    "\n",
    "from pydantic_ai import Agent\n",
    "from pydantic_ai.models.openai import OpenAIModel\n",
    "from pydantic_ai.providers.openai import OpenAIProvider\n",
    "\n",
    "\n",
    "class CityLocation(BaseModel):\n",
    "    city: str\n",
    "    country: str\n",
    "\n",
    "\n",
    "ollama_model = OpenAIModel(\n",
    "    model_name='llama3.2', provider=OpenAIProvider(base_url='http://localhost:11434/v1')\n",
    ")\n",
    "agent = Agent(ollama_model, result_type=CityLocation)\n",
    "\n",
    "result = agent.run_sync('Where were the olympics held in 2012?')\n",
    "print(result.data)\n",
    "#> city='London' country='United Kingdom'\n",
    "print(result.usage())"
   ]
  },
  {
   "cell_type": "code",
   "execution_count": 3,
   "id": "1a74a2db-05e9-4f8e-9ffc-61fbbe68df33",
   "metadata": {},
   "outputs": [
    {
     "name": "stdout",
     "output_type": "stream",
     "text": [
      "\"Hello, world!\" originated as a sample program in the 1978 book *The C Programming Language*.\n",
      "\n"
     ]
    }
   ],
   "source": [
    "from pydantic_ai import Agent, ModelRetry\n",
    "\n",
    "agent = Agent(\n",
    "    'gemini-1.5-flash',\n",
    "    system_prompt='Be very concise, reply with one sentence only.',\n",
    "    retries=3\n",
    ")\n",
    "\n",
    "result = agent.run_sync('Where does \"hello world\" come from?')\n",
    "print(result.data)"
   ]
  },
  {
   "cell_type": "code",
   "execution_count": 4,
   "id": "791f088e-f8ae-4b62-95bc-fece45dcc25a",
   "metadata": {},
   "outputs": [
    {
     "name": "stdout",
     "output_type": "stream",
     "text": [
      "The word \"knife\" comes from Old English *cnif.\n",
      "\n"
     ]
    }
   ],
   "source": [
    "result = agent.run_sync('Where does \"knife\" come from?')\n",
    "print(result.data)"
   ]
  },
  {
   "cell_type": "code",
   "execution_count": 21,
   "id": "2f32796c-3b0f-49a3-8b6e-d47ebb27b3fc",
   "metadata": {},
   "outputs": [
    {
     "name": "stdout",
     "output_type": "stream",
     "text": [
      "\"Come\" comes from the Old English word \"cuman\".\n",
      "\n"
     ]
    }
   ],
   "source": [
    "result = agent.run_sync('Where does \"come\" come from?')\n",
    "print(result.data)"
   ]
  },
  {
   "cell_type": "code",
   "execution_count": 22,
   "id": "dbd2ba70-d811-419a-8bc0-78aac51cfc06",
   "metadata": {},
   "outputs": [
    {
     "name": "stdout",
     "output_type": "stream",
     "text": [
      "ModelRequest(parts=[SystemPromptPart(content='Be very concise, reply with one sentence only.', timestamp=datetime.datetime(2025, 4, 11, 10, 37, 55, 562843, tzinfo=datetime.timezone.utc), dynamic_ref=None, part_kind='system-prompt'), UserPromptPart(content='Where does \"come\" come from?', timestamp=datetime.datetime(2025, 4, 11, 10, 37, 55, 562859, tzinfo=datetime.timezone.utc), part_kind='user-prompt')], kind='request') \n",
      "\n",
      "ModelResponse(parts=[TextPart(content='\"Come\" comes from the Old English word \"cuman\".\\n', part_kind='text')], model_name='gemini-1.5-flash', timestamp=datetime.datetime(2025, 4, 11, 10, 37, 56, 177964, tzinfo=datetime.timezone.utc), kind='response') \n",
      "\n"
     ]
    }
   ],
   "source": [
    "for msg in result.all_messages():\n",
    "    print(msg, '\\n')"
   ]
  },
  {
   "cell_type": "code",
   "execution_count": 23,
   "id": "27404dbe-10c6-4205-ab8d-b418bffdf8b5",
   "metadata": {},
   "outputs": [
    {
     "name": "stdout",
     "output_type": "stream",
     "text": [
      "ModelRequest(parts=[SystemPromptPart(content='Be very concise, reply with one sentence only.', timestamp=datetime.datetime(2025, 4, 11, 10, 37, 55, 562843, tzinfo=datetime.timezone.utc), dynamic_ref=None, part_kind='system-prompt'), UserPromptPart(content='Where does \"come\" come from?', timestamp=datetime.datetime(2025, 4, 11, 10, 37, 55, 562859, tzinfo=datetime.timezone.utc), part_kind='user-prompt')], kind='request') \n",
      "\n",
      "ModelResponse(parts=[TextPart(content='\"Come\" comes from the Old English word \"cuman\".\\n', part_kind='text')], model_name='gemini-1.5-flash', timestamp=datetime.datetime(2025, 4, 11, 10, 37, 56, 177964, tzinfo=datetime.timezone.utc), kind='response') \n",
      "\n"
     ]
    }
   ],
   "source": [
    "for msg in result.new_messages():\n",
    "    print(msg, '\\n')"
   ]
  },
  {
   "cell_type": "code",
   "execution_count": 24,
   "id": "b9b622f6-c65c-4448-9a96-0a4ca9ea396b",
   "metadata": {},
   "outputs": [
    {
     "name": "stdout",
     "output_type": "stream",
     "text": [
      "The English word \"come\" originates from the Old English verb \"cuman,\" which shares ancestry with other Germanic languages' words for \"to come,\" reflecting a common Proto-Germanic root *kwem-.  This Proto-Germanic root further traces back to a Proto-Indo-European root, *gʷem-, indicating a deep and ancient linguistic connection across numerous language families.\n",
      "\n"
     ]
    }
   ],
   "source": [
    "result1 = agent.run_sync('Explain it in details', message_history=result.new_messages())\n",
    "print(result1.data)"
   ]
  },
  {
   "cell_type": "code",
   "execution_count": 26,
   "id": "865424cf-417d-4d2e-a69a-186dad36d57c",
   "metadata": {},
   "outputs": [
    {
     "name": "stdout",
     "output_type": "stream",
     "text": [
      "ModelRequest(parts=[SystemPromptPart(content='Be very concise, reply with one sentence only.', timestamp=datetime.datetime(2025, 4, 11, 10, 37, 55, 562843, tzinfo=datetime.timezone.utc), dynamic_ref=None, part_kind='system-prompt'), UserPromptPart(content='Where does \"come\" come from?', timestamp=datetime.datetime(2025, 4, 11, 10, 37, 55, 562859, tzinfo=datetime.timezone.utc), part_kind='user-prompt')], kind='request') \n",
      "\n",
      "ModelResponse(parts=[TextPart(content='\"Come\" comes from the Old English word \"cuman\".\\n', part_kind='text')], model_name='gemini-1.5-flash', timestamp=datetime.datetime(2025, 4, 11, 10, 37, 56, 177964, tzinfo=datetime.timezone.utc), kind='response') \n",
      "\n",
      "ModelRequest(parts=[UserPromptPart(content='Explain it in details', timestamp=datetime.datetime(2025, 4, 11, 10, 38, 26, 16970, tzinfo=datetime.timezone.utc), part_kind='user-prompt')], kind='request') \n",
      "\n",
      "ModelResponse(parts=[TextPart(content='The English word \"come\" originates from the Old English verb \"cuman,\" which shares ancestry with other Germanic languages\\' words for \"to come,\" reflecting a common Proto-Germanic root *kwem-.  This Proto-Germanic root further traces back to a Proto-Indo-European root, *gʷem-, indicating a deep and ancient linguistic connection across numerous language families.\\n', part_kind='text')], model_name='gemini-1.5-flash', timestamp=datetime.datetime(2025, 4, 11, 10, 38, 27, 56639, tzinfo=datetime.timezone.utc), kind='response') \n",
      "\n"
     ]
    }
   ],
   "source": [
    "for msg in result1.all_messages():\n",
    "    print(msg, '\\n')"
   ]
  },
  {
   "cell_type": "code",
   "execution_count": 27,
   "id": "38b520ca-e320-4c12-9353-5632fb384814",
   "metadata": {},
   "outputs": [
    {
     "name": "stdout",
     "output_type": "stream",
     "text": [
      "ModelRequest(parts=[UserPromptPart(content='Explain it in details', timestamp=datetime.datetime(2025, 4, 11, 10, 38, 26, 16970, tzinfo=datetime.timezone.utc), part_kind='user-prompt')], kind='request') \n",
      "\n",
      "ModelResponse(parts=[TextPart(content='The English word \"come\" originates from the Old English verb \"cuman,\" which shares ancestry with other Germanic languages\\' words for \"to come,\" reflecting a common Proto-Germanic root *kwem-.  This Proto-Germanic root further traces back to a Proto-Indo-European root, *gʷem-, indicating a deep and ancient linguistic connection across numerous language families.\\n', part_kind='text')], model_name='gemini-1.5-flash', timestamp=datetime.datetime(2025, 4, 11, 10, 38, 27, 56639, tzinfo=datetime.timezone.utc), kind='response') \n",
      "\n"
     ]
    }
   ],
   "source": [
    "for msg in result1.new_messages():\n",
    "    print(msg, '\\n')"
   ]
  },
  {
   "cell_type": "code",
   "execution_count": 29,
   "id": "03f150b3-2747-4036-bf92-1bd99dcd8c7f",
   "metadata": {},
   "outputs": [
    {
     "data": {
      "text/plain": [
       "b'[{\"parts\":[{\"content\":\"Be very concise, reply with one sentence only.\",\"timestamp\":\"2025-04-11T10:37:55.562843Z\",\"dynamic_ref\":null,\"part_kind\":\"system-prompt\"},{\"content\":\"Where does \\\\\"come\\\\\" come from?\",\"timestamp\":\"2025-04-11T10:37:55.562859Z\",\"part_kind\":\"user-prompt\"}],\"kind\":\"request\"},{\"parts\":[{\"content\":\"\\\\\"Come\\\\\" comes from the Old English word \\\\\"cuman\\\\\".\\\\n\",\"part_kind\":\"text\"}],\"model_name\":\"gemini-1.5-flash\",\"timestamp\":\"2025-04-11T10:37:56.177964Z\",\"kind\":\"response\"},{\"parts\":[{\"content\":\"Explain it in details\",\"timestamp\":\"2025-04-11T10:38:26.016970Z\",\"part_kind\":\"user-prompt\"}],\"kind\":\"request\"},{\"parts\":[{\"content\":\"The English word \\\\\"come\\\\\" originates from the Old English verb \\\\\"cuman,\\\\\" which shares ancestry with other Germanic languages\\' words for \\\\\"to come,\\\\\" reflecting a common Proto-Germanic root *kwem-.  This Proto-Germanic root further traces back to a Proto-Indo-European root, *g\\xca\\xb7em-, indicating a deep and ancient linguistic connection across numerous language families.\\\\n\",\"part_kind\":\"text\"}],\"model_name\":\"gemini-1.5-flash\",\"timestamp\":\"2025-04-11T10:38:27.056639Z\",\"kind\":\"response\"}]'"
      ]
     },
     "execution_count": 29,
     "metadata": {},
     "output_type": "execute_result"
    }
   ],
   "source": [
    "result1.all_messages_json()"
   ]
  },
  {
   "cell_type": "code",
   "execution_count": 4,
   "id": "f24ae978-1d45-4095-b641-e1ef8357e56d",
   "metadata": {},
   "outputs": [
    {
     "name": "stdin",
     "output_type": "stream",
     "text": [
      "You:  My name is Juan. I'd like to know what's the capital of France\n"
     ]
    },
    {
     "name": "stdout",
     "output_type": "stream",
     "text": [
      "<class 'list'>\n",
      "[ModelRequest(parts=[SystemPromptPart(content='Be as concise as possible, reply with one sentence.', timestamp=datetime.datetime(2025, 5, 16, 20, 32, 56, 847400, tzinfo=datetime.timezone.utc), dynamic_ref=None, part_kind='system-prompt'), UserPromptPart(content=\"My name is Juan. I'd like to know what's the capital of France\", timestamp=datetime.datetime(2025, 5, 16, 20, 32, 56, 847476, tzinfo=datetime.timezone.utc), part_kind='user-prompt')], kind='request'), ModelResponse(parts=[TextPart(content='The capital of France is Paris.', part_kind='text')], model_name='claude-3-7-sonnet-latest', timestamp=datetime.datetime(2025, 5, 16, 20, 32, 58, 833665, tzinfo=datetime.timezone.utc), kind='response')]\n",
      "The capital of France is Paris.\n"
     ]
    },
    {
     "name": "stdin",
     "output_type": "stream",
     "text": [
      "You:  Tell me a story about that city\n"
     ]
    },
    {
     "name": "stdout",
     "output_type": "stream",
     "text": [
      "<class 'list'>\n",
      "[ModelRequest(parts=[UserPromptPart(content='Tell me a story about that city', timestamp=datetime.datetime(2025, 5, 16, 20, 33, 35, 41242, tzinfo=datetime.timezone.utc), part_kind='user-prompt')], kind='request'), ModelResponse(parts=[TextPart(content='Paris, the City of Light, grew from a small island settlement on the Seine to become a global cultural icon, captivating visitors with its magnificent architecture, world-renowned cuisine, and artistic heritage that continues to inspire dreamers from around the world.', part_kind='text')], model_name='claude-3-7-sonnet-latest', timestamp=datetime.datetime(2025, 5, 16, 20, 33, 37, 270231, tzinfo=datetime.timezone.utc), kind='response')]\n",
      "Paris, the City of Light, grew from a small island settlement on the Seine to become a global cultural icon, captivating visitors with its magnificent architecture, world-renowned cuisine, and artistic heritage that continues to inspire dreamers from around the world.\n"
     ]
    },
    {
     "name": "stdin",
     "output_type": "stream",
     "text": [
      "You:  What's my name\n"
     ]
    },
    {
     "name": "stdout",
     "output_type": "stream",
     "text": [
      "<class 'list'>\n",
      "[ModelRequest(parts=[UserPromptPart(content=\"What's my name\", timestamp=datetime.datetime(2025, 5, 16, 20, 33, 56, 961658, tzinfo=datetime.timezone.utc), part_kind='user-prompt')], kind='request'), ModelResponse(parts=[TextPart(content=\"I don't know your name as you haven't shared it with me. If you'd like me to address you by your name in our conversation, feel free to introduce yourself, and I'll be happy to use it.\", part_kind='text')], model_name='claude-3-7-sonnet-latest', timestamp=datetime.datetime(2025, 5, 16, 20, 33, 58, 855438, tzinfo=datetime.timezone.utc), kind='response')]\n",
      "I don't know your name as you haven't shared it with me. If you'd like me to address you by your name in our conversation, feel free to introduce yourself, and I'll be happy to use it.\n"
     ]
    },
    {
     "name": "stdin",
     "output_type": "stream",
     "text": [
      "You:  quit\n"
     ]
    }
   ],
   "source": [
    "from pydantic_ai import Agent\n",
    "from dotenv import load_dotenv\n",
    "\n",
    "agent = Agent('anthropic:claude-3-7-sonnet-latest', system_prompt='Be as concise as possible, reply with one sentence.')\n",
    "\n",
    "message_history = []\n",
    "while True:\n",
    "    current_message = input('You: ')\n",
    "    if current_message == 'quit':\n",
    "        break\n",
    "    result = agent.run_sync(current_message, message_history=message_history)\n",
    "    message_history = result.new_messages()\n",
    "    print(type(message_history))\n",
    "    print(message_history)\n",
    "    print(result.data)"
   ]
  },
  {
   "cell_type": "code",
   "execution_count": 5,
   "id": "78d5785f-5911-4dbd-a1c7-8eb66273d633",
   "metadata": {},
   "outputs": [
    {
     "name": "stdin",
     "output_type": "stream",
     "text": [
      "You:  My name is Juan, I'd like to know more about France\n"
     ]
    },
    {
     "name": "stdout",
     "output_type": "stream",
     "text": [
      "<class 'list'>\n",
      "[ModelRequest(parts=[SystemPromptPart(content='Be as concise as possible, reply with one sentence.', timestamp=datetime.datetime(2025, 5, 16, 20, 39, 47, 112629, tzinfo=datetime.timezone.utc), dynamic_ref=None, part_kind='system-prompt'), UserPromptPart(content=\"My name is Juan, I'd like to know more about France\", timestamp=datetime.datetime(2025, 5, 16, 20, 39, 47, 112693, tzinfo=datetime.timezone.utc), part_kind='user-prompt')], kind='request'), ModelResponse(parts=[TextPart(content='France is a Western European country known for its art, culture, cuisine, and landmarks like the Eiffel Tower, Louvre Museum, and Palace of Versailles.', part_kind='text')], model_name='claude-3-7-sonnet-latest', timestamp=datetime.datetime(2025, 5, 16, 20, 39, 48, 841645, tzinfo=datetime.timezone.utc), kind='response')]\n",
      "France is a Western European country known for its art, culture, cuisine, and landmarks like the Eiffel Tower, Louvre Museum, and Palace of Versailles.\n"
     ]
    },
    {
     "name": "stdin",
     "output_type": "stream",
     "text": [
      "You:  What's the capital\n"
     ]
    },
    {
     "name": "stdout",
     "output_type": "stream",
     "text": [
      "<class 'list'>\n",
      "[ModelRequest(parts=[SystemPromptPart(content='Be as concise as possible, reply with one sentence.', timestamp=datetime.datetime(2025, 5, 16, 20, 39, 47, 112629, tzinfo=datetime.timezone.utc), dynamic_ref=None, part_kind='system-prompt'), UserPromptPart(content=\"My name is Juan, I'd like to know more about France\", timestamp=datetime.datetime(2025, 5, 16, 20, 39, 47, 112693, tzinfo=datetime.timezone.utc), part_kind='user-prompt')], kind='request'), ModelResponse(parts=[TextPart(content='France is a Western European country known for its art, culture, cuisine, and landmarks like the Eiffel Tower, Louvre Museum, and Palace of Versailles.', part_kind='text')], model_name='claude-3-7-sonnet-latest', timestamp=datetime.datetime(2025, 5, 16, 20, 39, 48, 841645, tzinfo=datetime.timezone.utc), kind='response'), ModelRequest(parts=[UserPromptPart(content=\"What's the capital\", timestamp=datetime.datetime(2025, 5, 16, 20, 40, 13, 519935, tzinfo=datetime.timezone.utc), part_kind='user-prompt')], kind='request'), ModelResponse(parts=[TextPart(content='The capital of France is Paris.', part_kind='text')], model_name='claude-3-7-sonnet-latest', timestamp=datetime.datetime(2025, 5, 16, 20, 40, 15, 165378, tzinfo=datetime.timezone.utc), kind='response')]\n",
      "The capital of France is Paris.\n"
     ]
    },
    {
     "name": "stdin",
     "output_type": "stream",
     "text": [
      "You:  What's my name\n"
     ]
    },
    {
     "name": "stdout",
     "output_type": "stream",
     "text": [
      "<class 'list'>\n",
      "[ModelRequest(parts=[SystemPromptPart(content='Be as concise as possible, reply with one sentence.', timestamp=datetime.datetime(2025, 5, 16, 20, 39, 47, 112629, tzinfo=datetime.timezone.utc), dynamic_ref=None, part_kind='system-prompt'), UserPromptPart(content=\"My name is Juan, I'd like to know more about France\", timestamp=datetime.datetime(2025, 5, 16, 20, 39, 47, 112693, tzinfo=datetime.timezone.utc), part_kind='user-prompt')], kind='request'), ModelResponse(parts=[TextPart(content='France is a Western European country known for its art, culture, cuisine, and landmarks like the Eiffel Tower, Louvre Museum, and Palace of Versailles.', part_kind='text')], model_name='claude-3-7-sonnet-latest', timestamp=datetime.datetime(2025, 5, 16, 20, 39, 48, 841645, tzinfo=datetime.timezone.utc), kind='response'), ModelRequest(parts=[UserPromptPart(content=\"What's the capital\", timestamp=datetime.datetime(2025, 5, 16, 20, 40, 13, 519935, tzinfo=datetime.timezone.utc), part_kind='user-prompt')], kind='request'), ModelResponse(parts=[TextPart(content='The capital of France is Paris.', part_kind='text')], model_name='claude-3-7-sonnet-latest', timestamp=datetime.datetime(2025, 5, 16, 20, 40, 15, 165378, tzinfo=datetime.timezone.utc), kind='response'), ModelRequest(parts=[UserPromptPart(content=\"What's my name\", timestamp=datetime.datetime(2025, 5, 16, 20, 40, 32, 116642, tzinfo=datetime.timezone.utc), part_kind='user-prompt')], kind='request'), ModelResponse(parts=[TextPart(content='Your name is Juan.', part_kind='text')], model_name='claude-3-7-sonnet-latest', timestamp=datetime.datetime(2025, 5, 16, 20, 40, 33, 369847, tzinfo=datetime.timezone.utc), kind='response')]\n",
      "Your name is Juan.\n"
     ]
    },
    {
     "name": "stdin",
     "output_type": "stream",
     "text": [
      "You:  quit\n"
     ]
    }
   ],
   "source": [
    "from pydantic_ai import Agent\n",
    "from dotenv import load_dotenv\n",
    "\n",
    "agent = Agent('anthropic:claude-3-7-sonnet-latest', system_prompt='Be as concise as possible, reply with one sentence.')\n",
    "\n",
    "message_history = []\n",
    "while True:\n",
    "    current_message = input('You: ')\n",
    "    if current_message == 'quit':\n",
    "        break\n",
    "    result = agent.run_sync(current_message, message_history=message_history)\n",
    "    message_history = result.all_messages()\n",
    "    print(type(message_history))\n",
    "    print(message_history)\n",
    "    print(result.data)"
   ]
  },
  {
   "cell_type": "code",
   "execution_count": 7,
   "id": "1443db15-44d6-4df5-9759-9547dea31409",
   "metadata": {},
   "outputs": [
    {
     "name": "stdin",
     "output_type": "stream",
     "text": [
      "You:  What's the current time\n"
     ]
    },
    {
     "name": "stdout",
     "output_type": "stream",
     "text": [
      "<class 'list'>\n",
      "[ModelRequest(parts=[SystemPromptPart(content='Be as concise as possible, reply with one sentence.', timestamp=datetime.datetime(2025, 5, 16, 20, 45, 10, 892800, tzinfo=datetime.timezone.utc), dynamic_ref=None, part_kind='system-prompt'), UserPromptPart(content=\"What's the current time\", timestamp=datetime.datetime(2025, 5, 16, 20, 45, 10, 892815, tzinfo=datetime.timezone.utc), part_kind='user-prompt')], kind='request'), ModelResponse(parts=[ToolCallPart(tool_name='get_current_time', args={}, tool_call_id='toolu_017G19RqEoYfNwfXzY1Pb26Q', part_kind='tool-call')], model_name='claude-3-7-sonnet-latest', timestamp=datetime.datetime(2025, 5, 16, 20, 45, 14, 47044, tzinfo=datetime.timezone.utc), kind='response'), ModelRequest(parts=[ToolReturnPart(tool_name='get_current_time', content='04:45 PM', tool_call_id='toolu_017G19RqEoYfNwfXzY1Pb26Q', timestamp=datetime.datetime(2025, 5, 16, 20, 45, 14, 47789, tzinfo=datetime.timezone.utc), part_kind='tool-return')], kind='request'), ModelResponse(parts=[TextPart(content='The current time is 04:45 PM.', part_kind='text')], model_name='claude-3-7-sonnet-latest', timestamp=datetime.datetime(2025, 5, 16, 20, 45, 15, 30739, tzinfo=datetime.timezone.utc), kind='response')]\n",
      "The current time is 04:45 PM.\n"
     ]
    },
    {
     "name": "stdin",
     "output_type": "stream",
     "text": [
      "You:  quit\n"
     ]
    }
   ],
   "source": [
    "from pydantic_ai import Agent\n",
    "from dotenv import load_dotenv\n",
    "from datetime import datetime\n",
    "\n",
    "agent = Agent('anthropic:claude-3-7-sonnet-latest', system_prompt='Be as concise as possible, reply with one sentence.')\n",
    "\n",
    "@agent.tool_plain\n",
    "def get_current_time():\n",
    "    \"\"\"Returns the current time in 12-hour format with AM/PM indicator.\n",
    "    \n",
    "    Returns:\n",
    "        str: The current time formatted as HH:MM AM/PM\n",
    "    \"\"\"\n",
    "    return datetime.now().strftime(\"%I:%M %p\")\n",
    "\n",
    "message_history = []\n",
    "while True:\n",
    "    current_message = input('You: ')\n",
    "    if current_message == 'quit':\n",
    "        break\n",
    "    result = agent.run_sync(current_message, message_history=message_history)\n",
    "    message_history = result.all_messages()\n",
    "    print(type(message_history))\n",
    "    print(message_history)\n",
    "    print(result.data)"
   ]
  }
 ],
 "metadata": {
  "kernelspec": {
   "display_name": "Python 3 (ipykernel)",
   "language": "python",
   "name": "python3"
  },
  "language_info": {
   "codemirror_mode": {
    "name": "ipython",
    "version": 3
   },
   "file_extension": ".py",
   "mimetype": "text/x-python",
   "name": "python",
   "nbconvert_exporter": "python",
   "pygments_lexer": "ipython3",
   "version": "3.9.6"
  }
 },
 "nbformat": 4,
 "nbformat_minor": 5
}
