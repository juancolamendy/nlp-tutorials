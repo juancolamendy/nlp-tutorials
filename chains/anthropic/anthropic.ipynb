{
 "cells": [
  {
   "cell_type": "code",
   "execution_count": 1,
   "id": "62ff2ad1-090f-47b2-9887-af7880b2fe67",
   "metadata": {},
   "outputs": [
    {
     "data": {
      "text/plain": [
       "True"
      ]
     },
     "execution_count": 1,
     "metadata": {},
     "output_type": "execute_result"
    }
   ],
   "source": [
    "# import load_dotenv\n",
    "from dotenv import load_dotenv\n",
    "\n",
    "# load env\n",
    "load_dotenv()"
   ]
  },
  {
   "cell_type": "code",
   "execution_count": 3,
   "id": "52a3cb67-100a-479f-b766-4b71a2d5f429",
   "metadata": {},
   "outputs": [],
   "source": [
    "# import libraries\n",
    "from langchain_anthropic import ChatAnthropic"
   ]
  },
  {
   "cell_type": "code",
   "execution_count": 6,
   "id": "63a17a54-03df-4595-b6f2-b0871f85518c",
   "metadata": {},
   "outputs": [],
   "source": [
    "# init llm\n",
    "llm = ChatAnthropic(\n",
    "    model=\"claude-3-5-sonnet-20240620\",\n",
    "    temperature=0,\n",
    "    max_tokens=1024,\n",
    "    timeout=None,\n",
    "    max_retries=2,\n",
    ")"
   ]
  },
  {
   "cell_type": "code",
   "execution_count": 9,
   "id": "5332b6fc-36b6-444d-aa7a-9df03ffb110e",
   "metadata": {},
   "outputs": [
    {
     "name": "stdout",
     "output_type": "stream",
     "text": [
      "<class 'langchain_core.messages.ai.AIMessage'>\n",
      "content=\"J'adore la programmation.\" response_metadata={'id': 'msg_01XmZF7dUxJTkLgMJBwbf5Er', 'model': 'claude-3-5-sonnet-20240620', 'stop_reason': 'end_turn', 'stop_sequence': None, 'usage': {'input_tokens': 29, 'output_tokens': 11}} id='run-bc7d835a-9efb-4757-a50f-57ec437e3fcb-0'\n"
     ]
    }
   ],
   "source": [
    "messages = [\n",
    "    (\n",
    "        \"system\",\n",
    "        \"You are a helpful assistant that translates English to French. Translate the user sentence.\",\n",
    "    ),\n",
    "    (\"human\", \"I love programming.\"),\n",
    "]\n",
    "ai_msg = llm.invoke(messages)\n",
    "\n",
    "print(type(ai_msg))\n",
    "print(ai_msg)"
   ]
  },
  {
   "cell_type": "code",
   "execution_count": 11,
   "id": "0bfbca80-4c44-472f-b197-b91b0809f2b0",
   "metadata": {},
   "outputs": [
    {
     "name": "stdout",
     "output_type": "stream",
     "text": [
      "<class 'langchain_core.messages.ai.AIMessage'>\n",
      "content=[{'text': \"To answer this question, we'll need to check the current weather in both Los Angeles (LA) and New York (NY). I'll use the GetWeather function to retrieve this information for both cities.\", 'type': 'text'}, {'id': 'toolu_012gDajhqVxeoxRy87VN9BnK', 'input': {'location': 'Los Angeles, CA'}, 'name': 'GetWeather', 'type': 'tool_use'}, {'id': 'toolu_01DgkztSVDE9LHgAqdtgnqXW', 'input': {'location': 'New York, NY'}, 'name': 'GetWeather', 'type': 'tool_use'}] response_metadata={'id': 'msg_019AeXXt4kjrbGPWTzpSsncG', 'model': 'claude-3-5-sonnet-20240620', 'stop_reason': 'tool_use', 'stop_sequence': None, 'usage': {'input_tokens': 386, 'output_tokens': 138}} id='run-989a8b59-5fa3-47c6-b9db-b4bc215e5bb5-0' tool_calls=[{'name': 'GetWeather', 'args': {'location': 'Los Angeles, CA'}, 'id': 'toolu_012gDajhqVxeoxRy87VN9BnK'}, {'name': 'GetWeather', 'args': {'location': 'New York, NY'}, 'id': 'toolu_01DgkztSVDE9LHgAqdtgnqXW'}]\n"
     ]
    }
   ],
   "source": [
    "from langchain_core.pydantic_v1 import BaseModel, Field\n",
    "\n",
    "\n",
    "class GetWeather(BaseModel):\n",
    "    \"\"\"Get the current weather in a given location\"\"\"\n",
    "\n",
    "    location: str = Field(..., description=\"The city and state, e.g. San Francisco, CA\")\n",
    "\n",
    "\n",
    "llm_with_tools = llm.bind_tools([GetWeather])\n",
    "ai_msg = llm_with_tools.invoke(\"Which city is hotter today: LA or NY?\")\n",
    "\n",
    "print(type(ai_msg))\n",
    "print(ai_msg)"
   ]
  }
 ],
 "metadata": {
  "kernelspec": {
   "display_name": "Python 3 (ipykernel)",
   "language": "python",
   "name": "python3"
  },
  "language_info": {
   "codemirror_mode": {
    "name": "ipython",
    "version": 3
   },
   "file_extension": ".py",
   "mimetype": "text/x-python",
   "name": "python",
   "nbconvert_exporter": "python",
   "pygments_lexer": "ipython3",
   "version": "3.9.6"
  }
 },
 "nbformat": 4,
 "nbformat_minor": 5
}
