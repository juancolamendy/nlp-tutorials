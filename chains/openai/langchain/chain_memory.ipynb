{
 "cells": [
  {
   "cell_type": "code",
   "execution_count": 2,
   "id": "5d414eef-394a-46a8-97a8-93aa5ed57f00",
   "metadata": {},
   "outputs": [
    {
     "data": {
      "text/plain": [
       "True"
      ]
     },
     "execution_count": 2,
     "metadata": {},
     "output_type": "execute_result"
    }
   ],
   "source": [
    "# import load_dotenv\n",
    "from dotenv import load_dotenv\n",
    "\n",
    "# load env\n",
    "load_dotenv()"
   ]
  },
  {
   "cell_type": "code",
   "execution_count": 5,
   "id": "6c06d658-bd83-4c63-85c1-b0d04e05490f",
   "metadata": {},
   "outputs": [],
   "source": [
    "from operator import itemgetter\n",
    "\n",
    "from langchain_openai import ChatOpenAI\n",
    "from langchain.memory import ConversationBufferMemory\n",
    "from langchain.schema.runnable import RunnablePassthrough, RunnableLambda\n",
    "from langchain.prompts import (\n",
    "    ChatPromptTemplate,\n",
    "    MessagesPlaceholder,\n",
    ")"
   ]
  },
  {
   "cell_type": "code",
   "execution_count": 6,
   "id": "d0395952-c30e-498d-bb17-454c19e05b98",
   "metadata": {},
   "outputs": [],
   "source": [
    "model = ChatOpenAI()\n",
    "\n",
    "prompt = ChatPromptTemplate.from_messages([\n",
    "    (\"system\", \"You are a helpful chatbot capable of performing a variety of tasks on the data available\"),\n",
    "    MessagesPlaceholder(variable_name=\"chat_history\"),\n",
    "    (\"human\", \"{input}\")\n",
    "])\n",
    "\n",
    "memory = ConversationBufferMemory(memory_key='chat_history', return_messages=True)"
   ]
  },
  {
   "cell_type": "code",
   "execution_count": 7,
   "id": "8942c905-e6e4-4878-9720-105a848e99fd",
   "metadata": {},
   "outputs": [
    {
     "name": "stdout",
     "output_type": "stream",
     "text": [
      "{'chat_history': []}\n"
     ]
    }
   ],
   "source": [
    "print(memory.load_memory_variables({}))"
   ]
  },
  {
   "cell_type": "code",
   "execution_count": 8,
   "id": "940d5e8a-502e-41fa-bb85-2d1cece10a4a",
   "metadata": {},
   "outputs": [],
   "source": [
    "chain_input = RunnablePassthrough.assign(\n",
    "    #chat_history=RunnableLambda(memory.load_memory_variables) | itemgetter(\"chat_history\")\n",
    "    **{\n",
    "        'chat_history': RunnableLambda(memory.load_memory_variables) | itemgetter(\"chat_history\")\n",
    "    }\n",
    ")\n",
    "chain = chain_input | prompt | model"
   ]
  },
  {
   "cell_type": "code",
   "execution_count": 9,
   "id": "10e7c1f7-7271-4008-852f-6f3086b30a1f",
   "metadata": {},
   "outputs": [
    {
     "name": "stdout",
     "output_type": "stream",
     "text": [
      "<class 'langchain_core.messages.ai.AIMessage'>\n",
      "content='Hello Bob! How can I assist you today?' response_metadata={'token_usage': {'completion_tokens': 10, 'prompt_tokens': 31, 'total_tokens': 41}, 'model_name': 'gpt-3.5-turbo', 'system_fingerprint': None, 'finish_reason': 'stop', 'logprobs': None} id='run-be2ca5b5-cf17-4cf9-a79a-222cb0d626eb-0'\n"
     ]
    }
   ],
   "source": [
    "inputs = {\"input\": \"hi im bob\"}\n",
    "response = chain.invoke(inputs)\n",
    "print(type(response))\n",
    "print(response)"
   ]
  },
  {
   "cell_type": "code",
   "execution_count": 10,
   "id": "052a286d-dcb6-4fba-9ad4-952092fef064",
   "metadata": {},
   "outputs": [
    {
     "name": "stdout",
     "output_type": "stream",
     "text": [
      "<class 'langchain_core.chat_history.InMemoryChatMessageHistory'>\n",
      "\n"
     ]
    }
   ],
   "source": [
    "print(type(memory.chat_memory))\n",
    "print(memory.chat_memory)"
   ]
  },
  {
   "cell_type": "code",
   "execution_count": 12,
   "id": "c86d31f1-ee5d-4a17-a333-2c0253535114",
   "metadata": {},
   "outputs": [],
   "source": [
    "memory.chat_memory.add_user_message(\"hi im bob\")\n",
    "memory.chat_memory.add_ai_message('Hello Bob! How can I assist you today?')"
   ]
  },
  {
   "cell_type": "code",
   "execution_count": 13,
   "id": "3bdf1e5f-f50f-41b9-8124-cece223ed3aa",
   "metadata": {},
   "outputs": [
    {
     "name": "stdout",
     "output_type": "stream",
     "text": [
      "content='Your name is Bob. How can I help you today, Bob?' response_metadata={'token_usage': {'completion_tokens': 14, 'prompt_tokens': 53, 'total_tokens': 67}, 'model_name': 'gpt-3.5-turbo', 'system_fingerprint': None, 'finish_reason': 'stop', 'logprobs': None} id='run-bbf0de06-d697-4c25-bb40-d8e44ecf1352-0'\n"
     ]
    }
   ],
   "source": [
    "inputs = {\"input\": \"what is my name\"}\n",
    "response = chain.invoke(inputs)\n",
    "print(response)"
   ]
  },
  {
   "cell_type": "code",
   "execution_count": 15,
   "id": "0d756004-2757-4435-a946-8c820b5fa80d",
   "metadata": {},
   "outputs": [
    {
     "name": "stdout",
     "output_type": "stream",
     "text": [
      "{'history': [HumanMessage(content='hi im bob'), AIMessage(content='Hello Bob! How can I assist you today?')]}\n",
      "content='Your name is Bob. How can I help you today, Bob?' response_metadata={'token_usage': {'completion_tokens': 14, 'prompt_tokens': 42, 'total_tokens': 56}, 'model_name': 'gpt-3.5-turbo', 'system_fingerprint': None, 'finish_reason': 'stop', 'logprobs': None} id='run-afcdc9c5-adc6-4929-8279-5a15fd416075-0'\n"
     ]
    }
   ],
   "source": [
    "from operator import itemgetter\n",
    "\n",
    "from langchain_openai import ChatOpenAI\n",
    "from langchain.memory import ChatMessageHistory, ConversationBufferMemory\n",
    "from langchain.schema.runnable import RunnablePassthrough, RunnableLambda\n",
    "from langchain.prompts import ChatPromptTemplate, MessagesPlaceholder\n",
    "\n",
    "chat_history = ChatMessageHistory()\n",
    "chat_history.add_user_message(\"hi im bob\")\n",
    "chat_history.add_ai_message('Hello Bob! How can I assist you today?')\n",
    "\n",
    "model = ChatOpenAI()\n",
    "prompt = ChatPromptTemplate.from_messages(\n",
    "    [\n",
    "        (\"system\", \"You are a helpful chatbot\"),\n",
    "        MessagesPlaceholder(variable_name=\"history\"),\n",
    "        (\"human\", \"{input}\"),\n",
    "    ]\n",
    ")\n",
    "\n",
    "memory = ConversationBufferMemory(return_messages=True, chat_memory=chat_history)\n",
    "\n",
    "print(memory.load_memory_variables({}))\n",
    "# {'history': [HumanMessage(content='hi im bob'), AIMessage(content='Hello Bob! How can I assist you today?')]}\n",
    "\n",
    "chain_input =  RunnablePassthrough.assign(\n",
    "    history=RunnableLambda(memory.load_memory_variables) | itemgetter(\"history\")\n",
    ")\n",
    "chain =  chain_input | prompt | model\n",
    "\n",
    "inputs = {\"input\": \"what is my name\"}\n",
    "response = chain.invoke(inputs)\n",
    "\n",
    "print(response)"
   ]
  }
 ],
 "metadata": {
  "kernelspec": {
   "display_name": "Python 3 (ipykernel)",
   "language": "python",
   "name": "python3"
  },
  "language_info": {
   "codemirror_mode": {
    "name": "ipython",
    "version": 3
   },
   "file_extension": ".py",
   "mimetype": "text/x-python",
   "name": "python",
   "nbconvert_exporter": "python",
   "pygments_lexer": "ipython3",
   "version": "3.9.6"
  }
 },
 "nbformat": 4,
 "nbformat_minor": 5
}
