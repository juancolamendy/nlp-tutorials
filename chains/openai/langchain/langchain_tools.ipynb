{
 "cells": [
  {
   "cell_type": "code",
   "execution_count": 8,
   "id": "3d8e0b77-ddd6-46f0-ae0e-3a430af8910f",
   "metadata": {},
   "outputs": [],
   "source": [
    "from langchain_core.tools import tool\n",
    "\n",
    "@tool\n",
    "def search(query: str) -> str:\n",
    "    \"\"\"Look up things online.\"\"\"\n",
    "    return f\"response: {query}\""
   ]
  },
  {
   "cell_type": "code",
   "execution_count": 9,
   "id": "909ffddc-65e7-4fc6-9bde-00fb2034f95e",
   "metadata": {},
   "outputs": [
    {
     "name": "stdout",
     "output_type": "stream",
     "text": [
      "name='search' description='Look up things online.' args_schema=<class 'langchain_core.utils.pydantic.search'> func=<function search at 0x10acffaf0>\n"
     ]
    }
   ],
   "source": [
    "print(search)"
   ]
  },
  {
   "cell_type": "code",
   "execution_count": 10,
   "id": "0180aa71-6860-42c9-a280-242a45fe0d49",
   "metadata": {},
   "outputs": [
    {
     "name": "stdout",
     "output_type": "stream",
     "text": [
      "search\n",
      "Look up things online.\n"
     ]
    }
   ],
   "source": [
    "print(search.name)\n",
    "print(search.description)"
   ]
  },
  {
   "cell_type": "code",
   "execution_count": 11,
   "id": "6cd7d32b-d0f0-43dd-888c-124f2ba938a1",
   "metadata": {},
   "outputs": [
    {
     "name": "stdout",
     "output_type": "stream",
     "text": [
      "{'query': {'title': 'Query', 'type': 'string'}}\n"
     ]
    }
   ],
   "source": [
    "print(search.args)"
   ]
  },
  {
   "cell_type": "code",
   "execution_count": 12,
   "id": "06f5efc5-cf9a-492c-93d7-2cc785f7351f",
   "metadata": {},
   "outputs": [
    {
     "data": {
      "text/plain": [
       "{'description': 'Look up things online.',\n",
       " 'properties': {'query': {'title': 'Query', 'type': 'string'}},\n",
       " 'required': ['query'],\n",
       " 'title': 'search',\n",
       " 'type': 'object'}"
      ]
     },
     "execution_count": 12,
     "metadata": {},
     "output_type": "execute_result"
    }
   ],
   "source": [
    "search.args_schema.model_json_schema()"
   ]
  },
  {
   "cell_type": "code",
   "execution_count": 13,
   "id": "2d898471-f7b2-406b-ad38-67b2e74e4d8c",
   "metadata": {},
   "outputs": [
    {
     "name": "stdout",
     "output_type": "stream",
     "text": [
      "{'query': 'explain tools in langchain'}\n"
     ]
    }
   ],
   "source": [
    "import json\n",
    "\n",
    "args_str = '{\"query\": \"explain tools in langchain\"}'\n",
    "args_dict = json.loads(args_str)\n",
    "print(args_dict)"
   ]
  },
  {
   "cell_type": "code",
   "execution_count": 14,
   "id": "86e789cb-64cb-4ea9-84d1-e44b4ad59690",
   "metadata": {},
   "outputs": [
    {
     "data": {
      "text/plain": [
       "'response: explain tools in langchain'"
      ]
     },
     "execution_count": 14,
     "metadata": {},
     "output_type": "execute_result"
    }
   ],
   "source": [
    "search.func(**args_dict)"
   ]
  }
 ],
 "metadata": {
  "kernelspec": {
   "display_name": "Python 3 (ipykernel)",
   "language": "python",
   "name": "python3"
  },
  "language_info": {
   "codemirror_mode": {
    "name": "ipython",
    "version": 3
   },
   "file_extension": ".py",
   "mimetype": "text/x-python",
   "name": "python",
   "nbconvert_exporter": "python",
   "pygments_lexer": "ipython3",
   "version": "3.9.6"
  }
 },
 "nbformat": 4,
 "nbformat_minor": 5
}
