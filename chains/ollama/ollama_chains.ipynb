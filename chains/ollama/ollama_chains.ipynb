{
 "cells": [
  {
   "cell_type": "code",
   "execution_count": 3,
   "id": "80b53d9e-5497-45db-820e-16b32459e7ba",
   "metadata": {},
   "outputs": [],
   "source": [
    "from langchain_core.prompts import ChatPromptTemplate\n",
    "from langchain_ollama import ChatOllama\n",
    "\n",
    "from pydantic import BaseModel, Field\n",
    "\n",
    "# structured output\n",
    "class IsProblemDecisionRoute(BaseModel):\n",
    "    is_problem: bool = Field(..., description=\"Reddit Post is relevant to problem seeking, business ideas or problem advices/questions\")\n",
    "\n",
    "# prompt\n",
    "system_prompt = \"\"\"\n",
    "    % ROLE:\n",
    "    You are an AI assistant that determines if a Reddit post is problem related.\n",
    "    \n",
    "    % GOAL:\n",
    "    Your goal is to determine if the post is seeking a solution to a problem, implementing a new business idea that addresses a problem or asking for advice/questions.\n",
    "    Use the query '{query}' to determine if the post is also related to the query.\n",
    "    Follow the instructions below.\n",
    "\n",
    "    % INSTRUCTIONS:\n",
    "    - Carefully read the provided post context.\n",
    "    - If the query is provided, determine if the post is related to the query first. Then, determine if the post is seeking a solution to a problem, implementing a new business idea that addresses a problem or asking for advice/questions in the context of the query. Your response if YES/TRUE.\n",
    "    - If the query is not provided, determine if the post is seeking a solution to a problem, implementing a new business idea that addresses a problem or asking for advice/questions in general. Your response if YES/TRUE.\n",
    "    - Otherwise, your response if NO/FALSE.\n",
    "    - Output format is JSON object.\n",
    "\n",
    "    % CONTEXT:\n",
    "\"\"\"\n",
    "\n",
    "prompt = ChatPromptTemplate.from_messages(\n",
    "    [\n",
    "        (\"system\", system_prompt),\n",
    "        (\"human\", \"{context}\"),\n",
    "    ]\n",
    ")\n",
    "\n",
    "# llm\n",
    "llm = ChatOllama(model=\"llama3.2:3b\")\n",
    "structured_llm = llm.with_structured_output(IsProblemDecisionRoute, method=\"json_schema\")\n",
    "\n",
    "# chain\n",
    "chain = prompt | structured_llm"
   ]
  },
  {
   "cell_type": "code",
   "execution_count": 5,
   "id": "7bc346af-1d13-4d63-9ca5-fab2e968e118",
   "metadata": {},
   "outputs": [
    {
     "name": "stdout",
     "output_type": "stream",
     "text": [
      "<class '__main__.IsProblemDecisionRoute'>\n",
      "is_problem=True\n"
     ]
    }
   ],
   "source": [
    "#invoke\n",
    "query = \"lead enrichment\"\n",
    "context = \"Am currently using smartreach to build lead list, run cold email and make cold calls. The tool offers decent deliverability but lacks data enrichment capabilities. I heard a lot of influencers talking about Clay, but is it worth the cost? Are there other tools out there that could help me enrich at a much lower cost? The founder of Findlymail also confirmed that Clay offers just 2% more emails than them, so is it worth?\"\n",
    "output = chain.invoke({\n",
    "    'query': query,\n",
    "    'context': context\n",
    "})\n",
    "\n",
    "print(type(output))\n",
    "print(output)"
   ]
  }
 ],
 "metadata": {
  "kernelspec": {
   "display_name": "Python 3 (ipykernel)",
   "language": "python",
   "name": "python3"
  },
  "language_info": {
   "codemirror_mode": {
    "name": "ipython",
    "version": 3
   },
   "file_extension": ".py",
   "mimetype": "text/x-python",
   "name": "python",
   "nbconvert_exporter": "python",
   "pygments_lexer": "ipython3",
   "version": "3.9.6"
  }
 },
 "nbformat": 4,
 "nbformat_minor": 5
}
