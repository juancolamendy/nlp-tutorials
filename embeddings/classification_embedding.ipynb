{
 "cells": [
  {
   "cell_type": "code",
   "execution_count": 71,
   "id": "0bd09247-9fb8-4626-b89b-db59bf8b68e9",
   "metadata": {},
   "outputs": [],
   "source": [
    "from transformers import AutoTokenizer, AutoModel\n",
    "import torch\n",
    "\n",
    "import numpy as np\n",
    "\n",
    "import matplotlib.pyplot as plt\n",
    "\n",
    "from sklearn.manifold import TSNE"
   ]
  },
  {
   "cell_type": "code",
   "execution_count": 72,
   "id": "21a7c321-dbe6-4153-ace5-327547510134",
   "metadata": {},
   "outputs": [],
   "source": [
    "# Load pre-trained model tokenizer\n",
    "tokenizer = AutoTokenizer.from_pretrained(\"bert-base-uncased\")\n",
    "model = AutoModel.from_pretrained(\"bert-base-uncased\")"
   ]
  },
  {
   "cell_type": "code",
   "execution_count": 73,
   "id": "d148754f-eb9c-4b08-835a-4195c03f8458",
   "metadata": {},
   "outputs": [],
   "source": [
    "# functions\n",
    "def get_embedding(sentence):\n",
    "    inputs = tokenizer(sentence, return_tensors=\"pt\", padding=True, truncation=True)\n",
    "    outputs = model(**inputs)\n",
    "    # Using mean of last layer hidden states as the sentence embedding\n",
    "    return outputs.last_hidden_state.mean(dim=1).detach().numpy()\n",
    "\n",
    "def calculate_centroid(embeddings):\n",
    "    return np.mean(embeddings, axis=0)"
   ]
  },
  {
   "cell_type": "code",
   "execution_count": 74,
   "id": "22f79b9d-f829-4d0c-bd92-700dc97dcdb2",
   "metadata": {},
   "outputs": [],
   "source": [
    "# input\n",
    "# Pre-classified sentences\n",
    "concrete_sentences = [\"The cat sat on the mat.\", \"The dog barked loudly.\", \"She baked a cake.\", \"John speaks well\"]\n",
    "abstract_sentences = [\"Freedom is the right to choose.\", \"Love is eternal.\", \"Happiness is a state of mind.\", \"Freedom of speech is required\"]"
   ]
  },
  {
   "cell_type": "code",
   "execution_count": 75,
   "id": "db2bf391-06ae-47ac-85a9-990b4b054065",
   "metadata": {},
   "outputs": [],
   "source": [
    "# Getting embeddings\n",
    "concrete_embeddings = [get_embedding(sentence) for sentence in concrete_sentences]\n",
    "abstract_embeddings = [get_embedding(sentence) for sentence in abstract_sentences]"
   ]
  },
  {
   "cell_type": "code",
   "execution_count": 76,
   "id": "b151d2f6-fd86-4f09-8fff-51a7d3060196",
   "metadata": {},
   "outputs": [
    {
     "name": "stdout",
     "output_type": "stream",
     "text": [
      "<class 'list'>\n",
      "<class 'numpy.ndarray'>\n",
      "(1, 768)\n"
     ]
    }
   ],
   "source": [
    "print(type(concrete_embeddings))\n",
    "print(type(concrete_embeddings[0]))\n",
    "print(concrete_embeddings[0].shape)"
   ]
  },
  {
   "cell_type": "code",
   "execution_count": 77,
   "id": "06ca31bd-68e6-409e-ae40-a01881d3cd59",
   "metadata": {},
   "outputs": [],
   "source": [
    "# Calculating average locations (centroids)\n",
    "concrete_centroid = calculate_centroid(concrete_embeddings)\n",
    "abstract_centroid = calculate_centroid(abstract_embeddings)"
   ]
  },
  {
   "cell_type": "code",
   "execution_count": 78,
   "id": "9e731b00-9562-4be8-a0a0-85980087e68a",
   "metadata": {},
   "outputs": [
    {
     "name": "stdout",
     "output_type": "stream",
     "text": [
      "<class 'numpy.ndarray'>\n",
      "(1, 768)\n"
     ]
    }
   ],
   "source": [
    "print(type(concrete_centroid))\n",
    "print(concrete_centroid.shape)"
   ]
  },
  {
   "cell_type": "code",
   "execution_count": 79,
   "id": "3c65cc50-6cba-452d-80c8-e026046f95dc",
   "metadata": {},
   "outputs": [],
   "source": [
    "# Classifying a new sentence\n",
    "new_sentence = \"John works every day.\"\n",
    "new_embedding = get_embedding(new_sentence)"
   ]
  },
  {
   "cell_type": "code",
   "execution_count": 80,
   "id": "36dd397b-b98c-4166-95bb-95dddb9b857c",
   "metadata": {},
   "outputs": [
    {
     "name": "stdout",
     "output_type": "stream",
     "text": [
      "<class 'numpy.ndarray'>\n",
      "(1, 768)\n"
     ]
    }
   ],
   "source": [
    "print(type(new_embedding))\n",
    "print(new_embedding.shape)"
   ]
  },
  {
   "cell_type": "code",
   "execution_count": 81,
   "id": "4662c61c-b18b-4be6-b5bb-84b426f69af3",
   "metadata": {},
   "outputs": [],
   "source": [
    "# Measuring distances to the centroids\n",
    "distance_to_concrete = np.linalg.norm(new_embedding - concrete_centroid)\n",
    "distance_to_abstract = np.linalg.norm(new_embedding - abstract_centroid)"
   ]
  },
  {
   "cell_type": "code",
   "execution_count": 82,
   "id": "b9e1fcd3-a7f7-4dc8-8290-431331f53c34",
   "metadata": {},
   "outputs": [
    {
     "name": "stdout",
     "output_type": "stream",
     "text": [
      "6.462117\n",
      "7.5629873\n"
     ]
    }
   ],
   "source": [
    "print(distance_to_concrete)\n",
    "print(distance_to_abstract)"
   ]
  },
  {
   "cell_type": "code",
   "execution_count": 83,
   "id": "3ca75776-4cf3-4a65-b706-29abf4cd0671",
   "metadata": {},
   "outputs": [],
   "source": [
    "# Classification based on proximity\n",
    "if distance_to_concrete < distance_to_abstract:\n",
    "    classification = \"Concrete\"\n",
    "else:\n",
    "    classification = \"Abstract\""
   ]
  },
  {
   "cell_type": "code",
   "execution_count": 84,
   "id": "a41f7b9a-2e1e-4045-b537-41f5aad21ba4",
   "metadata": {},
   "outputs": [
    {
     "name": "stdout",
     "output_type": "stream",
     "text": [
      "Concrete\n"
     ]
    }
   ],
   "source": [
    "# print classification\n",
    "print(classification)"
   ]
  },
  {
   "cell_type": "code",
   "execution_count": 85,
   "id": "88a9c1b7-a56d-4e49-b6e2-83227bae8cee",
   "metadata": {},
   "outputs": [],
   "source": [
    "# Concatenate all embeddings\n",
    "all_embeddings = np.concatenate((concrete_embeddings, abstract_embeddings), axis=0)"
   ]
  },
  {
   "cell_type": "code",
   "execution_count": 86,
   "id": "74ac0458-bb83-4547-8367-66598bdc95e3",
   "metadata": {},
   "outputs": [
    {
     "name": "stdout",
     "output_type": "stream",
     "text": [
      "<class 'numpy.ndarray'>\n",
      "(8, 1, 768)\n"
     ]
    }
   ],
   "source": [
    "print(type(all_embeddings))\n",
    "print(all_embeddings.shape)"
   ]
  },
  {
   "cell_type": "code",
   "execution_count": 87,
   "id": "4db8606f-faf9-4fdf-9b8c-644c0ff0a32c",
   "metadata": {},
   "outputs": [],
   "source": [
    "all_embeddings = np.squeeze(all_embeddings, axis=1)"
   ]
  },
  {
   "cell_type": "code",
   "execution_count": 88,
   "id": "f1801e41-0bcb-436e-a24e-6737a3a9c3fb",
   "metadata": {},
   "outputs": [
    {
     "name": "stdout",
     "output_type": "stream",
     "text": [
      "<class 'numpy.ndarray'>\n",
      "(8, 768)\n"
     ]
    }
   ],
   "source": [
    "print(type(all_embeddings))\n",
    "print(all_embeddings.shape)"
   ]
  },
  {
   "cell_type": "code",
   "execution_count": 89,
   "id": "b4fe728f-5d37-477e-b44a-d1f7d802c2f6",
   "metadata": {},
   "outputs": [],
   "source": [
    "# Set perplexity to a value less than the number of samples\n",
    "perplexity_value = min(30, len(all_embeddings) - 1)\n",
    "\n",
    "# Apply t-SNE for dimensionality reduction\n",
    "tsne = TSNE(n_components=2, random_state=42, perplexity=perplexity_value)\n",
    "embeddings_2d = tsne.fit_transform(all_embeddings)"
   ]
  },
  {
   "cell_type": "code",
   "execution_count": 90,
   "id": "80a2f5ae-f949-438c-b8e3-9ddee3afefc8",
   "metadata": {},
   "outputs": [],
   "source": [
    "# Number of concrete and abstract sentences\n",
    "num_concrete = len(concrete_embeddings)"
   ]
  },
  {
   "cell_type": "code",
   "execution_count": 91,
   "id": "518bd3d2-321f-48b4-8005-8192300695ac",
   "metadata": {},
   "outputs": [
    {
     "data": {
      "image/png": "[encoded data removed]",
      "text/plain": [
       "<Figure size 1000x600 with 1 Axes>"
      ]
     },
     "metadata": {},
     "output_type": "display_data"
    }
   ],
   "source": [
    "# Plotting\n",
    "plt.figure(figsize=(10, 6))\n",
    "\n",
    "# Plot concrete embeddings\n",
    "plt.scatter(embeddings_2d[:num_concrete, 0], embeddings_2d[:num_concrete, 1], color='b', label='Concrete')\n",
    "\n",
    "# Plot abstract embeddings\n",
    "plt.scatter(embeddings_2d[num_concrete:, 0], embeddings_2d[num_concrete:, 1], color='r', label='Abstract')\n",
    "\n",
    "plt.title('2D t-SNE of Sentence Embeddings')\n",
    "plt.xlabel('t-SNE Dimension 1')\n",
    "plt.ylabel('t-SNE Dimension 2')\n",
    "plt.legend()\n",
    "plt.grid(True)\n",
    "plt.show()"
   ]
  }
 ],
 "metadata": {
  "kernelspec": {
   "display_name": "Python 3 (ipykernel)",
   "language": "python",
   "name": "python3"
  },
  "language_info": {
   "codemirror_mode": {
    "name": "ipython",
    "version": 3
   },
   "file_extension": ".py",
   "mimetype": "text/x-python",
   "name": "python",
   "nbconvert_exporter": "python",
   "pygments_lexer": "ipython3",
   "version": "3.9.6"
  }
 },
 "nbformat": 4,
 "nbformat_minor": 5
}
