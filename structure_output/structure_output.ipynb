{
 "cells": [
  {
   "cell_type": "code",
   "execution_count": 1,
   "id": "b79f52c5-248c-407a-a8f9-fbd03720ee46",
   "metadata": {},
   "outputs": [
    {
     "data": {
      "text/plain": [
       "True"
      ]
     },
     "execution_count": 1,
     "metadata": {},
     "output_type": "execute_result"
    }
   ],
   "source": [
    "# import load_dotenv\n",
    "from dotenv import load_dotenv\n",
    "\n",
    "# load env\n",
    "load_dotenv()"
   ]
  },
  {
   "cell_type": "code",
   "execution_count": 3,
   "id": "ff8cad4d-01e1-43ff-a00c-c16936a1aa7b",
   "metadata": {},
   "outputs": [],
   "source": [
    "# import libraries\n",
    "from langchain_anthropic import ChatAnthropic\n",
    "from pydantic import BaseModel, Field"
   ]
  },
  {
   "cell_type": "code",
   "execution_count": 4,
   "id": "e8b5eee6-b5d2-4805-8274-5973ba63f7dc",
   "metadata": {},
   "outputs": [],
   "source": [
    "# model\n",
    "class WeatherResponse(BaseModel):\n",
    "    \"\"\"Respond to the user with this\"\"\"\n",
    "    temperature: float = Field(description=\"The temperature in fahrenheit\")\n",
    "    wind_directon: str = Field(\n",
    "        description=\"The direction of the wind in abbreviated form\"\n",
    "    )\n",
    "    wind_speed: float = Field(description=\"The speed of the wind in km/h\")"
   ]
  },
  {
   "cell_type": "code",
   "execution_count": 6,
   "id": "24543551-7009-4773-b82a-88b5ba108d06",
   "metadata": {},
   "outputs": [],
   "source": [
    "model = ChatAnthropic(model=\"claude-3-5-sonnet-20240620\")\n",
    "model_with_structured_output = model.with_structured_output(WeatherResponse)"
   ]
  },
  {
   "cell_type": "code",
   "execution_count": 7,
   "id": "4fb7400b-18fe-492a-b0b6-072a34db7fbf",
   "metadata": {},
   "outputs": [],
   "source": [
    "response = model_with_structured_output.invoke(\"The weather in SF is 75 degrees and sunny in SF, with 3 mph winds in the South-East direction\")"
   ]
  },
  {
   "cell_type": "code",
   "execution_count": 8,
   "id": "48c15837-2c54-44e3-8935-5632d07472d4",
   "metadata": {},
   "outputs": [
    {
     "name": "stdout",
     "output_type": "stream",
     "text": [
      "<class '__main__.WeatherResponse'>\n"
     ]
    }
   ],
   "source": [
    "print(type(response))"
   ]
  },
  {
   "cell_type": "code",
   "execution_count": 9,
   "id": "24b19f29-063e-4eb4-8aa4-c98ff5732f73",
   "metadata": {},
   "outputs": [
    {
     "name": "stdout",
     "output_type": "stream",
     "text": [
      "temperature=75.0 wind_directon='SE' wind_speed=4.83\n"
     ]
    }
   ],
   "source": [
    "print(response)"
   ]
  },
  {
   "cell_type": "code",
   "execution_count": 10,
   "id": "88d169ea-6403-432d-8158-10d226e00419",
   "metadata": {},
   "outputs": [],
   "source": [
    "from langchain_core.pydantic_v1 import BaseModel, Field\n",
    "from langchain_openai import ChatOpenAI\n",
    "from langchain_core.prompts import ChatPromptTemplate\n",
    "\n",
    "# Instantiate the LLM model\n",
    "model = ChatOpenAI(model=\"gpt-4o-mini\", temperature=0)\n",
    "\n",
    "class Trivia(BaseModel):\n",
    "    question: str = Field(description=\"The trivia question\")\n",
    "    answer: str = Field(description=\"The correct answer to the trivia question\")\n",
    "\n",
    "# Define the prompt template\n",
    "prompt = ChatPromptTemplate.from_template(\n",
    "    \"Give me a trivia question about {topic}, respond in JSON with `question` and `answer` keys\"\n",
    ")\n",
    "\n",
    "# Create a structured LLM using the `with_structured_output` method\n",
    "structured_llm = model.with_structured_output(Trivia, method=\"json_mode\")\n",
    "\n",
    "# Chain the prompt and structured LLM using the pipe operator\n",
    "trivia_chain = prompt | structured_llm"
   ]
  },
  {
   "cell_type": "code",
   "execution_count": 11,
   "id": "33838c39-afc2-4e81-82da-cc31928d5d87",
   "metadata": {},
   "outputs": [],
   "source": [
    "result = trivia_chain.invoke({\"topic\": \"space\"})"
   ]
  },
  {
   "cell_type": "code",
   "execution_count": 12,
   "id": "fe810ff2-0ea1-4bbc-91ea-411d4fab1815",
   "metadata": {},
   "outputs": [
    {
     "name": "stdout",
     "output_type": "stream",
     "text": [
      "<class '__main__.Trivia'>\n"
     ]
    }
   ],
   "source": [
    "print(type(result))"
   ]
  },
  {
   "cell_type": "code",
   "execution_count": 13,
   "id": "7107e067-bbf1-4ce1-af5e-f62bb7a1211c",
   "metadata": {},
   "outputs": [
    {
     "name": "stdout",
     "output_type": "stream",
     "text": [
      "question='What is the largest planet in our solar system?' answer='Jupiter'\n"
     ]
    }
   ],
   "source": [
    "print(result)"
   ]
  },
  {
   "cell_type": "code",
   "execution_count": 15,
   "id": "ea114f1f-33ec-48f6-99ac-dc7bb25e09b1",
   "metadata": {},
   "outputs": [
    {
     "name": "stdout",
     "output_type": "stream",
     "text": [
      "System: Answer the user query. Wrap the output in `json` tags\n",
      "The output should be formatted as a JSON instance that conforms to the JSON schema below.\n",
      "\n",
      "As an example, for the schema {\"properties\": {\"foo\": {\"title\": \"Foo\", \"description\": \"a list of strings\", \"type\": \"array\", \"items\": {\"type\": \"string\"}}}, \"required\": [\"foo\"]}\n",
      "the object {\"foo\": [\"bar\", \"baz\"]} is a well-formatted instance of the schema. The object {\"properties\": {\"foo\": [\"bar\", \"baz\"]}} is not well-formatted.\n",
      "\n",
      "Here is the output schema:\n",
      "```\n",
      "{\"description\": \"Details about all books in a collection.\", \"properties\": {\"books\": {\"title\": \"Books\", \"type\": \"array\", \"items\": {\"$ref\": \"#/definitions/Book\"}}}, \"required\": [\"books\"], \"definitions\": {\"Book\": {\"title\": \"Book\", \"description\": \"Information about a book.\", \"type\": \"object\", \"properties\": {\"title\": {\"title\": \"Title\", \"description\": \"The title of the book\", \"type\": \"string\"}, \"pages\": {\"title\": \"Pages\", \"description\": \"The number of pages in the book.\", \"type\": \"integer\"}}, \"required\": [\"title\", \"pages\"]}}}\n",
      "```\n",
      "Human: Please provide details about the books 'The Great Gatsby' with 208 pages and 'To Kill a Mockingbird' with 384 pages.\n"
     ]
    }
   ],
   "source": [
    "from typing import List\n",
    "\n",
    "from langchain_core.output_parsers import PydanticOutputParser\n",
    "from langchain_core.prompts import ChatPromptTemplate\n",
    "from langchain_core.pydantic_v1 import BaseModel, Field\n",
    "\n",
    "class Book(BaseModel):\n",
    "    \"\"\"Information about a book.\"\"\"\n",
    "\n",
    "    title: str = Field(..., description=\"The title of the book\")\n",
    "    pages: int = Field(\n",
    "        ..., description=\"The number of pages in the book.\"\n",
    "    )\n",
    "\n",
    "\n",
    "class Library(BaseModel):\n",
    "    \"\"\"Details about all books in a collection.\"\"\"\n",
    "\n",
    "    books: List[Book]\n",
    "\n",
    "\n",
    "# Set up a parser\n",
    "parser = PydanticOutputParser(pydantic_object=Library)\n",
    "\n",
    "# Prompt\n",
    "prompt = ChatPromptTemplate.from_messages(\n",
    "    [\n",
    "        (\n",
    "            \"system\",\n",
    "            \"Answer the user query. Wrap the output in `json` tags\\n{format_instructions}\",\n",
    "        ),\n",
    "        (\"human\", \"{query}\"),\n",
    "    ]\n",
    ").partial(format_instructions=parser.get_format_instructions())\n",
    "\n",
    "# Query\n",
    "query = \"Please provide details about the books 'The Great Gatsby' with 208 pages and 'To Kill a Mockingbird' with 384 pages.\"\n",
    "\n",
    "# Print the prompt and output schema\n",
    "print(prompt.invoke(query).to_string())"
   ]
  },
  {
   "cell_type": "code",
   "execution_count": 16,
   "id": "fd40d713-af65-4eb9-9250-33e7c043ffb0",
   "metadata": {},
   "outputs": [],
   "source": [
    "from langchain_openai import ChatOpenAI\n",
    "\n",
    "llm = ChatOpenAI(temperature=0)\n",
    "chain = prompt | llm | parser"
   ]
  },
  {
   "cell_type": "code",
   "execution_count": 17,
   "id": "2e82e373-ed05-4d7a-bff8-b736a3f98dd5",
   "metadata": {},
   "outputs": [],
   "source": [
    "result = chain.invoke({\"query\": query})"
   ]
  },
  {
   "cell_type": "code",
   "execution_count": 18,
   "id": "1058757d-43a9-439f-90f8-4caa56bbb2ea",
   "metadata": {},
   "outputs": [
    {
     "data": {
      "text/plain": [
       "Library(books=[Book(title='The Great Gatsby', pages=208), Book(title='To Kill a Mockingbird', pages=384)])"
      ]
     },
     "execution_count": 18,
     "metadata": {},
     "output_type": "execute_result"
    }
   ],
   "source": [
    "result"
   ]
  }
 ],
 "metadata": {
  "kernelspec": {
   "display_name": "Python 3 (ipykernel)",
   "language": "python",
   "name": "python3"
  },
  "language_info": {
   "codemirror_mode": {
    "name": "ipython",
    "version": 3
   },
   "file_extension": ".py",
   "mimetype": "text/x-python",
   "name": "python",
   "nbconvert_exporter": "python",
   "pygments_lexer": "ipython3",
   "version": "3.9.6"
  }
 },
 "nbformat": 4,
 "nbformat_minor": 5
}
